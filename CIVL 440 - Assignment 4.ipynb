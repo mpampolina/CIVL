{
 "cells": [
  {
   "cell_type": "markdown",
   "metadata": {},
   "source": [
    "# CIVL 440 - Assignment 4\n",
    "Name: Miguel Pampolina\\\n",
    "Date: Nov 13, 2022"
   ]
  },
  {
   "cell_type": "code",
   "execution_count": 1,
   "metadata": {},
   "outputs": [],
   "source": [
    "import numpy as np\n",
    "import pandas as pd\n",
    "import math\n",
    "from icecream import ic"
   ]
  },
  {
   "cell_type": "markdown",
   "metadata": {},
   "source": [
    "### 1. Intersection Parameters"
   ]
  },
  {
   "cell_type": "markdown",
   "metadata": {},
   "source": [
    "Notes:\n",
    "- No adjustment factor has been made with respect to the lane width, as all lanes have a width of 4m which is between the threshold levels of 3m to 4.4m. (see pg. 3-33 / pg. 53)\n",
    "- No adjustment factor has been made with respect to the grade of the intersection as the 1% grade of the intersection of interest is between the threshold levels of +2% to -2%. (see pg. 3-34 / pg. 54)\n",
    "- No adjustment factor has been made with respect to the curb radii, as all approaches have a radii of of 16m which is greater than 15m threshold. (see pg. 3-35 / pg. 55)\n",
    "- No adjustment factor has been made with respect to buses, as all bus stops are located at downstream intersections. (see pg. 3-38 / pg. 58)"
   ]
  },
  {
   "cell_type": "code",
   "execution_count": 2,
   "metadata": {},
   "outputs": [],
   "source": [
    "# Intersection parameters\n",
    "# Demands in pcu/hr\n",
    "DEMANDS = {\n",
    "    \"nb\":{\n",
    "        \"LT\": 350,\n",
    "        \"TH\": 208,\n",
    "        \"RT\": 50,\n",
    "        \"PED\": 120,\n",
    "    },\n",
    "    \"eb\":{\n",
    "        \"LT\": 150,\n",
    "        \"TH\": 162,\n",
    "        \"RT\": 215,\n",
    "        \"PED\": 100\n",
    "    },\n",
    "    \"sb\":{\n",
    "        \"LT\": 350,\n",
    "        \"TH\": 216,\n",
    "        \"RT\": 200,\n",
    "        \"PED\": 30\n",
    "    },\n",
    "    \"wb\":{\n",
    "        \"LT\": 180,\n",
    "        \"TH\": 210,\n",
    "        \"RT\": 250,\n",
    "        \"PED\": 50\n",
    "    }\n",
    "}\n",
    "LANE_CONFIG = {\n",
    "    \"nb\": [\"LT\", \"TH-RT\"],\n",
    "    \"eb\": [\"LT\", \"TH-RT\"],\n",
    "    \"sb\": [\"LT\", \"TH-RT\"],\n",
    "    \"wb\": [\"LT\", \"TH-RT\"]\n",
    "}\n",
    "# Receiving lanes by approach\n",
    "RE_LN = {\n",
    "    \"s\": 1,\n",
    "    \"w\": 1,\n",
    "    \"n\": 1,\n",
    "    \"e\": 1\n",
    "}\n",
    "CUR_RAD = 16 #metres\n",
    "GRADE = 0 # FIXME\n",
    "ON_STREET_PARKING = False\n",
    "RTOR = False\n",
    "S0 = 1650 #pcu/hr\n",
    "C_INITIAL = 120 #s\n",
    "PED_SPEED = 1.2 #m/s"
   ]
  },
  {
   "cell_type": "markdown",
   "metadata": {},
   "source": [
    "### 2. Intersection Independent Parameters"
   ]
  },
  {
   "cell_type": "code",
   "execution_count": 3,
   "metadata": {},
   "outputs": [],
   "source": [
    "# Intersection Independent Parameters\n",
    "# Left-turn opposing movements\n",
    "LT_OPPOSE_MVMT = [\"TH\", \"RT\"]\n",
    "# Opposing directions lookup\n",
    "OPPOSE_DIR = {\n",
    "    \"nb\": \"sb\",\n",
    "    \"sb\": \"nb\",\n",
    "    \"eb\": \"wb\",\n",
    "    \"wb\": \"eb\"\n",
    "}\n",
    "# Left-turn movement direction to receiving approach lookup\n",
    "LT_RE_LN = {\n",
    "    \"nb\": \"w\",\n",
    "    \"sb\": \"e\", \n",
    "    \"eb\": \"n\",\n",
    "    \"wb\": \"s\"\n",
    "}"
   ]
  },
  {
   "cell_type": "markdown",
   "metadata": {},
   "source": [
    "### 3. Phasing Functions"
   ]
  },
  {
   "cell_type": "code",
   "execution_count": 4,
   "metadata": {},
   "outputs": [],
   "source": [
    "def getLanes(laneConfig, dir, mvmt, opposing):\n",
    "    count = 0\n",
    "    analysis_dir = dir\n",
    "    if opposing:\n",
    "        analysis_dir = OPPOSE_DIR[dir]\n",
    "        for lane in laneConfig[analysis_dir]:\n",
    "            if \"TH\" in lane:\n",
    "                count += 1\n",
    "            elif \"RT\" in lane:\n",
    "                count += 1\n",
    "    else:\n",
    "        for lane in laneConfig[analysis_dir]:\n",
    "            if mvmt in lane:\n",
    "                count += 1\n",
    "    return count"
   ]
  },
  {
   "cell_type": "code",
   "execution_count": 5,
   "metadata": {},
   "outputs": [],
   "source": [
    "# Table 3-4: Number of cross-street lanes available for waiting vehicles; Quantity in pcu that can discharge during one intergreen period.\n",
    "X_LTOI = {\n",
    "    1: 0.75,\n",
    "    2: 1.5,\n",
    "    3: 2.5\n",
    "}\n",
    "'''\n",
    "Returns the quantity of pcus per hour that complete the left turn in the intergreen period\n",
    "    Parameters:\n",
    "            rec_lanes (float): Number of receiving lanes\n",
    "            c (float): Cycle length\n",
    "    Returns:\n",
    "            q_ltoi (float): Quantity of left turns of intergreen (pcu/hr)\n",
    "'''\n",
    "def get_flowLTOI(rec_lanes, c):\n",
    "    return (3600/c) * X_LTOI[rec_lanes]"
   ]
  },
  {
   "cell_type": "code",
   "execution_count": 6,
   "metadata": {},
   "outputs": [],
   "source": [
    "# Table 3-16: Effect of Number of Lanes on Permissive Left-Turn Saturation Flow Rate\n",
    "F_OPP = {\n",
    "    1: 1,\n",
    "    2: 0.625,\n",
    "    3: 0.51,\n",
    "    4: 0.44\n",
    "}\n",
    "'''\n",
    "Returns the saturation flow of the left-turn permissive phase in pcu/hr.\n",
    "    Parameters:\n",
    "            dir (str): Movement direction (e.g. \"nb\")\n",
    "            demands (dict): Demands for all movements\n",
    "            laneConfig (dict): Lane configuration\n",
    "            c (float): cycle length\n",
    "            g: green time for the current phase\n",
    "            s0: base saturation flow rate\n",
    "    Returns:\n",
    "            satFlowPermLT (float): saturation flow of the left-turn permissive phase (pcu/hr)\n",
    "'''\n",
    "def get_satFlowPermLT(dir, demands, laneConfig, c, g, s0):\n",
    "    opposingDirection = OPPOSE_DIR[dir]\n",
    "    # FIXME This would technically be dependent on the number of receiving lanes\n",
    "    opposingDemand = demands[opposingDirection].get(\"RT\", 0) + demands[opposingDirection].get(\"TH\", 0)\n",
    "    opposingDemandPeds = demands[opposingDirection].get(\"PED\", 0)\n",
    "    # FIXME Pedestrian F-factor\n",
    "    q0 = (F_OPP[getLanes(laneConfig, dir, \"LT\", True)]*opposingDemand*(c/g))+(opposingDemandPeds*(c/g))\n",
    "    return s0*(1.05*np.exp(-0.00121*q0)-0.05)"
   ]
  },
  {
   "cell_type": "code",
   "execution_count": 7,
   "metadata": {},
   "outputs": [],
   "source": [
    "def get_satFlowTHLT(dir, demands, s0, satFlowPermLT):\n",
    "    Klt = s0/satFlowPermLT\n",
    "    Fthlt = (demands[dir].get(\"LT\", 0) + demands[dir].get(\"TH\", 0))/(Klt * demands[dir].get(\"LT\", 0) + demands[dir].get(\"TH\", 0))\n",
    "    return s0 * Fthlt"
   ]
  },
  {
   "cell_type": "code",
   "execution_count": 8,
   "metadata": {},
   "outputs": [],
   "source": [
    "# Note: This does not account for lane configurations with a through lane + a through right lane\n",
    "def get_satFlowTHRT(dir, demands, c, g, s0):\n",
    "    qPrimePed = demands[dir].get(\"PED\", 0)*(c/g)\n",
    "    if qPrimePed <= 200:\n",
    "        FRPed = 1\n",
    "    else:\n",
    "        FRPed = 0.44-qPrimePed/14100 # Vancouver\n",
    "    satFlowRT = s0 * FRPed\n",
    "    Kr = s0/satFlowRT\n",
    "    Fthrt = (demands[dir].get(\"TH\", 0) + demands[dir].get(\"RT\", 0))/(Kr * demands[dir].get(\"RT\", 0) + demands[dir].get(\"TH\", 0))\n",
    "    return s0 * Fthrt"
   ]
  },
  {
   "cell_type": "code",
   "execution_count": 9,
   "metadata": {},
   "outputs": [],
   "source": [
    "def get_yCritLT(dir, mvmt, arrow, demands, laneConfig, rec_lanes, c, g_perm, s0, prot):\n",
    "    satFlowPermLT = get_satFlowPermLT(dir, demands, laneConfig, c, g_perm, s0)\n",
    "    satFlowTHLT = get_satFlowTHLT(dir, demands, s0, satFlowPermLT)\n",
    "    flowLTOI = get_flowLTOI(rec_lanes, c)\n",
    "    satFlow = s0\n",
    "    if arrow == \"LT\" and prot:\n",
    "        return (demands[dir][mvmt] - flowLTOI - satFlowPermLT*(g_perm/c)) / satFlow\n",
    "    elif arrow == \"LT\" and not prot:\n",
    "        return (demands[dir][mvmt] - flowLTOI) / satFlowPermLT\n",
    "    elif arrow == \"LT-TH\" or arrow == \"LT-TH-TR\":\n",
    "        return (demands[dir].get(\"LT\", 0) + demands[dir].get(\"TH\", 0)) / satFlowTHLT"
   ]
  },
  {
   "cell_type": "code",
   "execution_count": 10,
   "metadata": {},
   "outputs": [],
   "source": [
    "def get_yCritTHRT(dir, demands, c, g, s0):\n",
    "    return (demands[dir].get(\"TH\", 0) + demands[dir].get(\"RT\", 0)) / get_satFlowTHRT(dir, demands, c, g, s0)"
   ]
  },
  {
   "cell_type": "code",
   "execution_count": 11,
   "metadata": {},
   "outputs": [],
   "source": [
    "# !Custom Function (alter if changing the phasing structure)\n",
    "def four_phase_plan(c, g1, g2, g3, g4, num_phase=4):\n",
    "    for _ in range(1000):\n",
    "        yCritLT_EB = get_yCritLT(\"eb\", \"LT\", \"LT\", DEMANDS, LANE_CONFIG, RE_LN[LT_RE_LN[\"eb\"]], c, g1, S0, True)\n",
    "        yCritLT_WB = get_yCritLT(\"wb\", \"LT\", \"LT\", DEMANDS, LANE_CONFIG, RE_LN[LT_RE_LN[\"wb\"]], c, g1, S0, True)\n",
    "        y1Max = max(yCritLT_EB, yCritLT_WB)\n",
    "        yCritTH_EB = get_yCritTHRT(\"eb\", DEMANDS, c, g2, S0)\n",
    "        yCritTH_WB = get_yCritTHRT(\"wb\", DEMANDS, c, g2, S0)\n",
    "        y2Max = max(yCritTH_EB, yCritTH_WB)\n",
    "        yCritLT_NB = get_yCritLT(\"nb\", \"LT\", \"LT\", DEMANDS, LANE_CONFIG, RE_LN[LT_RE_LN[\"nb\"]], c, g3, S0, True)\n",
    "        yCritLT_SB = get_yCritLT(\"sb\", \"LT\", \"LT\", DEMANDS, LANE_CONFIG, RE_LN[LT_RE_LN[\"sb\"]], c, g3, S0, True)\n",
    "        y3Max = max(yCritLT_NB, yCritLT_SB)\n",
    "        yCritTH_NB = get_yCritTHRT(\"nb\", DEMANDS, c, g4, S0)\n",
    "        yCritTH_SB = get_yCritTHRT(\"sb\", DEMANDS, c, g4, S0)\n",
    "        y4Max = max(yCritTH_NB, yCritTH_SB)\n",
    "        Y = y1Max + y2Max + y3Max + y4Max\n",
    "        lostTime = num_phase * (3 + 1 - 1)\n",
    "        Copt = (1.5*lostTime+5)/(1-Y)\n",
    "        G = Copt - (num_phase*(3+1))\n",
    "        Cmin = lostTime/(1-Y)\n",
    "        g1_sug = (y1Max/Y)*G\n",
    "        g2_sug = (y2Max/Y)*G\n",
    "        g3_sug = (y3Max/Y)*G\n",
    "        g4_sug = (y4Max/Y)*G\n",
    "        g1 = g1_sug\n",
    "        g2 = g2_sug\n",
    "        g3 = g3_sug\n",
    "        g4 = g4_sug\n",
    "        c = Copt\n",
    "    ic(\"Protected Left Turns EW:\")\n",
    "    ic(yCritLT_EB)\n",
    "    ic(yCritLT_WB)\n",
    "    ic(\"Protected Through EW:\")\n",
    "    ic(yCritTH_EB)\n",
    "    ic(yCritTH_WB)\n",
    "    ic(\"Protected Left Turns NS:\")\n",
    "    ic(yCritLT_NB)\n",
    "    ic(yCritLT_SB)\n",
    "    ic(\"Protect Through NS:\")\n",
    "    ic(yCritTH_NB)\n",
    "    ic(yCritTH_SB)\n",
    "    ic(\"Sum Y:\")\n",
    "    ic(Y)\n",
    "    ic(g1)\n",
    "    ic(g2)\n",
    "    ic(g3)\n",
    "    ic(g4)\n",
    "    ic(g1_sug)\n",
    "    ic(g2_sug)\n",
    "    ic(g3_sug)\n",
    "    ic(g4_sug)\n",
    "    ic(Cmin)"
   ]
  },
  {
   "cell_type": "code",
   "execution_count": 12,
   "metadata": {},
   "outputs": [],
   "source": [
    "# !Custom Function (alter if changing the phasing structure)\n",
    "def three_phase_plan(c, g1, g2, g3, num_phase=3):\n",
    "    for _ in range(1000):\n",
    "        yCritLT_EB = get_yCritLT(\"eb\", \"LT\", \"LT\", DEMANDS, LANE_CONFIG, RE_LN[LT_RE_LN[\"eb\"]], c, g1, S0, False)\n",
    "        yCritLT_WB = get_yCritLT(\"wb\", \"LT\", \"LT\", DEMANDS, LANE_CONFIG, RE_LN[LT_RE_LN[\"wb\"]], c, g1, S0, False)\n",
    "        yCritTH_EB = get_yCritTHRT(\"eb\", DEMANDS, c, g1, S0)\n",
    "        yCritTH_WB = get_yCritTHRT(\"wb\", DEMANDS, c, g1, S0)\n",
    "        y1Max = max(yCritLT_EB, yCritLT_WB, yCritTH_EB, yCritTH_WB)\n",
    "        yCritLT_NB = get_yCritLT(\"nb\", \"LT\", \"LT\", DEMANDS, LANE_CONFIG, RE_LN[LT_RE_LN[\"nb\"]], c, g2, S0, True)\n",
    "        yCritLT_SB = get_yCritLT(\"sb\", \"LT\", \"LT\", DEMANDS, LANE_CONFIG, RE_LN[LT_RE_LN[\"sb\"]], c, g2, S0, True)\n",
    "        y2Max = max(yCritLT_NB, yCritLT_SB)\n",
    "        yCritTH_NB = get_yCritTHRT(\"nb\", DEMANDS, c, g3, S0)\n",
    "        yCritTH_SB = get_yCritTHRT(\"sb\", DEMANDS, c, g3, S0)\n",
    "        y3Max = max(yCritTH_NB, yCritTH_SB)\n",
    "        Y = y1Max + y2Max + y3Max\n",
    "        lostTime = num_phase * (3 + 1 - 1)\n",
    "        Copt = (1.5*lostTime+5)/(1-Y)\n",
    "        G = Copt - (3*(3+1))\n",
    "        Cmin = lostTime/(1-Y)\n",
    "        g1_sug = (y1Max/Y)*G\n",
    "        g2_sug = (y2Max/Y)*G\n",
    "        g3_sug = (y3Max/Y)*G\n",
    "        g1 = g1_sug\n",
    "        g2 = g2_sug\n",
    "        g3 = g3_sug\n",
    "        c = Copt\n",
    "    ic(\"Protected Left Turns & Through EW:\")\n",
    "    ic(yCritLT_EB)\n",
    "    ic(yCritLT_WB)\n",
    "    ic(yCritTH_EB)\n",
    "    ic(yCritTH_WB)\n",
    "    ic(\"Protected Left Turns NS:\")\n",
    "    ic(yCritLT_NB)\n",
    "    ic(yCritLT_SB)\n",
    "    ic(\"Protected Through NS:\")\n",
    "    ic(yCritTH_NB)\n",
    "    ic(yCritTH_SB)\n",
    "    ic(\"Sum Y:\")\n",
    "    ic(Y)\n",
    "    ic(g1)\n",
    "    ic(g2)\n",
    "    ic(g3)\n",
    "    ic(c)\n",
    "    ic(g1_sug)\n",
    "    ic(g2_sug)\n",
    "    ic(g3_sug)\n",
    "    ic(Cmin)"
   ]
  },
  {
   "cell_type": "markdown",
   "metadata": {},
   "source": [
    "### 4. Delay Functions"
   ]
  },
  {
   "cell_type": "code",
   "execution_count": 13,
   "metadata": {},
   "outputs": [],
   "source": [
    "def delay_to_los(delay):\n",
    "    if delay < 10:\n",
    "        return \"A\"\n",
    "    elif delay > 10 and delay <= 20:\n",
    "        return \"B\"\n",
    "    elif delay > 20 and delay <= 35:\n",
    "        return \"C\"\n",
    "    elif delay > 35 and delay <= 55:\n",
    "        return \"D\"\n",
    "    elif delay > 55 and delay <= 80:\n",
    "        return \"E\"\n",
    "    else:\n",
    "        return \"F\""
   ]
  },
  {
   "cell_type": "code",
   "execution_count": 14,
   "metadata": {},
   "outputs": [],
   "source": [
    "def get_delay(satFlow, flowLTOI, demand, c, g, te, FLane=1):\n",
    "    capacity = (satFlow * (g/c)) + flowLTOI\n",
    "    x1 = min(FLane, (demand/capacity))\n",
    "    d1 = (c*(1-g/c)**2)/(2*(1-x1*(g/c)))\n",
    "    d2 = 15*te*((x1-1)+math.sqrt((1-x1)**2+((240*x1)/(capacity*te))))\n",
    "    return d1 + d2"
   ]
  },
  {
   "cell_type": "markdown",
   "metadata": {},
   "source": [
    "### 5. Pedestrian Clearance Time\n",
    "- For all through movements, the walk interval will be 10s in accordance with the minimums described by the CCGSI (see pg. 3-69 / pg. 89)\n",
    "- FDW intervals for the through movements are calculated as follows (see pg. 3-70 / pg. 90)"
   ]
  },
  {
   "cell_type": "code",
   "execution_count": 15,
   "metadata": {},
   "outputs": [
    {
     "name": "stdout",
     "output_type": "stream",
     "text": [
      "Four Phase Structure:\n",
      "Min Pedestrian Clearance Phase 2 [eb-wb]: 22.5s\n",
      "Min Pedestrian Clearance Phase 4 [nb-sb]: 22.5s\n",
      "\n",
      "Three Phase Structure:\n",
      "Min Pedestrian Clearance Phase 1 [eb-wb]: 22.5s\n",
      "Min Pedestrian Clearance Phase 3 [nb-sb]: 22.5s\n"
     ]
    }
   ],
   "source": [
    "w = 10 #s\n",
    "ebFDW = 12/PED_SPEED #s\n",
    "wbFDW = 15/PED_SPEED #s\n",
    "nbFDW = 15/PED_SPEED #s\n",
    "sbFDW = 12/PED_SPEED #s\n",
    "print(\"Four Phase Structure:\")\n",
    "print(f\"Min Pedestrian Clearance Phase 2 [eb-wb]: {w + max(ebFDW, wbFDW)}s\")\n",
    "print(f\"Min Pedestrian Clearance Phase 4 [nb-sb]: {w + max(nbFDW, sbFDW)}s\")\n",
    "print(\"\\nThree Phase Structure:\")\n",
    "print(f\"Min Pedestrian Clearance Phase 1 [eb-wb]: {w + max(ebFDW, wbFDW)}s\")\n",
    "print(f\"Min Pedestrian Clearance Phase 3 [nb-sb]: {w + max(nbFDW, sbFDW)}s\")"
   ]
  },
  {
   "cell_type": "markdown",
   "metadata": {},
   "source": [
    "### 6. 4-Phase Signal Timing Plan - Divergent Solution"
   ]
  },
  {
   "cell_type": "code",
   "execution_count": 16,
   "metadata": {},
   "outputs": [
    {
     "name": "stderr",
     "output_type": "stream",
     "text": [
      "ic| 'Protected Left Turns EW:'\n",
      "ic| yCritLT_EB: 0.09433124544984572\n",
      "ic| yCritLT_WB: 0.1122979014323676\n",
      "ic| 'Protected Through EW:'\n",
      "ic| yCritTH_EB: 0.4064583171469009\n",
      "ic| yCritTH_WB: 0.2787878787878788\n",
      "ic| 'Protected Left Turns NS:'\n",
      "ic| yCritLT_NB: 0.20485116670504597\n",
      "ic| yCritLT_SB: 0.19708136538725096\n",
      "ic| 'Protect Through NS:'\n",
      "ic| yCritTH_NB: 0.20060726455253333\n",
      "ic| yCritTH_SB: 0.25212121212121213\n",
      "ic| 'Sum Y:'\n",
      "ic| Y: 0.9757285974055265\n",
      "ic| g1: 107.22106885895785\n",
      "ic| g2: 388.08289963771915\n",
      "ic| g3: 195.59012920956334\n",
      "ic| g4: 240.72316134895087\n",
      "ic| g1_sug: 107.22106885895785\n",
      "ic| g2_sug: 388.08289963771915\n",
      "ic| g3_sug: 195.59012920956334\n",
      "ic| g4_sug: 240.72316134895087\n",
      "ic| Cmin: 494.40900472444747\n"
     ]
    }
   ],
   "source": [
    "four_phase_plan(120, 19, 61, 20, 20)"
   ]
  },
  {
   "cell_type": "markdown",
   "metadata": {},
   "source": [
    "### 7. 3-phase Signal Timing Plan - Convergent Solution"
   ]
  },
  {
   "cell_type": "code",
   "execution_count": 17,
   "metadata": {},
   "outputs": [
    {
     "name": "stderr",
     "output_type": "stream",
     "text": [
      "ic| 'Protected Left Turns & Through EW:'\n",
      "ic| yCritLT_EB: 0.3676896488051088\n",
      "ic| yCritLT_WB: 0.40527020080099607\n",
      "ic| yCritTH_EB: 0.4053084882636943\n",
      "ic| yCritTH_WB: 0.2787878787878788\n",
      "ic| 'Protected Left Turns NS:'\n",
      "ic| yCritLT_NB: 0.19623257833600793\n",
      "ic| yCritLT_SB: 0.18876902191827502\n",
      "ic| 'Protected Through NS:'\n",
      "ic| yCritTH_NB: 0.2003573421147779\n",
      "ic| yCritTH_SB: 0.25212121212121213\n",
      "ic| 'Sum Y:'\n",
      "ic| Y: 0.8536622787209145\n",
      "ic| g1: 54.325179408869886\n",
      "ic| g2: 26.30186717686774\n",
      "ic| g3: 33.79285279699252\n",
      "ic| c: 126.41989938273016\n",
      "ic| g1_sug: 54.325179408869886\n",
      "ic| g2_sug: 26.30186717686774\n",
      "ic| g3_sug: 33.79285279699252\n",
      "ic| Cmin: 61.501572672679536\n"
     ]
    }
   ],
   "source": [
    "three_phase_plan(120, 36, 36, 36)"
   ]
  },
  {
   "cell_type": "code",
   "execution_count": 18,
   "metadata": {},
   "outputs": [
    {
     "data": {
      "text/plain": [
       "126"
      ]
     },
     "execution_count": 18,
     "metadata": {},
     "output_type": "execute_result"
    }
   ],
   "source": [
    "54+26+34+12"
   ]
  },
  {
   "cell_type": "code",
   "execution_count": 19,
   "metadata": {},
   "outputs": [],
   "source": [
    "# !Custom Function (alter if changing the phasing structure)\n",
    "def get_averageDelayThreePhase(phaseList, c, s0, demands, laneConfig, te, gPerm):\n",
    "    for i, phase in enumerate(phaseList, 1):\n",
    "        df = {}\n",
    "        for mvmt, dir, g, row, in phase:\n",
    "            if mvmt == \"LT\":\n",
    "                satFlow = get_satFlowPermLT(dir, demands, laneConfig, c, g, s0)\n",
    "                flowLTOI = get_flowLTOI(RE_LN[LT_RE_LN[dir]], c)  \n",
    "                if row == \"PermOnly\":\n",
    "                    demand = demands[dir].get(\"LT\", 0)\n",
    "                elif row == \"Prot\":\n",
    "                    demand = demands[dir].get(\"LT\", 0) - flowLTOI - satFlow * (gPerm/c)\n",
    "                    satFlow = s0\n",
    "                elif row == \"Perm\":\n",
    "                    demand = satFlow * g/c\n",
    "            elif mvmt == \"TH-RT\":\n",
    "                satFlow = get_satFlowTHRT(dir, demands, c, g, s0)\n",
    "                flowLTOI = 0\n",
    "                demand = demands[dir].get(\"TH\", 0) + demands[dir].get(\"RT\", 0)\n",
    "            df[f\"{dir}-{mvmt}\"] = [round(get_delay(satFlow, flowLTOI, demand, c, g, te), 1)]\n",
    "        print(f\"Phase ({i}) Delay in seconds:\")\n",
    "        print(pd.DataFrame(df, index=[\"Delay (s)\"]))\n"
   ]
  },
  {
   "cell_type": "code",
   "execution_count": 20,
   "metadata": {},
   "outputs": [],
   "source": [
    "phaseList = [\n",
    "    [(\"LT\", \"eb\", 54, \"PermOnly\"), (\"TH-RT\", \"eb\", 54, \"Prot\"), (\"LT\", \"wb\", 54,  \"PermOnly\"), (\"TH-RT\", \"wb\", 54, \"Prot\")],\n",
    "    [(\"LT\", \"nb\", 26, \"Prot\"), (\"LT\", \"sb\", 26, \"Prot\")],\n",
    "    [(\"LT\", \"nb\", 34, \"Perm\"), (\"TH-RT\", \"nb\", 34, \"Prot\"), (\"LT\", \"sb\", 34, \"Perm\"), (\"TH-RT\", \"sb\", 34, \"Prot\")]\n",
    "]"
   ]
  },
  {
   "cell_type": "code",
   "execution_count": 21,
   "metadata": {},
   "outputs": [
    {
     "name": "stdout",
     "output_type": "stream",
     "text": [
      "Phase (1) Delay in seconds:\n",
      "           eb-LT  eb-TH-RT  wb-LT  wb-TH-RT\n",
      "Delay (s)  118.9      86.9  170.5      33.2\n",
      "Phase (2) Delay in seconds:\n",
      "           nb-LT  sb-LT\n",
      "Delay (s)   79.0   70.3\n",
      "Phase (3) Delay in seconds:\n",
      "           nb-LT  nb-TH-RT  sb-LT  sb-TH-RT\n",
      "Delay (s)   91.8      56.4   98.0      87.3\n"
     ]
    }
   ],
   "source": [
    "get_averageDelayThreePhase(phaseList, 126, S0, DEMANDS, LANE_CONFIG, 60, 34)"
   ]
  },
  {
   "cell_type": "code",
   "execution_count": null,
   "metadata": {},
   "outputs": [],
   "source": []
  }
 ],
 "metadata": {
  "kernelspec": {
   "display_name": "Python 3.9.13 ('venv': venv)",
   "language": "python",
   "name": "python3"
  },
  "language_info": {
   "codemirror_mode": {
    "name": "ipython",
    "version": 3
   },
   "file_extension": ".py",
   "mimetype": "text/x-python",
   "name": "python",
   "nbconvert_exporter": "python",
   "pygments_lexer": "ipython3",
   "version": "3.9.13"
  },
  "vscode": {
   "interpreter": {
    "hash": "671c175efcee6816414c30ea4a232982dc958ccda4c096be88a35531a32b2e71"
   }
  }
 },
 "nbformat": 4,
 "nbformat_minor": 2
}
