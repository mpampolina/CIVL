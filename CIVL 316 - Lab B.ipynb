{
 "cells": [
  {
   "cell_type": "markdown",
   "metadata": {},
   "source": [
    "# CIVL 316 - Lab B"
   ]
  },
  {
   "cell_type": "code",
   "execution_count": 1,
   "metadata": {},
   "outputs": [],
   "source": [
    "import pandas as pd\n",
    "import numpy as np\n",
    "from SALib.sample import saltelli\n",
    "from SALib.analyze import sobol\n",
    "from math import sqrt\n",
    "import matplotlib.pyplot as plt"
   ]
  },
  {
   "cell_type": "markdown",
   "metadata": {},
   "source": [
    "## Deliverables\n",
    "* Calculation of the energy lost over the hydraulic jump\n",
    "* Determination of critical depth for the weir and bridge footings.\n",
    "* Specific Energy and Specific momentum plots for the weir and bridge footing conditions\n",
    "* The net force acting on the weir and footings in the model\n",
    "* A sensitivity analysis for critical calculations. Please comment if the exclusion of energy from the theoretical equations is of consequence.\n",
    "* The sources and magnitudes of error in the determination of loads and energy so an appropriate SF may be applied in designs."
   ]
  },
  {
   "cell_type": "code",
   "execution_count": 2,
   "metadata": {},
   "outputs": [],
   "source": [
    "# CONSTANTS\n",
    "B = 0.156\n",
    "# Q m3/s conductivity meter\n",
    "Qsol = 0.0094\n",
    "# Q m3/s velocity probe\n",
    "Qpro = 0.012"
   ]
  },
  {
   "cell_type": "code",
   "execution_count": 3,
   "metadata": {},
   "outputs": [],
   "source": [
    "qsol = Qsol/B\n",
    "qpro = Qpro/B"
   ]
  },
  {
   "cell_type": "code",
   "execution_count": 4,
   "metadata": {},
   "outputs": [
    {
     "name": "stdout",
     "output_type": "stream",
     "text": [
      "qsol = 0.06025641025641026, qpro = 0.07692307692307693\n"
     ]
    }
   ],
   "source": [
    "print(f\"qsol = {qsol}, qpro = {qpro}\")"
   ]
  },
  {
   "cell_type": "code",
   "execution_count": 5,
   "metadata": {},
   "outputs": [],
   "source": [
    "df1 = pd.read_csv(\"./labB_data.csv\")\n",
    "df2 = pd.read_csv(\"./labB_data2.csv\")"
   ]
  },
  {
   "cell_type": "code",
   "execution_count": 6,
   "metadata": {},
   "outputs": [],
   "source": [
    "# change all height measurements to meter units\n",
    "df1[[\"Weir height\", \"y1\", \"y2\", \"yc\", \"y3\"]] = df1[[\"Weir height\", \"y1\", \"y2\", \"yc\", \"y3\"]].apply(lambda x: x*0.01)\n",
    "df2 = df2.apply(lambda x: x*0.01)"
   ]
  },
  {
   "cell_type": "code",
   "execution_count": 7,
   "metadata": {
    "scrolled": true
   },
   "outputs": [
    {
     "data": {
      "text/html": [
       "<div>\n",
       "<style scoped>\n",
       "    .dataframe tbody tr th:only-of-type {\n",
       "        vertical-align: middle;\n",
       "    }\n",
       "\n",
       "    .dataframe tbody tr th {\n",
       "        vertical-align: top;\n",
       "    }\n",
       "\n",
       "    .dataframe thead th {\n",
       "        text-align: right;\n",
       "    }\n",
       "</style>\n",
       "<table border=\"1\" class=\"dataframe\">\n",
       "  <thead>\n",
       "    <tr style=\"text-align: right;\">\n",
       "      <th></th>\n",
       "      <th>Weir #</th>\n",
       "      <th>Weir height</th>\n",
       "      <th>y1</th>\n",
       "      <th>y2</th>\n",
       "      <th>yc</th>\n",
       "      <th>y3</th>\n",
       "    </tr>\n",
       "  </thead>\n",
       "  <tbody>\n",
       "    <tr>\n",
       "      <th>0</th>\n",
       "      <td>9</td>\n",
       "      <td>0.2290</td>\n",
       "      <td>0.350</td>\n",
       "      <td>0.042</td>\n",
       "      <td>0.103</td>\n",
       "      <td>0.171</td>\n",
       "    </tr>\n",
       "    <tr>\n",
       "      <th>1</th>\n",
       "      <td>8</td>\n",
       "      <td>0.2032</td>\n",
       "      <td>0.327</td>\n",
       "      <td>0.045</td>\n",
       "      <td>0.105</td>\n",
       "      <td>0.169</td>\n",
       "    </tr>\n",
       "    <tr>\n",
       "      <th>2</th>\n",
       "      <td>7</td>\n",
       "      <td>0.1778</td>\n",
       "      <td>0.302</td>\n",
       "      <td>0.048</td>\n",
       "      <td>0.106</td>\n",
       "      <td>0.164</td>\n",
       "    </tr>\n",
       "    <tr>\n",
       "      <th>3</th>\n",
       "      <td>6</td>\n",
       "      <td>0.1524</td>\n",
       "      <td>0.277</td>\n",
       "      <td>0.053</td>\n",
       "      <td>0.111</td>\n",
       "      <td>0.160</td>\n",
       "    </tr>\n",
       "    <tr>\n",
       "      <th>4</th>\n",
       "      <td>5</td>\n",
       "      <td>0.1270</td>\n",
       "      <td>0.255</td>\n",
       "      <td>0.056</td>\n",
       "      <td>0.112</td>\n",
       "      <td>0.154</td>\n",
       "    </tr>\n",
       "    <tr>\n",
       "      <th>5</th>\n",
       "      <td>4</td>\n",
       "      <td>0.1016</td>\n",
       "      <td>0.230</td>\n",
       "      <td>0.059</td>\n",
       "      <td>0.112</td>\n",
       "      <td>0.147</td>\n",
       "    </tr>\n",
       "    <tr>\n",
       "      <th>6</th>\n",
       "      <td>3</td>\n",
       "      <td>0.0762</td>\n",
       "      <td>0.203</td>\n",
       "      <td>0.066</td>\n",
       "      <td>0.110</td>\n",
       "      <td>0.138</td>\n",
       "    </tr>\n",
       "  </tbody>\n",
       "</table>\n",
       "</div>"
      ],
      "text/plain": [
       "   Weir #  Weir height     y1     y2     yc     y3\n",
       "0       9       0.2290  0.350  0.042  0.103  0.171\n",
       "1       8       0.2032  0.327  0.045  0.105  0.169\n",
       "2       7       0.1778  0.302  0.048  0.106  0.164\n",
       "3       6       0.1524  0.277  0.053  0.111  0.160\n",
       "4       5       0.1270  0.255  0.056  0.112  0.154\n",
       "5       4       0.1016  0.230  0.059  0.112  0.147\n",
       "6       3       0.0762  0.203  0.066  0.110  0.138"
      ]
     },
     "execution_count": 7,
     "metadata": {},
     "output_type": "execute_result"
    }
   ],
   "source": [
    "df1"
   ]
  },
  {
   "cell_type": "code",
   "execution_count": 8,
   "metadata": {},
   "outputs": [
    {
     "data": {
      "text/html": [
       "<div>\n",
       "<style scoped>\n",
       "    .dataframe tbody tr th:only-of-type {\n",
       "        vertical-align: middle;\n",
       "    }\n",
       "\n",
       "    .dataframe tbody tr th {\n",
       "        vertical-align: top;\n",
       "    }\n",
       "\n",
       "    .dataframe thead th {\n",
       "        text-align: right;\n",
       "    }\n",
       "</style>\n",
       "<table border=\"1\" class=\"dataframe\">\n",
       "  <thead>\n",
       "    <tr style=\"text-align: right;\">\n",
       "      <th></th>\n",
       "      <th>Width</th>\n",
       "      <th>Upstream depth</th>\n",
       "      <th>Downstream depth</th>\n",
       "      <th>Middle depth</th>\n",
       "    </tr>\n",
       "  </thead>\n",
       "  <tbody>\n",
       "    <tr>\n",
       "      <th>0</th>\n",
       "      <td>0.131</td>\n",
       "      <td>0.150</td>\n",
       "      <td>0.079</td>\n",
       "      <td>0.123</td>\n",
       "    </tr>\n",
       "    <tr>\n",
       "      <th>1</th>\n",
       "      <td>0.106</td>\n",
       "      <td>0.183</td>\n",
       "      <td>0.072</td>\n",
       "      <td>0.137</td>\n",
       "    </tr>\n",
       "    <tr>\n",
       "      <th>2</th>\n",
       "      <td>0.095</td>\n",
       "      <td>0.196</td>\n",
       "      <td>0.067</td>\n",
       "      <td>0.152</td>\n",
       "    </tr>\n",
       "  </tbody>\n",
       "</table>\n",
       "</div>"
      ],
      "text/plain": [
       "   Width  Upstream depth  Downstream depth  Middle depth\n",
       "0  0.131           0.150             0.079         0.123\n",
       "1  0.106           0.183             0.072         0.137\n",
       "2  0.095           0.196             0.067         0.152"
      ]
     },
     "execution_count": 8,
     "metadata": {},
     "output_type": "execute_result"
    }
   ],
   "source": [
    "df2"
   ]
  },
  {
   "cell_type": "markdown",
   "metadata": {},
   "source": [
    "## Energy Loss Per Trial"
   ]
  },
  {
   "cell_type": "code",
   "execution_count": 9,
   "metadata": {},
   "outputs": [],
   "source": [
    "def getEloss(y2, y3):\n",
    "    Eloss = ((y3-y2)**3)/(4*y2*y3)\n",
    "    return Eloss"
   ]
  },
  {
   "cell_type": "code",
   "execution_count": 10,
   "metadata": {},
   "outputs": [
    {
     "data": {
      "text/html": [
       "<div>\n",
       "<style scoped>\n",
       "    .dataframe tbody tr th:only-of-type {\n",
       "        vertical-align: middle;\n",
       "    }\n",
       "\n",
       "    .dataframe tbody tr th {\n",
       "        vertical-align: top;\n",
       "    }\n",
       "\n",
       "    .dataframe thead th {\n",
       "        text-align: right;\n",
       "    }\n",
       "</style>\n",
       "<table border=\"1\" class=\"dataframe\">\n",
       "  <thead>\n",
       "    <tr style=\"text-align: right;\">\n",
       "      <th></th>\n",
       "      <th>Weir #</th>\n",
       "      <th>Weir height</th>\n",
       "      <th>y1</th>\n",
       "      <th>y2</th>\n",
       "      <th>yc</th>\n",
       "      <th>y3</th>\n",
       "      <th>Eloss</th>\n",
       "    </tr>\n",
       "  </thead>\n",
       "  <tbody>\n",
       "    <tr>\n",
       "      <th>0</th>\n",
       "      <td>9</td>\n",
       "      <td>0.2290</td>\n",
       "      <td>0.350</td>\n",
       "      <td>0.042</td>\n",
       "      <td>0.103</td>\n",
       "      <td>0.171</td>\n",
       "      <td>0.074725</td>\n",
       "    </tr>\n",
       "    <tr>\n",
       "      <th>1</th>\n",
       "      <td>8</td>\n",
       "      <td>0.2032</td>\n",
       "      <td>0.327</td>\n",
       "      <td>0.045</td>\n",
       "      <td>0.105</td>\n",
       "      <td>0.169</td>\n",
       "      <td>0.062677</td>\n",
       "    </tr>\n",
       "    <tr>\n",
       "      <th>2</th>\n",
       "      <td>7</td>\n",
       "      <td>0.1778</td>\n",
       "      <td>0.302</td>\n",
       "      <td>0.048</td>\n",
       "      <td>0.106</td>\n",
       "      <td>0.164</td>\n",
       "      <td>0.049571</td>\n",
       "    </tr>\n",
       "    <tr>\n",
       "      <th>3</th>\n",
       "      <td>6</td>\n",
       "      <td>0.1524</td>\n",
       "      <td>0.277</td>\n",
       "      <td>0.053</td>\n",
       "      <td>0.111</td>\n",
       "      <td>0.160</td>\n",
       "      <td>0.036116</td>\n",
       "    </tr>\n",
       "    <tr>\n",
       "      <th>4</th>\n",
       "      <td>5</td>\n",
       "      <td>0.1270</td>\n",
       "      <td>0.255</td>\n",
       "      <td>0.056</td>\n",
       "      <td>0.112</td>\n",
       "      <td>0.154</td>\n",
       "      <td>0.027284</td>\n",
       "    </tr>\n",
       "    <tr>\n",
       "      <th>5</th>\n",
       "      <td>4</td>\n",
       "      <td>0.1016</td>\n",
       "      <td>0.230</td>\n",
       "      <td>0.059</td>\n",
       "      <td>0.112</td>\n",
       "      <td>0.147</td>\n",
       "      <td>0.019643</td>\n",
       "    </tr>\n",
       "    <tr>\n",
       "      <th>6</th>\n",
       "      <td>3</td>\n",
       "      <td>0.0762</td>\n",
       "      <td>0.203</td>\n",
       "      <td>0.066</td>\n",
       "      <td>0.110</td>\n",
       "      <td>0.138</td>\n",
       "      <td>0.010245</td>\n",
       "    </tr>\n",
       "  </tbody>\n",
       "</table>\n",
       "</div>"
      ],
      "text/plain": [
       "   Weir #  Weir height     y1     y2     yc     y3     Eloss\n",
       "0       9       0.2290  0.350  0.042  0.103  0.171  0.074725\n",
       "1       8       0.2032  0.327  0.045  0.105  0.169  0.062677\n",
       "2       7       0.1778  0.302  0.048  0.106  0.164  0.049571\n",
       "3       6       0.1524  0.277  0.053  0.111  0.160  0.036116\n",
       "4       5       0.1270  0.255  0.056  0.112  0.154  0.027284\n",
       "5       4       0.1016  0.230  0.059  0.112  0.147  0.019643\n",
       "6       3       0.0762  0.203  0.066  0.110  0.138  0.010245"
      ]
     },
     "execution_count": 10,
     "metadata": {},
     "output_type": "execute_result"
    }
   ],
   "source": [
    "df1[\"Eloss\"] = df1.apply(lambda rows: getEloss(rows[\"y2\"], rows[\"y3\"]), axis=1)\n",
    "df1"
   ]
  },
  {
   "cell_type": "markdown",
   "metadata": {},
   "source": [
    "## Critical Depth: Weir - Measured vs. Theoretical"
   ]
  },
  {
   "cell_type": "code",
   "execution_count": 11,
   "metadata": {},
   "outputs": [
    {
     "data": {
      "text/plain": [
       "0    0.103\n",
       "1    0.105\n",
       "2    0.106\n",
       "3    0.111\n",
       "4    0.112\n",
       "5    0.112\n",
       "6    0.110\n",
       "Name: yc, dtype: float64"
      ]
     },
     "execution_count": 11,
     "metadata": {},
     "output_type": "execute_result"
    }
   ],
   "source": [
    "# measured yc\n",
    "df1[\"yc\"]"
   ]
  },
  {
   "cell_type": "code",
   "execution_count": 12,
   "metadata": {},
   "outputs": [],
   "source": [
    "# theoretical yc\n",
    "def cbrt(x):\n",
    "    if 0 <=x: return x**(1./3.)\n",
    "    return -(-x)**(1./3.)\n",
    "\n",
    "def getYc(q, g=9.81):\n",
    "    yc = cbrt((q**2/g))\n",
    "    return yc"
   ]
  },
  {
   "cell_type": "markdown",
   "metadata": {},
   "source": [
    "We determine one value for theoretical yc, since specific discharge (q) remains constant due to unchanging flow rate (Q), and unchanging channel width (B)"
   ]
  },
  {
   "cell_type": "code",
   "execution_count": 13,
   "metadata": {},
   "outputs": [
    {
     "data": {
      "text/plain": [
       "0.0717980255094257"
      ]
     },
     "execution_count": 13,
     "metadata": {},
     "output_type": "execute_result"
    }
   ],
   "source": [
    "theo_yc = getYc(qsol)\n",
    "theo_yc"
   ]
  },
  {
   "cell_type": "markdown",
   "metadata": {},
   "source": [
    "## Specific Discharge (q): Weir - Measured vs. Theoretical"
   ]
  },
  {
   "cell_type": "code",
   "execution_count": 14,
   "metadata": {},
   "outputs": [
    {
     "data": {
      "text/plain": [
       "0.06025641025641026"
      ]
     },
     "execution_count": 14,
     "metadata": {},
     "output_type": "execute_result"
    }
   ],
   "source": [
    "# measured q\n",
    "qsol"
   ]
  },
  {
   "cell_type": "code",
   "execution_count": 15,
   "metadata": {},
   "outputs": [],
   "source": [
    "def getq(yc, g=9.81):\n",
    "    q = sqrt((yc**3)*g)\n",
    "    return q"
   ]
  },
  {
   "cell_type": "code",
   "execution_count": 16,
   "metadata": {},
   "outputs": [
    {
     "data": {
      "text/plain": [
       "0    0.103536\n",
       "1    0.106566\n",
       "2    0.108092\n",
       "3    0.115829\n",
       "4    0.117398\n",
       "5    0.117398\n",
       "6    0.114268\n",
       "Name: yc, dtype: float64"
      ]
     },
     "execution_count": 16,
     "metadata": {},
     "output_type": "execute_result"
    }
   ],
   "source": [
    "# theoretical q\n",
    "df1[\"yc\"].apply(getq)"
   ]
  },
  {
   "cell_type": "markdown",
   "metadata": {},
   "source": [
    "## Critical Depth (yc) & Specific Discharge (q): Bridge Footings - Theoretical"
   ]
  },
  {
   "cell_type": "code",
   "execution_count": 17,
   "metadata": {},
   "outputs": [],
   "source": [
    "def getBCrit(Q, Ec, g=9.81):\n",
    "    Bc = Q/sqrt((8/27)*g*Ec**3)\n",
    "    return Bc"
   ]
  },
  {
   "cell_type": "code",
   "execution_count": 18,
   "metadata": {},
   "outputs": [],
   "source": [
    "def getEc(yc):\n",
    "    return (3/2) * yc"
   ]
  },
  {
   "cell_type": "code",
   "execution_count": 19,
   "metadata": {},
   "outputs": [
    {
     "data": {
      "text/html": [
       "<div>\n",
       "<style scoped>\n",
       "    .dataframe tbody tr th:only-of-type {\n",
       "        vertical-align: middle;\n",
       "    }\n",
       "\n",
       "    .dataframe tbody tr th {\n",
       "        vertical-align: top;\n",
       "    }\n",
       "\n",
       "    .dataframe thead th {\n",
       "        text-align: right;\n",
       "    }\n",
       "</style>\n",
       "<table border=\"1\" class=\"dataframe\">\n",
       "  <thead>\n",
       "    <tr style=\"text-align: right;\">\n",
       "      <th></th>\n",
       "      <th>Width</th>\n",
       "      <th>Upstream depth</th>\n",
       "      <th>Downstream depth</th>\n",
       "      <th>Middle depth</th>\n",
       "    </tr>\n",
       "  </thead>\n",
       "  <tbody>\n",
       "    <tr>\n",
       "      <th>0</th>\n",
       "      <td>0.131</td>\n",
       "      <td>0.150</td>\n",
       "      <td>0.079</td>\n",
       "      <td>0.123</td>\n",
       "    </tr>\n",
       "    <tr>\n",
       "      <th>1</th>\n",
       "      <td>0.106</td>\n",
       "      <td>0.183</td>\n",
       "      <td>0.072</td>\n",
       "      <td>0.137</td>\n",
       "    </tr>\n",
       "    <tr>\n",
       "      <th>2</th>\n",
       "      <td>0.095</td>\n",
       "      <td>0.196</td>\n",
       "      <td>0.067</td>\n",
       "      <td>0.152</td>\n",
       "    </tr>\n",
       "  </tbody>\n",
       "</table>\n",
       "</div>"
      ],
      "text/plain": [
       "   Width  Upstream depth  Downstream depth  Middle depth\n",
       "0  0.131           0.150             0.079         0.123\n",
       "1  0.106           0.183             0.072         0.137\n",
       "2  0.095           0.196             0.067         0.152"
      ]
     },
     "execution_count": 19,
     "metadata": {},
     "output_type": "execute_result"
    }
   ],
   "source": [
    "df2"
   ]
  },
  {
   "cell_type": "code",
   "execution_count": 20,
   "metadata": {},
   "outputs": [
    {
     "data": {
      "text/plain": [
       "0.08066430002347669"
      ]
     },
     "execution_count": 20,
     "metadata": {},
     "output_type": "execute_result"
    }
   ],
   "source": [
    "getYc(Qsol/0.131)"
   ]
  },
  {
   "cell_type": "code",
   "execution_count": 21,
   "metadata": {},
   "outputs": [
    {
     "data": {
      "text/plain": [
       "0    0.131\n",
       "1    0.106\n",
       "2    0.095\n",
       "Name: Width, dtype: float64"
      ]
     },
     "execution_count": 21,
     "metadata": {},
     "output_type": "execute_result"
    }
   ],
   "source": [
    "df2[\"Width\"]"
   ]
  },
  {
   "cell_type": "code",
   "execution_count": 22,
   "metadata": {},
   "outputs": [
    {
     "data": {
      "text/html": [
       "<div>\n",
       "<style scoped>\n",
       "    .dataframe tbody tr th:only-of-type {\n",
       "        vertical-align: middle;\n",
       "    }\n",
       "\n",
       "    .dataframe tbody tr th {\n",
       "        vertical-align: top;\n",
       "    }\n",
       "\n",
       "    .dataframe thead th {\n",
       "        text-align: right;\n",
       "    }\n",
       "</style>\n",
       "<table border=\"1\" class=\"dataframe\">\n",
       "  <thead>\n",
       "    <tr style=\"text-align: right;\">\n",
       "      <th></th>\n",
       "      <th>Width</th>\n",
       "      <th>Upstream depth</th>\n",
       "      <th>Downstream depth</th>\n",
       "      <th>Middle depth</th>\n",
       "      <th>constrict_q</th>\n",
       "    </tr>\n",
       "  </thead>\n",
       "  <tbody>\n",
       "    <tr>\n",
       "      <th>0</th>\n",
       "      <td>0.131</td>\n",
       "      <td>0.150</td>\n",
       "      <td>0.079</td>\n",
       "      <td>0.123</td>\n",
       "      <td>0.071756</td>\n",
       "    </tr>\n",
       "    <tr>\n",
       "      <th>1</th>\n",
       "      <td>0.106</td>\n",
       "      <td>0.183</td>\n",
       "      <td>0.072</td>\n",
       "      <td>0.137</td>\n",
       "      <td>0.088679</td>\n",
       "    </tr>\n",
       "    <tr>\n",
       "      <th>2</th>\n",
       "      <td>0.095</td>\n",
       "      <td>0.196</td>\n",
       "      <td>0.067</td>\n",
       "      <td>0.152</td>\n",
       "      <td>0.098947</td>\n",
       "    </tr>\n",
       "  </tbody>\n",
       "</table>\n",
       "</div>"
      ],
      "text/plain": [
       "   Width  Upstream depth  Downstream depth  Middle depth  constrict_q\n",
       "0  0.131           0.150             0.079         0.123     0.071756\n",
       "1  0.106           0.183             0.072         0.137     0.088679\n",
       "2  0.095           0.196             0.067         0.152     0.098947"
      ]
     },
     "execution_count": 22,
     "metadata": {},
     "output_type": "execute_result"
    }
   ],
   "source": [
    "df2[\"constrict_q\"] = df2.apply(lambda rows: Qsol/rows[\"Width\"], axis=1)\n",
    "df2"
   ]
  },
  {
   "cell_type": "code",
   "execution_count": 23,
   "metadata": {
    "scrolled": true
   },
   "outputs": [
    {
     "data": {
      "text/html": [
       "<div>\n",
       "<style scoped>\n",
       "    .dataframe tbody tr th:only-of-type {\n",
       "        vertical-align: middle;\n",
       "    }\n",
       "\n",
       "    .dataframe tbody tr th {\n",
       "        vertical-align: top;\n",
       "    }\n",
       "\n",
       "    .dataframe thead th {\n",
       "        text-align: right;\n",
       "    }\n",
       "</style>\n",
       "<table border=\"1\" class=\"dataframe\">\n",
       "  <thead>\n",
       "    <tr style=\"text-align: right;\">\n",
       "      <th></th>\n",
       "      <th>Width</th>\n",
       "      <th>Upstream depth</th>\n",
       "      <th>Downstream depth</th>\n",
       "      <th>Middle depth</th>\n",
       "      <th>constrict_q</th>\n",
       "      <th>Critical depth</th>\n",
       "    </tr>\n",
       "  </thead>\n",
       "  <tbody>\n",
       "    <tr>\n",
       "      <th>0</th>\n",
       "      <td>0.131</td>\n",
       "      <td>0.150</td>\n",
       "      <td>0.079</td>\n",
       "      <td>0.123</td>\n",
       "      <td>0.071756</td>\n",
       "      <td>0.080664</td>\n",
       "    </tr>\n",
       "    <tr>\n",
       "      <th>1</th>\n",
       "      <td>0.106</td>\n",
       "      <td>0.183</td>\n",
       "      <td>0.072</td>\n",
       "      <td>0.137</td>\n",
       "      <td>0.088679</td>\n",
       "      <td>0.092895</td>\n",
       "    </tr>\n",
       "    <tr>\n",
       "      <th>2</th>\n",
       "      <td>0.095</td>\n",
       "      <td>0.196</td>\n",
       "      <td>0.067</td>\n",
       "      <td>0.152</td>\n",
       "      <td>0.098947</td>\n",
       "      <td>0.099934</td>\n",
       "    </tr>\n",
       "  </tbody>\n",
       "</table>\n",
       "</div>"
      ],
      "text/plain": [
       "   Width  Upstream depth  Downstream depth  Middle depth  constrict_q  \\\n",
       "0  0.131           0.150             0.079         0.123     0.071756   \n",
       "1  0.106           0.183             0.072         0.137     0.088679   \n",
       "2  0.095           0.196             0.067         0.152     0.098947   \n",
       "\n",
       "   Critical depth  \n",
       "0        0.080664  \n",
       "1        0.092895  \n",
       "2        0.099934  "
      ]
     },
     "execution_count": 23,
     "metadata": {},
     "output_type": "execute_result"
    }
   ],
   "source": [
    "df2[\"Critical depth\"] = df2.apply(lambda rows: getYc(Qsol/rows[\"Width\"]), axis=1)\n",
    "df2"
   ]
  },
  {
   "cell_type": "markdown",
   "metadata": {},
   "source": [
    "## Part 1: Weir - qsol"
   ]
  },
  {
   "cell_type": "code",
   "execution_count": 24,
   "metadata": {},
   "outputs": [],
   "source": [
    "def getEnergy(y, q, g=9.81):\n",
    "    E = y + (q**2/(2*g*y**2))\n",
    "    return E"
   ]
  },
  {
   "cell_type": "code",
   "execution_count": 25,
   "metadata": {},
   "outputs": [],
   "source": [
    "# calculate momentum per unit width\n",
    "def getMomentum(y, q, g=9.81):\n",
    "    M = (q**2/(g*y)) + (y**2/2)\n",
    "    return M"
   ]
  },
  {
   "cell_type": "code",
   "execution_count": 26,
   "metadata": {},
   "outputs": [
    {
     "data": {
      "text/plain": [
       "0.06297680937818552"
      ]
     },
     "execution_count": 26,
     "metadata": {},
     "output_type": "execute_result"
    }
   ],
   "source": [
    "getMomentum(0.35, 0.077)"
   ]
  },
  {
   "cell_type": "code",
   "execution_count": 27,
   "metadata": {},
   "outputs": [
    {
     "data": {
      "text/plain": [
       "0.327"
      ]
     },
     "execution_count": 27,
     "metadata": {},
     "output_type": "execute_result"
    }
   ],
   "source": [
    "df1.iloc[1].y1"
   ]
  },
  {
   "cell_type": "code",
   "execution_count": 28,
   "metadata": {},
   "outputs": [
    {
     "data": {
      "text/plain": [
       "0.12529403702154499"
      ]
     },
     "execution_count": 28,
     "metadata": {},
     "output_type": "execute_result"
    }
   ],
   "source": [
    "getEnergy(df1.iloc[6].yc, qsol)"
   ]
  },
  {
   "cell_type": "markdown",
   "metadata": {},
   "source": [
    "### Specific Energy - Weir"
   ]
  },
  {
   "cell_type": "code",
   "execution_count": 29,
   "metadata": {},
   "outputs": [],
   "source": [
    "def makeSEplot(arr_q, leftB, rightB, typ):\n",
    "    vec_energyFunc = np.vectorize(getEnergy)\n",
    "    for q in arr_q:\n",
    "        y_vals = np.linspace(leftB, rightB, 100)\n",
    "        x_vals = vec_energyFunc(y_vals, q)\n",
    "        plt.plot(x_vals, y_vals, label=f\"q = {round(q, 3)}\")\n",
    "    plt.title(f\"Specific Energy vs. Depth - {typ}\")\n",
    "    plt.xlabel(\"Specific Energy (m)\")\n",
    "    plt.ylabel(\"Depth (m)\")\n",
    "    plt.legend()\n",
    "    plt.show()"
   ]
  },
  {
   "cell_type": "code",
   "execution_count": 30,
   "metadata": {},
   "outputs": [
    {
     "data": {
      "image/png": "[encoded data removed]",
      "text/plain": [
       "<Figure size 432x288 with 1 Axes>"
      ]
     },
     "metadata": {
      "needs_background": "light"
     },
     "output_type": "display_data"
    }
   ],
   "source": [
    "makeSEplot([qsol], 0.02, 0.4, typ=\"Weir\")"
   ]
  },
  {
   "cell_type": "markdown",
   "metadata": {},
   "source": [
    "### Specific Momentum - Weir"
   ]
  },
  {
   "cell_type": "code",
   "execution_count": 31,
   "metadata": {},
   "outputs": [],
   "source": [
    "def makeSMplot(arr_q, leftB, rightB, typ):\n",
    "    vec_energyFunc = np.vectorize(getMomentum)\n",
    "    for q in arr_q:\n",
    "        y_vals = np.linspace(leftB, rightB, 100)\n",
    "        x_vals = vec_energyFunc(y_vals, q)\n",
    "        plt.plot(x_vals, y_vals, label=f\"q = {round(q, 3)}\")\n",
    "    plt.title(f\"Specific Momentum vs. Depth - {typ}\")\n",
    "    plt.xlabel(\"Specific Momentum (m^2)\")\n",
    "    plt.ylabel(\"Depth (m)\")\n",
    "    plt.legend()\n",
    "    plt.show()"
   ]
  },
  {
   "cell_type": "code",
   "execution_count": 32,
   "metadata": {},
   "outputs": [
    {
     "data": {
      "image/png": "[encoded data removed]",
      "text/plain": [
       "<Figure size 432x288 with 1 Axes>"
      ]
     },
     "metadata": {
      "needs_background": "light"
     },
     "output_type": "display_data"
    }
   ],
   "source": [
    "makeSMplot([qsol], 0.004, 0.42, typ=\"Weir\")"
   ]
  },
  {
   "cell_type": "markdown",
   "metadata": {},
   "source": [
    "## Part 2: Bridge Footings - qsol"
   ]
  },
  {
   "cell_type": "markdown",
   "metadata": {},
   "source": [
    "### Specific Energy - qsol"
   ]
  },
  {
   "cell_type": "code",
   "execution_count": 33,
   "metadata": {
    "scrolled": true
   },
   "outputs": [
    {
     "data": {
      "image/png": "[encoded data removed]",
      "text/plain": [
       "<Figure size 432x288 with 1 Axes>"
      ]
     },
     "metadata": {
      "needs_background": "light"
     },
     "output_type": "display_data"
    }
   ],
   "source": [
    "makeSEplot(df2[\"constrict_q\"].tolist(), 0.03, 0.35, typ=\"Bridge Footings\")"
   ]
  },
  {
   "cell_type": "markdown",
   "metadata": {},
   "source": [
    "### Specific Momentum - qsol"
   ]
  },
  {
   "cell_type": "code",
   "execution_count": 34,
   "metadata": {},
   "outputs": [
    {
     "data": {
      "image/png": "[encoded data removed]",
      "text/plain": [
       "<Figure size 432x288 with 1 Axes>"
      ]
     },
     "metadata": {
      "needs_background": "light"
     },
     "output_type": "display_data"
    }
   ],
   "source": [
    "makeSMplot(df2[\"constrict_q\"].tolist(), 0.01, 0.35, typ=\"Bridge Footings\")"
   ]
  },
  {
   "cell_type": "markdown",
   "metadata": {},
   "source": [
    "## Net Force acting on Weir"
   ]
  },
  {
   "cell_type": "code",
   "execution_count": 35,
   "metadata": {},
   "outputs": [],
   "source": [
    "# M1 and M2 are momentums per unit width. To get true momentum (and by association, Pf)\n",
    "# multiply momentums by the channel width, B\n",
    "def getPf(M1, M2, gamma=9810):\n",
    "    return (M1-M2)* B * gamma "
   ]
  },
  {
   "cell_type": "code",
   "execution_count": 36,
   "metadata": {},
   "outputs": [],
   "source": [
    "df1[\"Pf\"] = df1.apply(lambda rows: \n",
    "                      getPf(getMomentum(rows[\"y1\"], qsol), \n",
    "                            getMomentum(rows[\"y2\"], qsol)), axis=1)"
   ]
  },
  {
   "cell_type": "code",
   "execution_count": 37,
   "metadata": {},
   "outputs": [
    {
     "data": {
      "text/html": [
       "<div>\n",
       "<style scoped>\n",
       "    .dataframe tbody tr th:only-of-type {\n",
       "        vertical-align: middle;\n",
       "    }\n",
       "\n",
       "    .dataframe tbody tr th {\n",
       "        vertical-align: top;\n",
       "    }\n",
       "\n",
       "    .dataframe thead th {\n",
       "        text-align: right;\n",
       "    }\n",
       "</style>\n",
       "<table border=\"1\" class=\"dataframe\">\n",
       "  <thead>\n",
       "    <tr style=\"text-align: right;\">\n",
       "      <th></th>\n",
       "      <th>Weir #</th>\n",
       "      <th>Weir height</th>\n",
       "      <th>y1</th>\n",
       "      <th>y2</th>\n",
       "      <th>yc</th>\n",
       "      <th>y3</th>\n",
       "      <th>Eloss</th>\n",
       "      <th>Pf</th>\n",
       "    </tr>\n",
       "  </thead>\n",
       "  <tbody>\n",
       "    <tr>\n",
       "      <th>0</th>\n",
       "      <td>9</td>\n",
       "      <td>0.2290</td>\n",
       "      <td>0.350</td>\n",
       "      <td>0.042</td>\n",
       "      <td>0.103</td>\n",
       "      <td>0.171</td>\n",
       "      <td>0.074725</td>\n",
       "      <td>80.517129</td>\n",
       "    </tr>\n",
       "    <tr>\n",
       "      <th>1</th>\n",
       "      <td>8</td>\n",
       "      <td>0.2032</td>\n",
       "      <td>0.327</td>\n",
       "      <td>0.045</td>\n",
       "      <td>0.105</td>\n",
       "      <td>0.169</td>\n",
       "      <td>0.062677</td>\n",
       "      <td>69.415690</td>\n",
       "    </tr>\n",
       "    <tr>\n",
       "      <th>2</th>\n",
       "      <td>7</td>\n",
       "      <td>0.1778</td>\n",
       "      <td>0.302</td>\n",
       "      <td>0.048</td>\n",
       "      <td>0.106</td>\n",
       "      <td>0.164</td>\n",
       "      <td>0.049571</td>\n",
       "      <td>58.099819</td>\n",
       "    </tr>\n",
       "    <tr>\n",
       "      <th>3</th>\n",
       "      <td>6</td>\n",
       "      <td>0.1524</td>\n",
       "      <td>0.277</td>\n",
       "      <td>0.053</td>\n",
       "      <td>0.111</td>\n",
       "      <td>0.160</td>\n",
       "      <td>0.036116</td>\n",
       "      <td>47.919922</td>\n",
       "    </tr>\n",
       "    <tr>\n",
       "      <th>4</th>\n",
       "      <td>5</td>\n",
       "      <td>0.1270</td>\n",
       "      <td>0.255</td>\n",
       "      <td>0.056</td>\n",
       "      <td>0.112</td>\n",
       "      <td>0.154</td>\n",
       "      <td>0.027284</td>\n",
       "      <td>39.462973</td>\n",
       "    </tr>\n",
       "    <tr>\n",
       "      <th>5</th>\n",
       "      <td>4</td>\n",
       "      <td>0.1016</td>\n",
       "      <td>0.230</td>\n",
       "      <td>0.059</td>\n",
       "      <td>0.112</td>\n",
       "      <td>0.147</td>\n",
       "      <td>0.019643</td>\n",
       "      <td>30.676910</td>\n",
       "    </tr>\n",
       "    <tr>\n",
       "      <th>6</th>\n",
       "      <td>3</td>\n",
       "      <td>0.0762</td>\n",
       "      <td>0.203</td>\n",
       "      <td>0.066</td>\n",
       "      <td>0.110</td>\n",
       "      <td>0.138</td>\n",
       "      <td>0.010245</td>\n",
       "      <td>22.407403</td>\n",
       "    </tr>\n",
       "  </tbody>\n",
       "</table>\n",
       "</div>"
      ],
      "text/plain": [
       "   Weir #  Weir height     y1     y2     yc     y3     Eloss         Pf\n",
       "0       9       0.2290  0.350  0.042  0.103  0.171  0.074725  80.517129\n",
       "1       8       0.2032  0.327  0.045  0.105  0.169  0.062677  69.415690\n",
       "2       7       0.1778  0.302  0.048  0.106  0.164  0.049571  58.099819\n",
       "3       6       0.1524  0.277  0.053  0.111  0.160  0.036116  47.919922\n",
       "4       5       0.1270  0.255  0.056  0.112  0.154  0.027284  39.462973\n",
       "5       4       0.1016  0.230  0.059  0.112  0.147  0.019643  30.676910\n",
       "6       3       0.0762  0.203  0.066  0.110  0.138  0.010245  22.407403"
      ]
     },
     "execution_count": 37,
     "metadata": {},
     "output_type": "execute_result"
    }
   ],
   "source": [
    "df1"
   ]
  },
  {
   "cell_type": "code",
   "execution_count": 38,
   "metadata": {},
   "outputs": [],
   "source": [
    "df2[\"Pf\"] = df2.apply(lambda rows: \n",
    "                      getPf(getMomentum(rows[\"Upstream depth\"], qsol), \n",
    "                            getMomentum(rows[\"Downstream depth\"], qsol)), axis=1)"
   ]
  },
  {
   "cell_type": "code",
   "execution_count": 39,
   "metadata": {},
   "outputs": [
    {
     "data": {
      "text/html": [
       "<div>\n",
       "<style scoped>\n",
       "    .dataframe tbody tr th:only-of-type {\n",
       "        vertical-align: middle;\n",
       "    }\n",
       "\n",
       "    .dataframe tbody tr th {\n",
       "        vertical-align: top;\n",
       "    }\n",
       "\n",
       "    .dataframe thead th {\n",
       "        text-align: right;\n",
       "    }\n",
       "</style>\n",
       "<table border=\"1\" class=\"dataframe\">\n",
       "  <thead>\n",
       "    <tr style=\"text-align: right;\">\n",
       "      <th></th>\n",
       "      <th>Width</th>\n",
       "      <th>Upstream depth</th>\n",
       "      <th>Downstream depth</th>\n",
       "      <th>Middle depth</th>\n",
       "      <th>constrict_q</th>\n",
       "      <th>Critical depth</th>\n",
       "      <th>Pf</th>\n",
       "    </tr>\n",
       "  </thead>\n",
       "  <tbody>\n",
       "    <tr>\n",
       "      <th>0</th>\n",
       "      <td>0.131</td>\n",
       "      <td>0.150</td>\n",
       "      <td>0.079</td>\n",
       "      <td>0.123</td>\n",
       "      <td>0.071756</td>\n",
       "      <td>0.080664</td>\n",
       "      <td>9.047380</td>\n",
       "    </tr>\n",
       "    <tr>\n",
       "      <th>1</th>\n",
       "      <td>0.106</td>\n",
       "      <td>0.183</td>\n",
       "      <td>0.072</td>\n",
       "      <td>0.137</td>\n",
       "      <td>0.088679</td>\n",
       "      <td>0.092895</td>\n",
       "      <td>16.886749</td>\n",
       "    </tr>\n",
       "    <tr>\n",
       "      <th>2</th>\n",
       "      <td>0.095</td>\n",
       "      <td>0.196</td>\n",
       "      <td>0.067</td>\n",
       "      <td>0.152</td>\n",
       "      <td>0.098947</td>\n",
       "      <td>0.099934</td>\n",
       "      <td>20.396226</td>\n",
       "    </tr>\n",
       "  </tbody>\n",
       "</table>\n",
       "</div>"
      ],
      "text/plain": [
       "   Width  Upstream depth  Downstream depth  Middle depth  constrict_q  \\\n",
       "0  0.131           0.150             0.079         0.123     0.071756   \n",
       "1  0.106           0.183             0.072         0.137     0.088679   \n",
       "2  0.095           0.196             0.067         0.152     0.098947   \n",
       "\n",
       "   Critical depth         Pf  \n",
       "0        0.080664   9.047380  \n",
       "1        0.092895  16.886749  \n",
       "2        0.099934  20.396226  "
      ]
     },
     "execution_count": 39,
     "metadata": {},
     "output_type": "execute_result"
    }
   ],
   "source": [
    "df2"
   ]
  },
  {
   "cell_type": "markdown",
   "metadata": {},
   "source": [
    "## Sensitivity Analysis"
   ]
  },
  {
   "cell_type": "markdown",
   "metadata": {},
   "source": [
    "Sensitivity analysis data was taken from weir observation 1. Since our primary focus is on determining the relative impact of each variable on the momentum formula, we simply need a reasonable starting value of y1, y2, Q, and B that can be scaled to determine influence on overall momentum."
   ]
  },
  {
   "cell_type": "code",
   "execution_count": 40,
   "metadata": {},
   "outputs": [],
   "source": [
    "scaleFactor = np.array([0.5, 0.75, 1, 1.25, 1.5])\n",
    "def InputSensitivityPf(baseInd, baseCol, q, scaleF):\n",
    "    scaledInds = np.array(baseInd * scaleF)\n",
    "    scaledCols = np.array(baseCol * scaleF)\n",
    "    data = []\n",
    "    for ind in scaledInds:\n",
    "        row = []\n",
    "        for col in scaledCols:\n",
    "            Pf = getPf(getMomentum(ind, q), getMomentum(col, q))\n",
    "            row.append(Pf)\n",
    "        data.append(row)\n",
    "    return pd.DataFrame(data=np.array(data), index=scaledInds, columns=scaledCols)"
   ]
  },
  {
   "cell_type": "code",
   "execution_count": 41,
   "metadata": {},
   "outputs": [
    {
     "data": {
      "text/html": [
       "<div>\n",
       "<style scoped>\n",
       "    .dataframe tbody tr th:only-of-type {\n",
       "        vertical-align: middle;\n",
       "    }\n",
       "\n",
       "    .dataframe tbody tr th {\n",
       "        vertical-align: top;\n",
       "    }\n",
       "\n",
       "    .dataframe thead th {\n",
       "        text-align: right;\n",
       "    }\n",
       "</style>\n",
       "<table border=\"1\" class=\"dataframe\">\n",
       "  <thead>\n",
       "    <tr style=\"text-align: right;\">\n",
       "      <th>y2 (m)</th>\n",
       "      <th>0.0210</th>\n",
       "      <th>0.0315</th>\n",
       "      <th>0.0420</th>\n",
       "      <th>0.0525</th>\n",
       "      <th>0.0630</th>\n",
       "    </tr>\n",
       "    <tr>\n",
       "      <th>y1 (m)</th>\n",
       "      <th></th>\n",
       "      <th></th>\n",
       "      <th></th>\n",
       "      <th></th>\n",
       "      <th></th>\n",
       "    </tr>\n",
       "  </thead>\n",
       "  <tbody>\n",
       "    <tr>\n",
       "      <th>0.1750</th>\n",
       "      <td>-0.639094</td>\n",
       "      <td>7.929740</td>\n",
       "      <td>11.834532</td>\n",
       "      <td>13.772473</td>\n",
       "      <td>14.642629</td>\n",
       "    </tr>\n",
       "    <tr>\n",
       "      <th>0.2625</th>\n",
       "      <td>27.574076</td>\n",
       "      <td>36.142910</td>\n",
       "      <td>40.047702</td>\n",
       "      <td>41.985644</td>\n",
       "      <td>42.855799</td>\n",
       "    </tr>\n",
       "    <tr>\n",
       "      <th>0.3500</th>\n",
       "      <td>68.043504</td>\n",
       "      <td>76.612337</td>\n",
       "      <td>80.517129</td>\n",
       "      <td>82.455071</td>\n",
       "      <td>83.325227</td>\n",
       "    </tr>\n",
       "    <tr>\n",
       "      <th>0.4375</th>\n",
       "      <td>120.445525</td>\n",
       "      <td>129.014359</td>\n",
       "      <td>132.919150</td>\n",
       "      <td>134.857092</td>\n",
       "      <td>135.727248</td>\n",
       "    </tr>\n",
       "    <tr>\n",
       "      <th>0.5250</th>\n",
       "      <td>184.672253</td>\n",
       "      <td>193.241086</td>\n",
       "      <td>197.145878</td>\n",
       "      <td>199.083820</td>\n",
       "      <td>199.953976</td>\n",
       "    </tr>\n",
       "  </tbody>\n",
       "</table>\n",
       "</div>"
      ],
      "text/plain": [
       "y2 (m)      0.0210      0.0315      0.0420      0.0525      0.0630\n",
       "y1 (m)                                                            \n",
       "0.1750   -0.639094    7.929740   11.834532   13.772473   14.642629\n",
       "0.2625   27.574076   36.142910   40.047702   41.985644   42.855799\n",
       "0.3500   68.043504   76.612337   80.517129   82.455071   83.325227\n",
       "0.4375  120.445525  129.014359  132.919150  134.857092  135.727248\n",
       "0.5250  184.672253  193.241086  197.145878  199.083820  199.953976"
      ]
     },
     "execution_count": 41,
     "metadata": {},
     "output_type": "execute_result"
    }
   ],
   "source": [
    "SApf_1 = InputSensitivityPf(df1[\"y1\"][0], df1[\"y2\"][0], qsol, scaleFactor)\n",
    "SApf_1.index.name = \"y1 (m)\"\n",
    "SApf_1.columns.name = \"y2 (m)\"\n",
    "SApf_1"
   ]
  },
  {
   "cell_type": "code",
   "execution_count": 42,
   "metadata": {},
   "outputs": [],
   "source": [
    "const_y1 = df1[\"y1\"][0]\n",
    "const_y2 = df1[\"y2\"][0]\n",
    "scaledInds = np.array(B * scaleFactor)\n",
    "scaledCols = np.array(Qsol * scaleFactor)\n",
    "data = []\n",
    "for ind in scaledInds:\n",
    "    row = []\n",
    "    for col in scaledCols:\n",
    "        Pf = getPf(getMomentum(const_y1, (col/ind)), getMomentum(const_y2, (col/ind)))\n",
    "        row.append(Pf)\n",
    "    data.append(row)\n",
    "SApf_2 = pd.DataFrame(data=np.array(data), index=scaledInds, columns=scaledCols)"
   ]
  },
  {
   "cell_type": "code",
   "execution_count": 43,
   "metadata": {},
   "outputs": [
    {
     "data": {
      "text/html": [
       "<div>\n",
       "<style scoped>\n",
       "    .dataframe tbody tr th:only-of-type {\n",
       "        vertical-align: middle;\n",
       "    }\n",
       "\n",
       "    .dataframe tbody tr th {\n",
       "        vertical-align: top;\n",
       "    }\n",
       "\n",
       "    .dataframe thead th {\n",
       "        text-align: right;\n",
       "    }\n",
       "</style>\n",
       "<table border=\"1\" class=\"dataframe\">\n",
       "  <thead>\n",
       "    <tr style=\"text-align: right;\">\n",
       "      <th>Q (m)</th>\n",
       "      <th>0.00470</th>\n",
       "      <th>0.00705</th>\n",
       "      <th>0.00940</th>\n",
       "      <th>0.01175</th>\n",
       "      <th>0.01410</th>\n",
       "    </tr>\n",
       "    <tr>\n",
       "      <th>B (m)</th>\n",
       "      <th></th>\n",
       "      <th></th>\n",
       "      <th></th>\n",
       "      <th></th>\n",
       "      <th></th>\n",
       "    </tr>\n",
       "  </thead>\n",
       "  <tbody>\n",
       "    <tr>\n",
       "      <th>0.078</th>\n",
       "      <td>80.517129</td>\n",
       "      <td>65.682575</td>\n",
       "      <td>44.914199</td>\n",
       "      <td>18.212001</td>\n",
       "      <td>-14.424019</td>\n",
       "    </tr>\n",
       "    <tr>\n",
       "      <th>0.117</th>\n",
       "      <td>87.110264</td>\n",
       "      <td>80.517129</td>\n",
       "      <td>71.286740</td>\n",
       "      <td>59.419096</td>\n",
       "      <td>44.914199</td>\n",
       "    </tr>\n",
       "    <tr>\n",
       "      <th>0.156</th>\n",
       "      <td>89.417862</td>\n",
       "      <td>85.709223</td>\n",
       "      <td>80.517129</td>\n",
       "      <td>73.841580</td>\n",
       "      <td>65.682575</td>\n",
       "    </tr>\n",
       "    <tr>\n",
       "      <th>0.195</th>\n",
       "      <td>90.485950</td>\n",
       "      <td>88.112421</td>\n",
       "      <td>84.789481</td>\n",
       "      <td>80.517129</td>\n",
       "      <td>75.295366</td>\n",
       "    </tr>\n",
       "    <tr>\n",
       "      <th>0.234</th>\n",
       "      <td>91.066145</td>\n",
       "      <td>89.417862</td>\n",
       "      <td>87.110264</td>\n",
       "      <td>84.143353</td>\n",
       "      <td>80.517129</td>\n",
       "    </tr>\n",
       "  </tbody>\n",
       "</table>\n",
       "</div>"
      ],
      "text/plain": [
       "Q (m)    0.00470    0.00705    0.00940    0.01175    0.01410\n",
       "B (m)                                                       \n",
       "0.078  80.517129  65.682575  44.914199  18.212001 -14.424019\n",
       "0.117  87.110264  80.517129  71.286740  59.419096  44.914199\n",
       "0.156  89.417862  85.709223  80.517129  73.841580  65.682575\n",
       "0.195  90.485950  88.112421  84.789481  80.517129  75.295366\n",
       "0.234  91.066145  89.417862  87.110264  84.143353  80.517129"
      ]
     },
     "execution_count": 43,
     "metadata": {},
     "output_type": "execute_result"
    }
   ],
   "source": [
    "SApf_2.index.name = \"B (m)\"\n",
    "SApf_2.columns.name = \"Q (m)\"\n",
    "SApf_2"
   ]
  },
  {
   "cell_type": "code",
   "execution_count": 44,
   "metadata": {},
   "outputs": [
    {
     "data": {
      "image/png": "[encoded data removed]",
      "text/plain": [
       "<Figure size 432x288 with 1 Axes>"
      ]
     },
     "metadata": {
      "needs_background": "light"
     },
     "output_type": "display_data"
    }
   ],
   "source": [
    "plt.plot(scaleFactor, SApf_1.iloc[2], label=\"y2 (m)\")\n",
    "plt.plot(scaleFactor, SApf_1[0.0420], label=\"y1 (m)\")\n",
    "plt.plot(scaleFactor, SApf_2.iloc[2], label=\"Q (m^3/s)\")\n",
    "plt.plot(scaleFactor, SApf_2[0.00940], label=\"B\")\n",
    "\n",
    "xlabels = [\"-50%\", \"-25%\", \"Base\", \"25%\", \"50%\"]\n",
    "\n",
    "ax = plt.gca()\n",
    "ax.set_xticks(scaleFactor)\n",
    "ax.set_xticklabels(xlabels)\n",
    "plt.legend()\n",
    "plt.ylabel(\"Pf (N)\")\n",
    "plt.xlabel(\"Input deviation\")\n",
    "plt.title(\"Sensitivity Analysis for Force on a Weir.\")\n",
    "plt.show()"
   ]
  },
  {
   "cell_type": "code",
   "execution_count": 45,
   "metadata": {},
   "outputs": [],
   "source": [
    "def InputSensitivityE(Q, B, scaleF):\n",
    "    scaledInds = np.array(B * scaleF)\n",
    "    scaledCols = np.array(Qsol * scaleF)\n",
    "    data = []\n",
    "    for ind in scaledInds:\n",
    "        row = []\n",
    "        for col in scaledCols:\n",
    "            q = col/ind\n",
    "            E = getEnergy(getYc(q), q)\n",
    "            row.append(E)\n",
    "        data.append(row)\n",
    "    return pd.DataFrame(data=np.array(data), index=scaledInds, columns=scaledCols)"
   ]
  },
  {
   "cell_type": "code",
   "execution_count": 46,
   "metadata": {},
   "outputs": [
    {
     "data": {
      "text/html": [
       "<div>\n",
       "<style scoped>\n",
       "    .dataframe tbody tr th:only-of-type {\n",
       "        vertical-align: middle;\n",
       "    }\n",
       "\n",
       "    .dataframe tbody tr th {\n",
       "        vertical-align: top;\n",
       "    }\n",
       "\n",
       "    .dataframe thead th {\n",
       "        text-align: right;\n",
       "    }\n",
       "</style>\n",
       "<table border=\"1\" class=\"dataframe\">\n",
       "  <thead>\n",
       "    <tr style=\"text-align: right;\">\n",
       "      <th>Q (m)</th>\n",
       "      <th>0.00470</th>\n",
       "      <th>0.00705</th>\n",
       "      <th>0.00940</th>\n",
       "      <th>0.01175</th>\n",
       "      <th>0.01410</th>\n",
       "    </tr>\n",
       "    <tr>\n",
       "      <th>B (m)</th>\n",
       "      <th></th>\n",
       "      <th></th>\n",
       "      <th></th>\n",
       "      <th></th>\n",
       "      <th></th>\n",
       "    </tr>\n",
       "  </thead>\n",
       "  <tbody>\n",
       "    <tr>\n",
       "      <th>0.078</th>\n",
       "      <td>0.107697</td>\n",
       "      <td>0.141123</td>\n",
       "      <td>0.170958</td>\n",
       "      <td>0.198380</td>\n",
       "      <td>0.224019</td>\n",
       "    </tr>\n",
       "    <tr>\n",
       "      <th>0.117</th>\n",
       "      <td>0.082188</td>\n",
       "      <td>0.107697</td>\n",
       "      <td>0.130466</td>\n",
       "      <td>0.151392</td>\n",
       "      <td>0.170958</td>\n",
       "    </tr>\n",
       "    <tr>\n",
       "      <th>0.156</th>\n",
       "      <td>0.067845</td>\n",
       "      <td>0.088902</td>\n",
       "      <td>0.107697</td>\n",
       "      <td>0.124971</td>\n",
       "      <td>0.141123</td>\n",
       "    </tr>\n",
       "    <tr>\n",
       "      <th>0.195</th>\n",
       "      <td>0.058467</td>\n",
       "      <td>0.076613</td>\n",
       "      <td>0.092810</td>\n",
       "      <td>0.107697</td>\n",
       "      <td>0.121616</td>\n",
       "    </tr>\n",
       "    <tr>\n",
       "      <th>0.234</th>\n",
       "      <td>0.051775</td>\n",
       "      <td>0.067845</td>\n",
       "      <td>0.082188</td>\n",
       "      <td>0.095371</td>\n",
       "      <td>0.107697</td>\n",
       "    </tr>\n",
       "  </tbody>\n",
       "</table>\n",
       "</div>"
      ],
      "text/plain": [
       "Q (m)   0.00470   0.00705   0.00940   0.01175   0.01410\n",
       "B (m)                                                  \n",
       "0.078  0.107697  0.141123  0.170958  0.198380  0.224019\n",
       "0.117  0.082188  0.107697  0.130466  0.151392  0.170958\n",
       "0.156  0.067845  0.088902  0.107697  0.124971  0.141123\n",
       "0.195  0.058467  0.076613  0.092810  0.107697  0.121616\n",
       "0.234  0.051775  0.067845  0.082188  0.095371  0.107697"
      ]
     },
     "execution_count": 46,
     "metadata": {},
     "output_type": "execute_result"
    }
   ],
   "source": [
    "SAE = InputSensitivityE(Qsol, B, scaleFactor)\n",
    "SAE.index.name = \"B (m)\"\n",
    "SAE.columns.name = \"Q (m)\"\n",
    "SAE"
   ]
  },
  {
   "cell_type": "code",
   "execution_count": 47,
   "metadata": {},
   "outputs": [
    {
     "data": {
      "image/png": "[encoded data removed]",
      "text/plain": [
       "<Figure size 432x288 with 1 Axes>"
      ]
     },
     "metadata": {
      "needs_background": "light"
     },
     "output_type": "display_data"
    }
   ],
   "source": [
    "plt.plot(scaleFactor, SAE.iloc[2], label=\"Q (m^3/s)\")\n",
    "plt.plot(scaleFactor, SAE[0.00940], label=\"B (m)\")\n",
    "\n",
    "xlabels = [\"-50%\", \"-25%\", \"Base\", \"25%\", \"50%\"]\n",
    "\n",
    "ax = plt.gca()\n",
    "ax.set_xticks(scaleFactor)\n",
    "ax.set_xticklabels(xlabels)\n",
    "plt.legend()\n",
    "plt.ylabel(\"E (m)\")\n",
    "plt.xlabel(\"Input deviation\")\n",
    "plt.title(\"Sensitivity Analysis for Specific Energy.\")\n",
    "plt.show()"
   ]
  },
  {
   "cell_type": "code",
   "execution_count": null,
   "metadata": {},
   "outputs": [],
   "source": []
  }
 ],
 "metadata": {
  "kernelspec": {
   "display_name": "Python 3",
   "language": "python",
   "name": "python3"
  },
  "language_info": {
   "codemirror_mode": {
    "name": "ipython",
    "version": 3
   },
   "file_extension": ".py",
   "mimetype": "text/x-python",
   "name": "python",
   "nbconvert_exporter": "python",
   "pygments_lexer": "ipython3",
   "version": "3.8.6rc1"
  }
 },
 "nbformat": 4,
 "nbformat_minor": 4
}
