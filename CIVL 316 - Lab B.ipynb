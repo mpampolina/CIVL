{
 "cells": [
  {
   "cell_type": "markdown",
   "metadata": {},
   "source": [
    "# CIVL 316 - Lab B"
   ]
  },
  {
   "cell_type": "code",
   "execution_count": 1,
   "metadata": {},
   "outputs": [],
   "source": [
    "import pandas as pd\n",
    "import numpy as np\n",
    "from SALib.sample import saltelli\n",
    "from SALib.analyze import sobol\n",
    "from math import sqrt\n",
    "import matplotlib.pyplot as plt"
   ]
  },
  {
   "cell_type": "markdown",
   "metadata": {},
   "source": [
    "## Deliverables\n",
    "* Calculation of the energy lost over the hydraulic jump\n",
    "* Determination of critical depth for the weir and bridge footings.\n",
    "* Specific Energy and Specific momentum plots for the weir and bridge footing conditions\n",
    "* The net force acting on the weir and footings in the model\n",
    "* A sensitivity analysis for critical calculations. Please comment if the exclusion of energy from the theoretical equations is of consequence.\n",
    "* The sources and magnitudes of error in the determination of loads and energy so an appropriate SF may be applied in designs."
   ]
  },
  {
   "cell_type": "code",
   "execution_count": 2,
   "metadata": {},
   "outputs": [],
   "source": [
    "# CONSTANTS\n",
    "B = 0.156\n",
    "# Q m3/s conductivity meter\n",
    "Qsol = 0.0094\n",
    "# Q m3/s velocity probe\n",
    "Qpro = 0.012"
   ]
  },
  {
   "cell_type": "code",
   "execution_count": 3,
   "metadata": {},
   "outputs": [],
   "source": [
    "qsol = Qsol/B\n",
    "qpro = Qpro/B"
   ]
  },
  {
   "cell_type": "code",
   "execution_count": 4,
   "metadata": {},
   "outputs": [
    {
     "name": "stdout",
     "output_type": "stream",
     "text": [
      "qpsol = 0.06025641025641026, qpro = 0.07692307692307693\n"
     ]
    }
   ],
   "source": [
    "print(f\"qpsol = {qsol}, qpro = {qpro}\")"
   ]
  },
  {
   "cell_type": "code",
   "execution_count": 5,
   "metadata": {},
   "outputs": [],
   "source": [
    "df1 = pd.read_csv(\"./labB_data.csv\")\n",
    "df2 = pd.read_csv(\"./labB_data2.csv\")"
   ]
  },
  {
   "cell_type": "code",
   "execution_count": 6,
   "metadata": {},
   "outputs": [],
   "source": [
    "# change all height measurements to meter units\n",
    "df1[[\"Weir height\", \"y1\", \"y2\", \"yc\", \"y3\"]] = df1[[\"Weir height\", \"y1\", \"y2\", \"yc\", \"y3\"]].apply(lambda x: x*0.01)\n",
    "df2 = df2.apply(lambda x: x*0.01)"
   ]
  },
  {
   "cell_type": "code",
   "execution_count": 7,
   "metadata": {
    "scrolled": true
   },
   "outputs": [
    {
     "data": {
      "text/html": [
       "<div>\n",
       "<style scoped>\n",
       "    .dataframe tbody tr th:only-of-type {\n",
       "        vertical-align: middle;\n",
       "    }\n",
       "\n",
       "    .dataframe tbody tr th {\n",
       "        vertical-align: top;\n",
       "    }\n",
       "\n",
       "    .dataframe thead th {\n",
       "        text-align: right;\n",
       "    }\n",
       "</style>\n",
       "<table border=\"1\" class=\"dataframe\">\n",
       "  <thead>\n",
       "    <tr style=\"text-align: right;\">\n",
       "      <th></th>\n",
       "      <th>Weir #</th>\n",
       "      <th>Weir height</th>\n",
       "      <th>y1</th>\n",
       "      <th>y2</th>\n",
       "      <th>yc</th>\n",
       "      <th>y3</th>\n",
       "    </tr>\n",
       "  </thead>\n",
       "  <tbody>\n",
       "    <tr>\n",
       "      <th>0</th>\n",
       "      <td>9</td>\n",
       "      <td>0.2290</td>\n",
       "      <td>0.350</td>\n",
       "      <td>0.042</td>\n",
       "      <td>0.103</td>\n",
       "      <td>0.171</td>\n",
       "    </tr>\n",
       "    <tr>\n",
       "      <th>1</th>\n",
       "      <td>8</td>\n",
       "      <td>0.2032</td>\n",
       "      <td>0.327</td>\n",
       "      <td>0.045</td>\n",
       "      <td>0.105</td>\n",
       "      <td>0.169</td>\n",
       "    </tr>\n",
       "    <tr>\n",
       "      <th>2</th>\n",
       "      <td>7</td>\n",
       "      <td>0.1778</td>\n",
       "      <td>0.302</td>\n",
       "      <td>0.048</td>\n",
       "      <td>0.106</td>\n",
       "      <td>0.164</td>\n",
       "    </tr>\n",
       "    <tr>\n",
       "      <th>3</th>\n",
       "      <td>6</td>\n",
       "      <td>0.1524</td>\n",
       "      <td>0.277</td>\n",
       "      <td>0.053</td>\n",
       "      <td>0.111</td>\n",
       "      <td>0.160</td>\n",
       "    </tr>\n",
       "    <tr>\n",
       "      <th>4</th>\n",
       "      <td>5</td>\n",
       "      <td>0.1270</td>\n",
       "      <td>0.255</td>\n",
       "      <td>0.056</td>\n",
       "      <td>0.112</td>\n",
       "      <td>0.154</td>\n",
       "    </tr>\n",
       "    <tr>\n",
       "      <th>5</th>\n",
       "      <td>4</td>\n",
       "      <td>0.1016</td>\n",
       "      <td>0.230</td>\n",
       "      <td>0.059</td>\n",
       "      <td>0.112</td>\n",
       "      <td>0.147</td>\n",
       "    </tr>\n",
       "    <tr>\n",
       "      <th>6</th>\n",
       "      <td>3</td>\n",
       "      <td>0.0762</td>\n",
       "      <td>0.203</td>\n",
       "      <td>0.066</td>\n",
       "      <td>0.110</td>\n",
       "      <td>0.138</td>\n",
       "    </tr>\n",
       "  </tbody>\n",
       "</table>\n",
       "</div>"
      ],
      "text/plain": [
       "   Weir #  Weir height     y1     y2     yc     y3\n",
       "0       9       0.2290  0.350  0.042  0.103  0.171\n",
       "1       8       0.2032  0.327  0.045  0.105  0.169\n",
       "2       7       0.1778  0.302  0.048  0.106  0.164\n",
       "3       6       0.1524  0.277  0.053  0.111  0.160\n",
       "4       5       0.1270  0.255  0.056  0.112  0.154\n",
       "5       4       0.1016  0.230  0.059  0.112  0.147\n",
       "6       3       0.0762  0.203  0.066  0.110  0.138"
      ]
     },
     "execution_count": 7,
     "metadata": {},
     "output_type": "execute_result"
    }
   ],
   "source": [
    "df1"
   ]
  },
  {
   "cell_type": "code",
   "execution_count": 8,
   "metadata": {},
   "outputs": [
    {
     "data": {
      "text/html": [
       "<div>\n",
       "<style scoped>\n",
       "    .dataframe tbody tr th:only-of-type {\n",
       "        vertical-align: middle;\n",
       "    }\n",
       "\n",
       "    .dataframe tbody tr th {\n",
       "        vertical-align: top;\n",
       "    }\n",
       "\n",
       "    .dataframe thead th {\n",
       "        text-align: right;\n",
       "    }\n",
       "</style>\n",
       "<table border=\"1\" class=\"dataframe\">\n",
       "  <thead>\n",
       "    <tr style=\"text-align: right;\">\n",
       "      <th></th>\n",
       "      <th>Width</th>\n",
       "      <th>Upstream depth</th>\n",
       "      <th>Downstream depth</th>\n",
       "      <th>Middle depth</th>\n",
       "    </tr>\n",
       "  </thead>\n",
       "  <tbody>\n",
       "    <tr>\n",
       "      <th>0</th>\n",
       "      <td>0.131</td>\n",
       "      <td>0.150</td>\n",
       "      <td>0.079</td>\n",
       "      <td>0.123</td>\n",
       "    </tr>\n",
       "    <tr>\n",
       "      <th>1</th>\n",
       "      <td>0.106</td>\n",
       "      <td>0.183</td>\n",
       "      <td>0.072</td>\n",
       "      <td>0.137</td>\n",
       "    </tr>\n",
       "    <tr>\n",
       "      <th>2</th>\n",
       "      <td>0.095</td>\n",
       "      <td>0.196</td>\n",
       "      <td>0.067</td>\n",
       "      <td>0.152</td>\n",
       "    </tr>\n",
       "  </tbody>\n",
       "</table>\n",
       "</div>"
      ],
      "text/plain": [
       "   Width  Upstream depth  Downstream depth  Middle depth\n",
       "0  0.131           0.150             0.079         0.123\n",
       "1  0.106           0.183             0.072         0.137\n",
       "2  0.095           0.196             0.067         0.152"
      ]
     },
     "execution_count": 8,
     "metadata": {},
     "output_type": "execute_result"
    }
   ],
   "source": [
    "df2"
   ]
  },
  {
   "cell_type": "markdown",
   "metadata": {},
   "source": [
    "## Energy Loss Per Trial"
   ]
  },
  {
   "cell_type": "code",
   "execution_count": 9,
   "metadata": {},
   "outputs": [],
   "source": [
    "def getEloss(y2, y3):\n",
    "    Eloss = ((y3-y2)**3)/(4*y2*y3)\n",
    "    return Eloss"
   ]
  },
  {
   "cell_type": "code",
   "execution_count": 10,
   "metadata": {},
   "outputs": [
    {
     "data": {
      "text/html": [
       "<div>\n",
       "<style scoped>\n",
       "    .dataframe tbody tr th:only-of-type {\n",
       "        vertical-align: middle;\n",
       "    }\n",
       "\n",
       "    .dataframe tbody tr th {\n",
       "        vertical-align: top;\n",
       "    }\n",
       "\n",
       "    .dataframe thead th {\n",
       "        text-align: right;\n",
       "    }\n",
       "</style>\n",
       "<table border=\"1\" class=\"dataframe\">\n",
       "  <thead>\n",
       "    <tr style=\"text-align: right;\">\n",
       "      <th></th>\n",
       "      <th>Weir #</th>\n",
       "      <th>Weir height</th>\n",
       "      <th>y1</th>\n",
       "      <th>y2</th>\n",
       "      <th>yc</th>\n",
       "      <th>y3</th>\n",
       "      <th>Eloss</th>\n",
       "    </tr>\n",
       "  </thead>\n",
       "  <tbody>\n",
       "    <tr>\n",
       "      <th>0</th>\n",
       "      <td>9</td>\n",
       "      <td>0.2290</td>\n",
       "      <td>0.350</td>\n",
       "      <td>0.042</td>\n",
       "      <td>0.103</td>\n",
       "      <td>0.171</td>\n",
       "      <td>0.074725</td>\n",
       "    </tr>\n",
       "    <tr>\n",
       "      <th>1</th>\n",
       "      <td>8</td>\n",
       "      <td>0.2032</td>\n",
       "      <td>0.327</td>\n",
       "      <td>0.045</td>\n",
       "      <td>0.105</td>\n",
       "      <td>0.169</td>\n",
       "      <td>0.062677</td>\n",
       "    </tr>\n",
       "    <tr>\n",
       "      <th>2</th>\n",
       "      <td>7</td>\n",
       "      <td>0.1778</td>\n",
       "      <td>0.302</td>\n",
       "      <td>0.048</td>\n",
       "      <td>0.106</td>\n",
       "      <td>0.164</td>\n",
       "      <td>0.049571</td>\n",
       "    </tr>\n",
       "    <tr>\n",
       "      <th>3</th>\n",
       "      <td>6</td>\n",
       "      <td>0.1524</td>\n",
       "      <td>0.277</td>\n",
       "      <td>0.053</td>\n",
       "      <td>0.111</td>\n",
       "      <td>0.160</td>\n",
       "      <td>0.036116</td>\n",
       "    </tr>\n",
       "    <tr>\n",
       "      <th>4</th>\n",
       "      <td>5</td>\n",
       "      <td>0.1270</td>\n",
       "      <td>0.255</td>\n",
       "      <td>0.056</td>\n",
       "      <td>0.112</td>\n",
       "      <td>0.154</td>\n",
       "      <td>0.027284</td>\n",
       "    </tr>\n",
       "    <tr>\n",
       "      <th>5</th>\n",
       "      <td>4</td>\n",
       "      <td>0.1016</td>\n",
       "      <td>0.230</td>\n",
       "      <td>0.059</td>\n",
       "      <td>0.112</td>\n",
       "      <td>0.147</td>\n",
       "      <td>0.019643</td>\n",
       "    </tr>\n",
       "    <tr>\n",
       "      <th>6</th>\n",
       "      <td>3</td>\n",
       "      <td>0.0762</td>\n",
       "      <td>0.203</td>\n",
       "      <td>0.066</td>\n",
       "      <td>0.110</td>\n",
       "      <td>0.138</td>\n",
       "      <td>0.010245</td>\n",
       "    </tr>\n",
       "  </tbody>\n",
       "</table>\n",
       "</div>"
      ],
      "text/plain": [
       "   Weir #  Weir height     y1     y2     yc     y3     Eloss\n",
       "0       9       0.2290  0.350  0.042  0.103  0.171  0.074725\n",
       "1       8       0.2032  0.327  0.045  0.105  0.169  0.062677\n",
       "2       7       0.1778  0.302  0.048  0.106  0.164  0.049571\n",
       "3       6       0.1524  0.277  0.053  0.111  0.160  0.036116\n",
       "4       5       0.1270  0.255  0.056  0.112  0.154  0.027284\n",
       "5       4       0.1016  0.230  0.059  0.112  0.147  0.019643\n",
       "6       3       0.0762  0.203  0.066  0.110  0.138  0.010245"
      ]
     },
     "execution_count": 10,
     "metadata": {},
     "output_type": "execute_result"
    }
   ],
   "source": [
    "df1[\"Eloss\"] = df1.apply(lambda rows: getEloss(rows[\"y2\"], rows[\"y3\"]), axis=1)\n",
    "df1"
   ]
  },
  {
   "cell_type": "markdown",
   "metadata": {},
   "source": [
    "## Critical Depth: Weir - Measured vs. Theoretical"
   ]
  },
  {
   "cell_type": "code",
   "execution_count": 11,
   "metadata": {},
   "outputs": [
    {
     "data": {
      "text/plain": [
       "0    0.103\n",
       "1    0.105\n",
       "2    0.106\n",
       "3    0.111\n",
       "4    0.112\n",
       "5    0.112\n",
       "6    0.110\n",
       "Name: yc, dtype: float64"
      ]
     },
     "execution_count": 11,
     "metadata": {},
     "output_type": "execute_result"
    }
   ],
   "source": [
    "# measured yc\n",
    "df1[\"yc\"]"
   ]
  },
  {
   "cell_type": "code",
   "execution_count": 12,
   "metadata": {},
   "outputs": [],
   "source": [
    "# theoretical yc\n",
    "def cbrt(x):\n",
    "    if 0 <=x: return x**(1./3.)\n",
    "    return -(-x)**(1./3.)\n",
    "\n",
    "def getYc(q, g=9.81):\n",
    "    yc = cbrt((q**2/g))\n",
    "    return yc"
   ]
  },
  {
   "cell_type": "markdown",
   "metadata": {},
   "source": [
    "We determine one value for theoretical yc, since specific discharge (q) remains constant due to unchanging flow rate (Q), and unchanging channel width (B)"
   ]
  },
  {
   "cell_type": "code",
   "execution_count": 13,
   "metadata": {},
   "outputs": [
    {
     "data": {
      "text/plain": [
       "0.08449183897166887"
      ]
     },
     "execution_count": 13,
     "metadata": {},
     "output_type": "execute_result"
    }
   ],
   "source": [
    "theo_yc = getYc(qpro)\n",
    "theo_yc"
   ]
  },
  {
   "cell_type": "markdown",
   "metadata": {},
   "source": [
    "## Specific Discharge (q): Weir - Measured vs. Theoretical"
   ]
  },
  {
   "cell_type": "code",
   "execution_count": 14,
   "metadata": {},
   "outputs": [
    {
     "data": {
      "text/plain": [
       "0.07692307692307693"
      ]
     },
     "execution_count": 14,
     "metadata": {},
     "output_type": "execute_result"
    }
   ],
   "source": [
    "# measured q\n",
    "qpro"
   ]
  },
  {
   "cell_type": "code",
   "execution_count": 15,
   "metadata": {},
   "outputs": [],
   "source": [
    "def getq(yc, g=9.81):\n",
    "    q = sqrt((yc**3)*g)\n",
    "    return q"
   ]
  },
  {
   "cell_type": "code",
   "execution_count": 16,
   "metadata": {},
   "outputs": [
    {
     "data": {
      "text/plain": [
       "0    0.103536\n",
       "1    0.106566\n",
       "2    0.108092\n",
       "3    0.115829\n",
       "4    0.117398\n",
       "5    0.117398\n",
       "6    0.114268\n",
       "Name: yc, dtype: float64"
      ]
     },
     "execution_count": 16,
     "metadata": {},
     "output_type": "execute_result"
    }
   ],
   "source": [
    "# theoretical q\n",
    "df1[\"yc\"].apply(getq)"
   ]
  },
  {
   "cell_type": "markdown",
   "metadata": {},
   "source": [
    "## Critical Depth (yc) & Specific Discharge (q): Bridge Footings - Theoretical"
   ]
  },
  {
   "cell_type": "code",
   "execution_count": 17,
   "metadata": {},
   "outputs": [],
   "source": [
    "def getBCrit(Q, Ec, g=9.81):\n",
    "    Bc = Q/sqrt((8/27)*g*Ec**3)\n",
    "    return Bc"
   ]
  },
  {
   "cell_type": "code",
   "execution_count": 18,
   "metadata": {},
   "outputs": [],
   "source": [
    "def getEc(yc):\n",
    "    return (3/2) * yc"
   ]
  },
  {
   "cell_type": "code",
   "execution_count": 19,
   "metadata": {},
   "outputs": [
    {
     "data": {
      "text/html": [
       "<div>\n",
       "<style scoped>\n",
       "    .dataframe tbody tr th:only-of-type {\n",
       "        vertical-align: middle;\n",
       "    }\n",
       "\n",
       "    .dataframe tbody tr th {\n",
       "        vertical-align: top;\n",
       "    }\n",
       "\n",
       "    .dataframe thead th {\n",
       "        text-align: right;\n",
       "    }\n",
       "</style>\n",
       "<table border=\"1\" class=\"dataframe\">\n",
       "  <thead>\n",
       "    <tr style=\"text-align: right;\">\n",
       "      <th></th>\n",
       "      <th>Width</th>\n",
       "      <th>Upstream depth</th>\n",
       "      <th>Downstream depth</th>\n",
       "      <th>Middle depth</th>\n",
       "    </tr>\n",
       "  </thead>\n",
       "  <tbody>\n",
       "    <tr>\n",
       "      <th>0</th>\n",
       "      <td>0.131</td>\n",
       "      <td>0.150</td>\n",
       "      <td>0.079</td>\n",
       "      <td>0.123</td>\n",
       "    </tr>\n",
       "    <tr>\n",
       "      <th>1</th>\n",
       "      <td>0.106</td>\n",
       "      <td>0.183</td>\n",
       "      <td>0.072</td>\n",
       "      <td>0.137</td>\n",
       "    </tr>\n",
       "    <tr>\n",
       "      <th>2</th>\n",
       "      <td>0.095</td>\n",
       "      <td>0.196</td>\n",
       "      <td>0.067</td>\n",
       "      <td>0.152</td>\n",
       "    </tr>\n",
       "  </tbody>\n",
       "</table>\n",
       "</div>"
      ],
      "text/plain": [
       "   Width  Upstream depth  Downstream depth  Middle depth\n",
       "0  0.131           0.150             0.079         0.123\n",
       "1  0.106           0.183             0.072         0.137\n",
       "2  0.095           0.196             0.067         0.152"
      ]
     },
     "execution_count": 19,
     "metadata": {},
     "output_type": "execute_result"
    }
   ],
   "source": [
    "df2"
   ]
  },
  {
   "cell_type": "code",
   "execution_count": 20,
   "metadata": {},
   "outputs": [
    {
     "data": {
      "text/plain": [
       "0.09492566125584101"
      ]
     },
     "execution_count": 20,
     "metadata": {},
     "output_type": "execute_result"
    }
   ],
   "source": [
    "getYc(Qpro/0.131)"
   ]
  },
  {
   "cell_type": "code",
   "execution_count": 21,
   "metadata": {},
   "outputs": [
    {
     "data": {
      "text/plain": [
       "0    0.131\n",
       "1    0.106\n",
       "2    0.095\n",
       "Name: Width, dtype: float64"
      ]
     },
     "execution_count": 21,
     "metadata": {},
     "output_type": "execute_result"
    }
   ],
   "source": [
    "df2[\"Width\"]"
   ]
  },
  {
   "cell_type": "code",
   "execution_count": 22,
   "metadata": {},
   "outputs": [
    {
     "data": {
      "text/html": [
       "<div>\n",
       "<style scoped>\n",
       "    .dataframe tbody tr th:only-of-type {\n",
       "        vertical-align: middle;\n",
       "    }\n",
       "\n",
       "    .dataframe tbody tr th {\n",
       "        vertical-align: top;\n",
       "    }\n",
       "\n",
       "    .dataframe thead th {\n",
       "        text-align: right;\n",
       "    }\n",
       "</style>\n",
       "<table border=\"1\" class=\"dataframe\">\n",
       "  <thead>\n",
       "    <tr style=\"text-align: right;\">\n",
       "      <th></th>\n",
       "      <th>Width</th>\n",
       "      <th>Upstream depth</th>\n",
       "      <th>Downstream depth</th>\n",
       "      <th>Middle depth</th>\n",
       "      <th>constrict_q</th>\n",
       "    </tr>\n",
       "  </thead>\n",
       "  <tbody>\n",
       "    <tr>\n",
       "      <th>0</th>\n",
       "      <td>0.131</td>\n",
       "      <td>0.150</td>\n",
       "      <td>0.079</td>\n",
       "      <td>0.123</td>\n",
       "      <td>0.091603</td>\n",
       "    </tr>\n",
       "    <tr>\n",
       "      <th>1</th>\n",
       "      <td>0.106</td>\n",
       "      <td>0.183</td>\n",
       "      <td>0.072</td>\n",
       "      <td>0.137</td>\n",
       "      <td>0.113208</td>\n",
       "    </tr>\n",
       "    <tr>\n",
       "      <th>2</th>\n",
       "      <td>0.095</td>\n",
       "      <td>0.196</td>\n",
       "      <td>0.067</td>\n",
       "      <td>0.152</td>\n",
       "      <td>0.126316</td>\n",
       "    </tr>\n",
       "  </tbody>\n",
       "</table>\n",
       "</div>"
      ],
      "text/plain": [
       "   Width  Upstream depth  Downstream depth  Middle depth  constrict_q\n",
       "0  0.131           0.150             0.079         0.123     0.091603\n",
       "1  0.106           0.183             0.072         0.137     0.113208\n",
       "2  0.095           0.196             0.067         0.152     0.126316"
      ]
     },
     "execution_count": 22,
     "metadata": {},
     "output_type": "execute_result"
    }
   ],
   "source": [
    "df2[\"constrict_q\"] = df2.apply(lambda rows: Qpro/rows[\"Width\"], axis=1)\n",
    "df2"
   ]
  },
  {
   "cell_type": "code",
   "execution_count": 23,
   "metadata": {
    "scrolled": true
   },
   "outputs": [
    {
     "data": {
      "text/html": [
       "<div>\n",
       "<style scoped>\n",
       "    .dataframe tbody tr th:only-of-type {\n",
       "        vertical-align: middle;\n",
       "    }\n",
       "\n",
       "    .dataframe tbody tr th {\n",
       "        vertical-align: top;\n",
       "    }\n",
       "\n",
       "    .dataframe thead th {\n",
       "        text-align: right;\n",
       "    }\n",
       "</style>\n",
       "<table border=\"1\" class=\"dataframe\">\n",
       "  <thead>\n",
       "    <tr style=\"text-align: right;\">\n",
       "      <th></th>\n",
       "      <th>Width</th>\n",
       "      <th>Upstream depth</th>\n",
       "      <th>Downstream depth</th>\n",
       "      <th>Middle depth</th>\n",
       "      <th>constrict_q</th>\n",
       "      <th>Critical depth</th>\n",
       "    </tr>\n",
       "  </thead>\n",
       "  <tbody>\n",
       "    <tr>\n",
       "      <th>0</th>\n",
       "      <td>0.131</td>\n",
       "      <td>0.150</td>\n",
       "      <td>0.079</td>\n",
       "      <td>0.123</td>\n",
       "      <td>0.091603</td>\n",
       "      <td>0.094926</td>\n",
       "    </tr>\n",
       "    <tr>\n",
       "      <th>1</th>\n",
       "      <td>0.106</td>\n",
       "      <td>0.183</td>\n",
       "      <td>0.072</td>\n",
       "      <td>0.137</td>\n",
       "      <td>0.113208</td>\n",
       "      <td>0.109319</td>\n",
       "    </tr>\n",
       "    <tr>\n",
       "      <th>2</th>\n",
       "      <td>0.095</td>\n",
       "      <td>0.196</td>\n",
       "      <td>0.067</td>\n",
       "      <td>0.152</td>\n",
       "      <td>0.126316</td>\n",
       "      <td>0.117602</td>\n",
       "    </tr>\n",
       "  </tbody>\n",
       "</table>\n",
       "</div>"
      ],
      "text/plain": [
       "   Width  Upstream depth  Downstream depth  Middle depth  constrict_q  \\\n",
       "0  0.131           0.150             0.079         0.123     0.091603   \n",
       "1  0.106           0.183             0.072         0.137     0.113208   \n",
       "2  0.095           0.196             0.067         0.152     0.126316   \n",
       "\n",
       "   Critical depth  \n",
       "0        0.094926  \n",
       "1        0.109319  \n",
       "2        0.117602  "
      ]
     },
     "execution_count": 23,
     "metadata": {},
     "output_type": "execute_result"
    }
   ],
   "source": [
    "df2[\"Critical depth\"] = df2.apply(lambda rows: getYc(Qpro/rows[\"Width\"]), axis=1)\n",
    "df2"
   ]
  },
  {
   "cell_type": "markdown",
   "metadata": {},
   "source": [
    "## Part 1: Weir - qpro"
   ]
  },
  {
   "cell_type": "code",
   "execution_count": 24,
   "metadata": {},
   "outputs": [],
   "source": [
    "def getEnergy(y, q, g=9.81):\n",
    "    E = y + (q**2/(2*g*y**2))\n",
    "    return E"
   ]
  },
  {
   "cell_type": "code",
   "execution_count": 25,
   "metadata": {},
   "outputs": [],
   "source": [
    "# calculate momentum per unit width\n",
    "def getMomentum(y, q, g=9.81):\n",
    "    M = (q**2/(g*y)) + (y**2/2)\n",
    "    return M"
   ]
  },
  {
   "cell_type": "code",
   "execution_count": 26,
   "metadata": {},
   "outputs": [
    {
     "data": {
      "text/plain": [
       "0.06297680937818552"
      ]
     },
     "execution_count": 26,
     "metadata": {},
     "output_type": "execute_result"
    }
   ],
   "source": [
    "getMomentum(0.35, 0.077)"
   ]
  },
  {
   "cell_type": "code",
   "execution_count": 27,
   "metadata": {},
   "outputs": [
    {
     "data": {
      "text/plain": [
       "0.327"
      ]
     },
     "execution_count": 27,
     "metadata": {},
     "output_type": "execute_result"
    }
   ],
   "source": [
    "df1.iloc[1].y1"
   ]
  },
  {
   "cell_type": "code",
   "execution_count": 28,
   "metadata": {},
   "outputs": [
    {
     "data": {
      "text/plain": [
       "0.13492464159237752"
      ]
     },
     "execution_count": 28,
     "metadata": {},
     "output_type": "execute_result"
    }
   ],
   "source": [
    "getEnergy(df1.iloc[6].yc, qpro)"
   ]
  },
  {
   "cell_type": "markdown",
   "metadata": {},
   "source": [
    "### Specific Energy - Weir"
   ]
  },
  {
   "cell_type": "code",
   "execution_count": 29,
   "metadata": {},
   "outputs": [],
   "source": [
    "def makeSEplot(arr_q, leftB, rightB, typ):\n",
    "    vec_energyFunc = np.vectorize(getEnergy)\n",
    "    for q in arr_q:\n",
    "        y_vals = np.linspace(leftB, rightB, 100)\n",
    "        x_vals = vec_energyFunc(y_vals, q)\n",
    "        plt.plot(x_vals, y_vals, label=f\"q = {round(q, 3)}\")\n",
    "    plt.plot(y_vals, y_vals, color=\"red\", linestyle=\"dotted\", label=\"E = y\")\n",
    "    plt.title(f\"Specific Energy vs. Depth - {typ}\")\n",
    "    plt.xlabel(\"Specific Energy (m)\")\n",
    "    plt.ylabel(\"Depth (m)\")\n",
    "    plt.legend()\n",
    "    fig = plt.gcf()\n",
    "    plt.show()\n",
    "#     fig.savefig(f\"Specific Energy vs. Depth - {typ}_fig.png\")"
   ]
  },
  {
   "cell_type": "code",
   "execution_count": 30,
   "metadata": {},
   "outputs": [
    {
     "data": {
      "image/png": "[encoded data removed]",
      "text/plain": [
       "<Figure size 432x288 with 1 Axes>"
      ]
     },
     "metadata": {
      "needs_background": "light"
     },
     "output_type": "display_data"
    }
   ],
   "source": [
    "makeSEplot([qpro], 0.025, 0.4, typ=\"Weir\")"
   ]
  },
  {
   "cell_type": "markdown",
   "metadata": {},
   "source": [
    "### Specific Momentum - Weir"
   ]
  },
  {
   "cell_type": "code",
   "execution_count": 31,
   "metadata": {},
   "outputs": [],
   "source": [
    "def makeSMplot(arr_q, leftB, rightB, typ):\n",
    "    vec_energyFunc = np.vectorize(getMomentum)\n",
    "    for q in arr_q:\n",
    "        y_vals = np.linspace(leftB, rightB, 100)\n",
    "        x_vals = vec_energyFunc(y_vals, q)\n",
    "        plt.plot(x_vals, y_vals, label=f\"q = {round(q, 3)}\")\n",
    "    plt.title(f\"Specific Momentum vs. Depth - {typ}\")\n",
    "    plt.xlabel(\"Specific Momentum (m^2)\")\n",
    "    plt.ylabel(\"Depth (m)\")\n",
    "    plt.legend()\n",
    "    fig = plt.gcf()\n",
    "    plt.show()\n",
    "#     fig.savefig(f\"Specific Momentum vs. Depth - {typ}_fig.png\")"
   ]
  },
  {
   "cell_type": "code",
   "execution_count": 32,
   "metadata": {},
   "outputs": [
    {
     "data": {
      "image/png": "[encoded data removed]",
      "text/plain": [
       "<Figure size 432x288 with 1 Axes>"
      ]
     },
     "metadata": {
      "needs_background": "light"
     },
     "output_type": "display_data"
    }
   ],
   "source": [
    "makeSMplot([qpro], 0.005, 0.42, typ=\"Weir\")"
   ]
  },
  {
   "cell_type": "markdown",
   "metadata": {},
   "source": [
    "## Part 2: Bridge Footings - qpro"
   ]
  },
  {
   "cell_type": "markdown",
   "metadata": {},
   "source": [
    "### Specific Energy - qpro"
   ]
  },
  {
   "cell_type": "code",
   "execution_count": 33,
   "metadata": {
    "scrolled": true
   },
   "outputs": [
    {
     "data": {
      "image/png": "[encoded data removed]",
      "text/plain": [
       "<Figure size 432x288 with 1 Axes>"
      ]
     },
     "metadata": {
      "needs_background": "light"
     },
     "output_type": "display_data"
    }
   ],
   "source": [
    "makeSEplot(df2[\"constrict_q\"].tolist(), 0.03, 0.4, typ=\"Bridge Footings\")"
   ]
  },
  {
   "cell_type": "markdown",
   "metadata": {},
   "source": [
    "### Specific Momentum - qpro"
   ]
  },
  {
   "cell_type": "code",
   "execution_count": 34,
   "metadata": {},
   "outputs": [
    {
     "data": {
      "image/png": "[encoded data removed]",
      "text/plain": [
       "<Figure size 432x288 with 1 Axes>"
      ]
     },
     "metadata": {
      "needs_background": "light"
     },
     "output_type": "display_data"
    }
   ],
   "source": [
    "makeSMplot(df2[\"constrict_q\"].tolist(), 0.01, 0.35, typ=\"Bridge Footings\")"
   ]
  },
  {
   "cell_type": "markdown",
   "metadata": {},
   "source": [
    "## Net Force acting on Weir"
   ]
  },
  {
   "cell_type": "code",
   "execution_count": 35,
   "metadata": {},
   "outputs": [],
   "source": [
    "# M1 and M2 are momentums per unit width. To get true momentum (and by association, Pf)\n",
    "# multiply momentums by the channel width, B\n",
    "def getPf(M1, M2, gamma=9810):\n",
    "    return (M1-M2)* B * gamma "
   ]
  },
  {
   "cell_type": "code",
   "execution_count": 36,
   "metadata": {},
   "outputs": [],
   "source": [
    "df1[\"Pf\"] = df1.apply(lambda rows: \n",
    "                      getPf(getMomentum(rows[\"y1\"], qpro), \n",
    "                            getMomentum(rows[\"y2\"], qpro)), axis=1)"
   ]
  },
  {
   "cell_type": "code",
   "execution_count": 37,
   "metadata": {},
   "outputs": [
    {
     "data": {
      "text/html": [
       "<div>\n",
       "<style scoped>\n",
       "    .dataframe tbody tr th:only-of-type {\n",
       "        vertical-align: middle;\n",
       "    }\n",
       "\n",
       "    .dataframe tbody tr th {\n",
       "        vertical-align: top;\n",
       "    }\n",
       "\n",
       "    .dataframe thead th {\n",
       "        text-align: right;\n",
       "    }\n",
       "</style>\n",
       "<table border=\"1\" class=\"dataframe\">\n",
       "  <thead>\n",
       "    <tr style=\"text-align: right;\">\n",
       "      <th></th>\n",
       "      <th>Weir #</th>\n",
       "      <th>Weir height</th>\n",
       "      <th>y1</th>\n",
       "      <th>y2</th>\n",
       "      <th>yc</th>\n",
       "      <th>y3</th>\n",
       "      <th>Eloss</th>\n",
       "      <th>Pf</th>\n",
       "    </tr>\n",
       "  </thead>\n",
       "  <tbody>\n",
       "    <tr>\n",
       "      <th>0</th>\n",
       "      <td>9</td>\n",
       "      <td>0.2290</td>\n",
       "      <td>0.350</td>\n",
       "      <td>0.042</td>\n",
       "      <td>0.103</td>\n",
       "      <td>0.171</td>\n",
       "      <td>0.074725</td>\n",
       "      <td>73.044113</td>\n",
       "    </tr>\n",
       "    <tr>\n",
       "      <th>1</th>\n",
       "      <td>8</td>\n",
       "      <td>0.2032</td>\n",
       "      <td>0.327</td>\n",
       "      <td>0.045</td>\n",
       "      <td>0.105</td>\n",
       "      <td>0.169</td>\n",
       "      <td>0.062677</td>\n",
       "      <td>62.580487</td>\n",
       "    </tr>\n",
       "    <tr>\n",
       "      <th>2</th>\n",
       "      <td>7</td>\n",
       "      <td>0.1778</td>\n",
       "      <td>0.302</td>\n",
       "      <td>0.048</td>\n",
       "      <td>0.106</td>\n",
       "      <td>0.164</td>\n",
       "      <td>0.049571</td>\n",
       "      <td>51.850279</td>\n",
       "    </tr>\n",
       "    <tr>\n",
       "      <th>3</th>\n",
       "      <td>6</td>\n",
       "      <td>0.1524</td>\n",
       "      <td>0.277</td>\n",
       "      <td>0.053</td>\n",
       "      <td>0.111</td>\n",
       "      <td>0.160</td>\n",
       "      <td>0.036116</td>\n",
       "      <td>42.477968</td>\n",
       "    </tr>\n",
       "    <tr>\n",
       "      <th>4</th>\n",
       "      <td>5</td>\n",
       "      <td>0.1270</td>\n",
       "      <td>0.255</td>\n",
       "      <td>0.056</td>\n",
       "      <td>0.112</td>\n",
       "      <td>0.154</td>\n",
       "      <td>0.027284</td>\n",
       "      <td>34.492618</td>\n",
       "    </tr>\n",
       "    <tr>\n",
       "      <th>5</th>\n",
       "      <td>4</td>\n",
       "      <td>0.1016</td>\n",
       "      <td>0.230</td>\n",
       "      <td>0.059</td>\n",
       "      <td>0.112</td>\n",
       "      <td>0.147</td>\n",
       "      <td>0.019643</td>\n",
       "      <td>26.182437</td>\n",
       "    </tr>\n",
       "    <tr>\n",
       "      <th>6</th>\n",
       "      <td>3</td>\n",
       "      <td>0.0762</td>\n",
       "      <td>0.203</td>\n",
       "      <td>0.066</td>\n",
       "      <td>0.110</td>\n",
       "      <td>0.138</td>\n",
       "      <td>0.010245</td>\n",
       "      <td>18.760342</td>\n",
       "    </tr>\n",
       "  </tbody>\n",
       "</table>\n",
       "</div>"
      ],
      "text/plain": [
       "   Weir #  Weir height     y1     y2     yc     y3     Eloss         Pf\n",
       "0       9       0.2290  0.350  0.042  0.103  0.171  0.074725  73.044113\n",
       "1       8       0.2032  0.327  0.045  0.105  0.169  0.062677  62.580487\n",
       "2       7       0.1778  0.302  0.048  0.106  0.164  0.049571  51.850279\n",
       "3       6       0.1524  0.277  0.053  0.111  0.160  0.036116  42.477968\n",
       "4       5       0.1270  0.255  0.056  0.112  0.154  0.027284  34.492618\n",
       "5       4       0.1016  0.230  0.059  0.112  0.147  0.019643  26.182437\n",
       "6       3       0.0762  0.203  0.066  0.110  0.138  0.010245  18.760342"
      ]
     },
     "execution_count": 37,
     "metadata": {},
     "output_type": "execute_result"
    }
   ],
   "source": [
    "df1"
   ]
  },
  {
   "cell_type": "markdown",
   "metadata": {},
   "source": [
    "## Net Force acting on Bridge Footings"
   ]
  },
  {
   "cell_type": "code",
   "execution_count": 38,
   "metadata": {},
   "outputs": [],
   "source": [
    "df2[\"Pf\"] = df2.apply(lambda rows: \n",
    "                      getPf(getMomentum(rows[\"Upstream depth\"], qpro), \n",
    "                            getMomentum(rows[\"Downstream depth\"], qpro)), axis=1)"
   ]
  },
  {
   "cell_type": "code",
   "execution_count": 39,
   "metadata": {},
   "outputs": [
    {
     "data": {
      "text/html": [
       "<div>\n",
       "<style scoped>\n",
       "    .dataframe tbody tr th:only-of-type {\n",
       "        vertical-align: middle;\n",
       "    }\n",
       "\n",
       "    .dataframe tbody tr th {\n",
       "        vertical-align: top;\n",
       "    }\n",
       "\n",
       "    .dataframe thead th {\n",
       "        text-align: right;\n",
       "    }\n",
       "</style>\n",
       "<table border=\"1\" class=\"dataframe\">\n",
       "  <thead>\n",
       "    <tr style=\"text-align: right;\">\n",
       "      <th></th>\n",
       "      <th>Width</th>\n",
       "      <th>Upstream depth</th>\n",
       "      <th>Downstream depth</th>\n",
       "      <th>Pf</th>\n",
       "    </tr>\n",
       "  </thead>\n",
       "  <tbody>\n",
       "    <tr>\n",
       "      <th>0</th>\n",
       "      <td>0.131</td>\n",
       "      <td>0.150</td>\n",
       "      <td>0.079</td>\n",
       "      <td>6.910390</td>\n",
       "    </tr>\n",
       "    <tr>\n",
       "      <th>1</th>\n",
       "      <td>0.106</td>\n",
       "      <td>0.183</td>\n",
       "      <td>0.072</td>\n",
       "      <td>13.882043</td>\n",
       "    </tr>\n",
       "    <tr>\n",
       "      <th>2</th>\n",
       "      <td>0.095</td>\n",
       "      <td>0.196</td>\n",
       "      <td>0.067</td>\n",
       "      <td>16.892570</td>\n",
       "    </tr>\n",
       "  </tbody>\n",
       "</table>\n",
       "</div>"
      ],
      "text/plain": [
       "   Width  Upstream depth  Downstream depth         Pf\n",
       "0  0.131           0.150             0.079   6.910390\n",
       "1  0.106           0.183             0.072  13.882043\n",
       "2  0.095           0.196             0.067  16.892570"
      ]
     },
     "execution_count": 39,
     "metadata": {},
     "output_type": "execute_result"
    }
   ],
   "source": [
    "df2[[\"Width\", \"Upstream depth\", \"Downstream depth\", \"Pf\"]]"
   ]
  },
  {
   "cell_type": "markdown",
   "metadata": {},
   "source": [
    "## Sensitivity Analysis"
   ]
  },
  {
   "cell_type": "markdown",
   "metadata": {},
   "source": [
    "Sensitivity analysis data was taken from weir observation 1. Since our primary focus is on determining the relative impact of each variable on the momentum formula, we simply need a reasonable starting value of y1, y2, Q, and B that can be scaled to determine influence on overall momentum."
   ]
  },
  {
   "cell_type": "code",
   "execution_count": 40,
   "metadata": {},
   "outputs": [],
   "source": [
    "scaleFactor = np.array([0.5, 0.75, 1, 1.25, 1.5])\n",
    "def InputSensitivityPf(baseInd, baseCol, q, scaleF):\n",
    "    scaledInds = np.array(baseInd * scaleF)\n",
    "    scaledCols = np.array(baseCol * scaleF)\n",
    "    data = []\n",
    "    for ind in scaledInds:\n",
    "        row = []\n",
    "        for col in scaledCols:\n",
    "            Pf = getPf(getMomentum(ind, q), getMomentum(col, q))\n",
    "            row.append(Pf)\n",
    "        data.append(row)\n",
    "    return pd.DataFrame(data=np.array(data), index=scaledInds, columns=scaledCols)"
   ]
  },
  {
   "cell_type": "code",
   "execution_count": 41,
   "metadata": {},
   "outputs": [
    {
     "data": {
      "text/html": [
       "<div>\n",
       "<style scoped>\n",
       "    .dataframe tbody tr th:only-of-type {\n",
       "        vertical-align: middle;\n",
       "    }\n",
       "\n",
       "    .dataframe tbody tr th {\n",
       "        vertical-align: top;\n",
       "    }\n",
       "\n",
       "    .dataframe thead th {\n",
       "        text-align: right;\n",
       "    }\n",
       "</style>\n",
       "<table border=\"1\" class=\"dataframe\">\n",
       "  <thead>\n",
       "    <tr style=\"text-align: right;\">\n",
       "      <th>y2 (m)</th>\n",
       "      <th>0.0210</th>\n",
       "      <th>0.0315</th>\n",
       "      <th>0.0420</th>\n",
       "      <th>0.0525</th>\n",
       "      <th>0.0630</th>\n",
       "    </tr>\n",
       "    <tr>\n",
       "      <th>y1 (m)</th>\n",
       "      <th></th>\n",
       "      <th></th>\n",
       "      <th></th>\n",
       "      <th></th>\n",
       "      <th></th>\n",
       "    </tr>\n",
       "  </thead>\n",
       "  <tbody>\n",
       "    <tr>\n",
       "      <th>0.1750</th>\n",
       "      <td>-15.585126</td>\n",
       "      <td>-1.354916</td>\n",
       "      <td>5.380563</td>\n",
       "      <td>9.016918</td>\n",
       "      <td>11.019349</td>\n",
       "    </tr>\n",
       "    <tr>\n",
       "      <th>0.2625</th>\n",
       "      <td>11.948680</td>\n",
       "      <td>26.178889</td>\n",
       "      <td>32.914368</td>\n",
       "      <td>36.550723</td>\n",
       "      <td>38.553154</td>\n",
       "    </tr>\n",
       "    <tr>\n",
       "      <th>0.3500</th>\n",
       "      <td>52.078424</td>\n",
       "      <td>66.308633</td>\n",
       "      <td>73.044113</td>\n",
       "      <td>76.680468</td>\n",
       "      <td>78.682899</td>\n",
       "    </tr>\n",
       "    <tr>\n",
       "      <th>0.4375</th>\n",
       "      <td>104.276636</td>\n",
       "      <td>118.506845</td>\n",
       "      <td>125.242325</td>\n",
       "      <td>128.878680</td>\n",
       "      <td>130.881110</td>\n",
       "    </tr>\n",
       "    <tr>\n",
       "      <th>0.5250</th>\n",
       "      <td>168.367491</td>\n",
       "      <td>182.597700</td>\n",
       "      <td>189.333180</td>\n",
       "      <td>192.969534</td>\n",
       "      <td>194.971965</td>\n",
       "    </tr>\n",
       "  </tbody>\n",
       "</table>\n",
       "</div>"
      ],
      "text/plain": [
       "y2 (m)      0.0210      0.0315      0.0420      0.0525      0.0630\n",
       "y1 (m)                                                            \n",
       "0.1750  -15.585126   -1.354916    5.380563    9.016918   11.019349\n",
       "0.2625   11.948680   26.178889   32.914368   36.550723   38.553154\n",
       "0.3500   52.078424   66.308633   73.044113   76.680468   78.682899\n",
       "0.4375  104.276636  118.506845  125.242325  128.878680  130.881110\n",
       "0.5250  168.367491  182.597700  189.333180  192.969534  194.971965"
      ]
     },
     "execution_count": 41,
     "metadata": {},
     "output_type": "execute_result"
    }
   ],
   "source": [
    "SApf_1 = InputSensitivityPf(df1[\"y1\"][0], df1[\"y2\"][0], qpro, scaleFactor)\n",
    "SApf_1.index.name = \"y1 (m)\"\n",
    "SApf_1.columns.name = \"y2 (m)\"\n",
    "SApf_1"
   ]
  },
  {
   "cell_type": "code",
   "execution_count": 43,
   "metadata": {},
   "outputs": [],
   "source": [
    "const_y1 = df1[\"y1\"][0]\n",
    "const_y2 = df1[\"y2\"][0]\n",
    "scaledInds = np.array(B * scaleFactor)\n",
    "scaledCols = np.array(Qpro * scaleFactor)\n",
    "data = []\n",
    "for ind in scaledInds:\n",
    "    row = []\n",
    "    for col in scaledCols:\n",
    "        Pf = getPf(getMomentum(const_y1, (col/ind)), getMomentum(const_y2, (col/ind)))\n",
    "        row.append(Pf)\n",
    "    data.append(row)\n",
    "SApf_2 = pd.DataFrame(data=np.array(data), index=scaledInds, columns=scaledCols)"
   ]
  },
  {
   "cell_type": "code",
   "execution_count": 44,
   "metadata": {},
   "outputs": [
    {
     "data": {
      "text/html": [
       "<div>\n",
       "<style scoped>\n",
       "    .dataframe tbody tr th:only-of-type {\n",
       "        vertical-align: middle;\n",
       "    }\n",
       "\n",
       "    .dataframe tbody tr th {\n",
       "        vertical-align: top;\n",
       "    }\n",
       "\n",
       "    .dataframe thead th {\n",
       "        text-align: right;\n",
       "    }\n",
       "</style>\n",
       "<table border=\"1\" class=\"dataframe\">\n",
       "  <thead>\n",
       "    <tr style=\"text-align: right;\">\n",
       "      <th>Q (m^3/s)</th>\n",
       "      <th>0.006</th>\n",
       "      <th>0.009</th>\n",
       "      <th>0.012</th>\n",
       "      <th>0.015</th>\n",
       "      <th>0.018</th>\n",
       "    </tr>\n",
       "    <tr>\n",
       "      <th>B (m)</th>\n",
       "      <th></th>\n",
       "      <th></th>\n",
       "      <th></th>\n",
       "      <th></th>\n",
       "      <th></th>\n",
       "    </tr>\n",
       "  </thead>\n",
       "  <tbody>\n",
       "    <tr>\n",
       "      <th>0.078</th>\n",
       "      <td>73.044113</td>\n",
       "      <td>48.868289</td>\n",
       "      <td>15.022135</td>\n",
       "      <td>-28.494348</td>\n",
       "      <td>-81.681162</td>\n",
       "    </tr>\n",
       "    <tr>\n",
       "      <th>0.117</th>\n",
       "      <td>83.788924</td>\n",
       "      <td>73.044113</td>\n",
       "      <td>58.001378</td>\n",
       "      <td>38.660719</td>\n",
       "      <td>15.022135</td>\n",
       "    </tr>\n",
       "    <tr>\n",
       "      <th>0.156</th>\n",
       "      <td>87.549608</td>\n",
       "      <td>81.505652</td>\n",
       "      <td>73.044113</td>\n",
       "      <td>62.164992</td>\n",
       "      <td>48.868289</td>\n",
       "    </tr>\n",
       "    <tr>\n",
       "      <th>0.195</th>\n",
       "      <td>89.290267</td>\n",
       "      <td>85.422135</td>\n",
       "      <td>80.006751</td>\n",
       "      <td>73.044113</td>\n",
       "      <td>64.534223</td>\n",
       "    </tr>\n",
       "    <tr>\n",
       "      <th>0.234</th>\n",
       "      <td>90.235810</td>\n",
       "      <td>87.549608</td>\n",
       "      <td>83.788924</td>\n",
       "      <td>78.953759</td>\n",
       "      <td>73.044113</td>\n",
       "    </tr>\n",
       "  </tbody>\n",
       "</table>\n",
       "</div>"
      ],
      "text/plain": [
       "Q (m^3/s)      0.006      0.009      0.012      0.015      0.018\n",
       "B (m)                                                           \n",
       "0.078      73.044113  48.868289  15.022135 -28.494348 -81.681162\n",
       "0.117      83.788924  73.044113  58.001378  38.660719  15.022135\n",
       "0.156      87.549608  81.505652  73.044113  62.164992  48.868289\n",
       "0.195      89.290267  85.422135  80.006751  73.044113  64.534223\n",
       "0.234      90.235810  87.549608  83.788924  78.953759  73.044113"
      ]
     },
     "execution_count": 44,
     "metadata": {},
     "output_type": "execute_result"
    }
   ],
   "source": [
    "SApf_2.index.name = \"B (m)\"\n",
    "SApf_2.columns.name = \"Q (m^3/s)\"\n",
    "SApf_2"
   ]
  },
  {
   "cell_type": "code",
   "execution_count": 45,
   "metadata": {},
   "outputs": [
    {
     "data": {
      "text/plain": [
       "Q (m^3/s)\n",
       "0.006    87.549608\n",
       "0.009    81.505652\n",
       "0.012    73.044113\n",
       "0.015    62.164992\n",
       "0.018    48.868289\n",
       "Name: 0.156, dtype: float64"
      ]
     },
     "execution_count": 45,
     "metadata": {},
     "output_type": "execute_result"
    }
   ],
   "source": [
    "SApf_2.iloc[2]"
   ]
  },
  {
   "cell_type": "code",
   "execution_count": 46,
   "metadata": {},
   "outputs": [
    {
     "data": {
      "image/png": "[encoded data removed]",
      "text/plain": [
       "<Figure size 432x288 with 1 Axes>"
      ]
     },
     "metadata": {
      "needs_background": "light"
     },
     "output_type": "display_data"
    }
   ],
   "source": [
    "plt.plot(scaleFactor, SApf_1.iloc[2], label=\"y2 (m)\")\n",
    "plt.plot(scaleFactor, SApf_1[0.0420], label=\"y1 (m)\")\n",
    "plt.plot(scaleFactor, SApf_2.iloc[2], label=\"Q (m^3/s)\")\n",
    "plt.plot(scaleFactor, SApf_2[0.012], label=\"B\")\n",
    "\n",
    "xlabels = [\"-50%\", \"-25%\", \"Base\", \"25%\", \"50%\"]\n",
    "\n",
    "ax = plt.gca()\n",
    "ax.set_xticks(scaleFactor)\n",
    "ax.set_xticklabels(xlabels)\n",
    "plt.legend()\n",
    "plt.ylabel(\"Pf (N)\")\n",
    "plt.xlabel(\"Input deviation\")\n",
    "plt.title(\"Sensitivity Analysis for Force on a Weir.\")\n",
    "fig = plt.gcf()\n",
    "plt.show()\n",
    "# fig.savefig(f\"Sensitivity Analysis for Force on a Weir\")"
   ]
  },
  {
   "cell_type": "code",
   "execution_count": 47,
   "metadata": {},
   "outputs": [],
   "source": [
    "def InputSensitivityE(Q, B, scaleF):\n",
    "    scaledInds = np.array(B * scaleF)\n",
    "    scaledCols = np.array(Qpro * scaleF)\n",
    "    data = []\n",
    "    for ind in scaledInds:\n",
    "        row = []\n",
    "        for col in scaledCols:\n",
    "            q = col/ind\n",
    "            E = getEnergy(getYc(q), q)\n",
    "            row.append(E)\n",
    "        data.append(row)\n",
    "    return pd.DataFrame(data=np.array(data), index=scaledInds, columns=scaledCols)"
   ]
  },
  {
   "cell_type": "code",
   "execution_count": 48,
   "metadata": {},
   "outputs": [
    {
     "data": {
      "text/html": [
       "<div>\n",
       "<style scoped>\n",
       "    .dataframe tbody tr th:only-of-type {\n",
       "        vertical-align: middle;\n",
       "    }\n",
       "\n",
       "    .dataframe tbody tr th {\n",
       "        vertical-align: top;\n",
       "    }\n",
       "\n",
       "    .dataframe thead th {\n",
       "        text-align: right;\n",
       "    }\n",
       "</style>\n",
       "<table border=\"1\" class=\"dataframe\">\n",
       "  <thead>\n",
       "    <tr style=\"text-align: right;\">\n",
       "      <th>Q (m^3/s)</th>\n",
       "      <th>0.006</th>\n",
       "      <th>0.009</th>\n",
       "      <th>0.012</th>\n",
       "      <th>0.015</th>\n",
       "      <th>0.018</th>\n",
       "    </tr>\n",
       "    <tr>\n",
       "      <th>B (m)</th>\n",
       "      <th></th>\n",
       "      <th></th>\n",
       "      <th></th>\n",
       "      <th></th>\n",
       "      <th></th>\n",
       "    </tr>\n",
       "  </thead>\n",
       "  <tbody>\n",
       "    <tr>\n",
       "      <th>0.078</th>\n",
       "      <td>0.126738</td>\n",
       "      <td>0.166073</td>\n",
       "      <td>0.201184</td>\n",
       "      <td>0.233453</td>\n",
       "      <td>0.263625</td>\n",
       "    </tr>\n",
       "    <tr>\n",
       "      <th>0.117</th>\n",
       "      <td>0.096719</td>\n",
       "      <td>0.126738</td>\n",
       "      <td>0.153532</td>\n",
       "      <td>0.178158</td>\n",
       "      <td>0.201184</td>\n",
       "    </tr>\n",
       "    <tr>\n",
       "      <th>0.156</th>\n",
       "      <td>0.079840</td>\n",
       "      <td>0.104620</td>\n",
       "      <td>0.126738</td>\n",
       "      <td>0.147066</td>\n",
       "      <td>0.166073</td>\n",
       "    </tr>\n",
       "    <tr>\n",
       "      <th>0.195</th>\n",
       "      <td>0.068804</td>\n",
       "      <td>0.090159</td>\n",
       "      <td>0.109219</td>\n",
       "      <td>0.126738</td>\n",
       "      <td>0.143118</td>\n",
       "    </tr>\n",
       "    <tr>\n",
       "      <th>0.234</th>\n",
       "      <td>0.060929</td>\n",
       "      <td>0.079840</td>\n",
       "      <td>0.096719</td>\n",
       "      <td>0.112232</td>\n",
       "      <td>0.126738</td>\n",
       "    </tr>\n",
       "  </tbody>\n",
       "</table>\n",
       "</div>"
      ],
      "text/plain": [
       "Q (m^3/s)     0.006     0.009     0.012     0.015     0.018\n",
       "B (m)                                                      \n",
       "0.078      0.126738  0.166073  0.201184  0.233453  0.263625\n",
       "0.117      0.096719  0.126738  0.153532  0.178158  0.201184\n",
       "0.156      0.079840  0.104620  0.126738  0.147066  0.166073\n",
       "0.195      0.068804  0.090159  0.109219  0.126738  0.143118\n",
       "0.234      0.060929  0.079840  0.096719  0.112232  0.126738"
      ]
     },
     "execution_count": 48,
     "metadata": {},
     "output_type": "execute_result"
    }
   ],
   "source": [
    "SAE = InputSensitivityE(Qpro, B, scaleFactor)\n",
    "SAE.index.name = \"B (m)\"\n",
    "SAE.columns.name = \"Q (m^3/s)\"\n",
    "SAE"
   ]
  },
  {
   "cell_type": "code",
   "execution_count": 49,
   "metadata": {},
   "outputs": [
    {
     "data": {
      "image/png": "[encoded data removed]",
      "text/plain": [
       "<Figure size 432x288 with 1 Axes>"
      ]
     },
     "metadata": {
      "needs_background": "light"
     },
     "output_type": "display_data"
    }
   ],
   "source": [
    "plt.plot(scaleFactor, SAE.iloc[2], label=\"Q (m^3/s)\")\n",
    "plt.plot(scaleFactor, SAE[0.012], label=\"B (m)\")\n",
    "\n",
    "xlabels = [\"-50%\", \"-25%\", \"Base\", \"25%\", \"50%\"]\n",
    "\n",
    "ax = plt.gca()\n",
    "ax.set_xticks(scaleFactor)\n",
    "ax.set_xticklabels(xlabels)\n",
    "plt.legend()\n",
    "plt.ylabel(\"E (m)\")\n",
    "plt.xlabel(\"Input deviation\")\n",
    "plt.title(\"Critical Specific Energy Sensitivity Analysis.\")\n",
    "fig = plt.gcf()\n",
    "plt.show()\n",
    "# fig.savefig(f\"Critical Specific Energy Sensitivity Analysis\")"
   ]
  },
  {
   "cell_type": "code",
   "execution_count": 50,
   "metadata": {},
   "outputs": [],
   "source": [
    "def InputSensitivityEloss(baseInd, baseCol, scaleF):\n",
    "    scaledInds = np.array(baseInd * scaleF)\n",
    "    scaledCols = np.array(baseCol * scaleF)\n",
    "    data = []\n",
    "    for ind in scaledInds:\n",
    "        row = []\n",
    "        for col in scaledCols:\n",
    "            Eloss = ((col-ind)**3)/(4*ind*col)\n",
    "            row.append(Eloss)\n",
    "        data.append(row)\n",
    "    return pd.DataFrame(data=np.array(data), index=scaledInds, columns=scaledCols)\n",
    "SAEloss_1 = InputSensitivityEloss(df1[\"y2\"][0], df1[\"y3\"][0], scaleFactor)"
   ]
  },
  {
   "cell_type": "code",
   "execution_count": 51,
   "metadata": {},
   "outputs": [
    {
     "data": {
      "text/html": [
       "<div>\n",
       "<style scoped>\n",
       "    .dataframe tbody tr th:only-of-type {\n",
       "        vertical-align: middle;\n",
       "    }\n",
       "\n",
       "    .dataframe tbody tr th {\n",
       "        vertical-align: top;\n",
       "    }\n",
       "\n",
       "    .dataframe thead th {\n",
       "        text-align: right;\n",
       "    }\n",
       "</style>\n",
       "<table border=\"1\" class=\"dataframe\">\n",
       "  <thead>\n",
       "    <tr style=\"text-align: right;\">\n",
       "      <th>y3 (m)</th>\n",
       "      <th>0.08550</th>\n",
       "      <th>0.12825</th>\n",
       "      <th>0.17100</th>\n",
       "      <th>0.21375</th>\n",
       "      <th>0.25650</th>\n",
       "    </tr>\n",
       "    <tr>\n",
       "      <th>y2 (m)</th>\n",
       "      <th></th>\n",
       "      <th></th>\n",
       "      <th></th>\n",
       "      <th></th>\n",
       "      <th></th>\n",
       "    </tr>\n",
       "  </thead>\n",
       "  <tbody>\n",
       "    <tr>\n",
       "      <th>0.0210</th>\n",
       "      <td>0.037362</td>\n",
       "      <td>0.114513</td>\n",
       "      <td>0.234962</td>\n",
       "      <td>0.398839</td>\n",
       "      <td>0.606186</td>\n",
       "    </tr>\n",
       "    <tr>\n",
       "      <th>0.0315</th>\n",
       "      <td>0.014617</td>\n",
       "      <td>0.056043</td>\n",
       "      <td>0.125996</td>\n",
       "      <td>0.224764</td>\n",
       "      <td>0.352444</td>\n",
       "    </tr>\n",
       "    <tr>\n",
       "      <th>0.0420</th>\n",
       "      <td>0.005730</td>\n",
       "      <td>0.029779</td>\n",
       "      <td>0.074725</td>\n",
       "      <td>0.141083</td>\n",
       "      <td>0.229026</td>\n",
       "    </tr>\n",
       "    <tr>\n",
       "      <th>0.0525</th>\n",
       "      <td>0.002002</td>\n",
       "      <td>0.016139</td>\n",
       "      <td>0.046338</td>\n",
       "      <td>0.093406</td>\n",
       "      <td>0.157610</td>\n",
       "    </tr>\n",
       "    <tr>\n",
       "      <th>0.0630</th>\n",
       "      <td>0.000529</td>\n",
       "      <td>0.008596</td>\n",
       "      <td>0.029233</td>\n",
       "      <td>0.063601</td>\n",
       "      <td>0.112087</td>\n",
       "    </tr>\n",
       "  </tbody>\n",
       "</table>\n",
       "</div>"
      ],
      "text/plain": [
       "y3 (m)   0.08550   0.12825   0.17100   0.21375   0.25650\n",
       "y2 (m)                                                  \n",
       "0.0210  0.037362  0.114513  0.234962  0.398839  0.606186\n",
       "0.0315  0.014617  0.056043  0.125996  0.224764  0.352444\n",
       "0.0420  0.005730  0.029779  0.074725  0.141083  0.229026\n",
       "0.0525  0.002002  0.016139  0.046338  0.093406  0.157610\n",
       "0.0630  0.000529  0.008596  0.029233  0.063601  0.112087"
      ]
     },
     "execution_count": 51,
     "metadata": {},
     "output_type": "execute_result"
    }
   ],
   "source": [
    "SAEloss_1.index.name = \"y2 (m)\"\n",
    "SAEloss_1.columns.name = \"y3 (m)\"\n",
    "SAEloss_1"
   ]
  },
  {
   "cell_type": "code",
   "execution_count": 52,
   "metadata": {},
   "outputs": [
    {
     "data": {
      "image/png": "[encoded data removed]",
      "text/plain": [
       "<Figure size 432x288 with 1 Axes>"
      ]
     },
     "metadata": {
      "needs_background": "light"
     },
     "output_type": "display_data"
    }
   ],
   "source": [
    "plt.plot(scaleFactor, SAEloss_1.iloc[2], label=\"y3 (m)\")\n",
    "plt.plot(scaleFactor, SAEloss_1[0.171], label=\"y2 (m)\")\n",
    "\n",
    "xlabels = [\"-50%\", \"-25%\", \"Base\", \"25%\", \"50%\"]\n",
    "\n",
    "ax = plt.gca()\n",
    "ax.set_xticks(scaleFactor)\n",
    "ax.set_xticklabels(xlabels)\n",
    "plt.legend()\n",
    "plt.ylabel(\"Energy Loss (m)\")\n",
    "plt.xlabel(\"Input deviation\")\n",
    "plt.title(\"Hydraulic Jump Energy Loss Sensitivity Analysis\")\n",
    "fig = plt.gcf()\n",
    "plt.show()\n",
    "# fig.savefig(\"Hydraulic Jump Energy Loss Sensitivity Analysis\")"
   ]
  },
  {
   "cell_type": "code",
   "execution_count": 53,
   "metadata": {},
   "outputs": [
    {
     "data": {
      "text/plain": [
       "y3 (m)\n",
       "0.08550    0.005730\n",
       "0.12825    0.029779\n",
       "0.17100    0.074725\n",
       "0.21375    0.141083\n",
       "0.25650    0.229026\n",
       "Name: 0.042, dtype: float64"
      ]
     },
     "execution_count": 53,
     "metadata": {},
     "output_type": "execute_result"
    }
   ],
   "source": [
    "SAEloss_1.iloc[2]"
   ]
  },
  {
   "cell_type": "code",
   "execution_count": null,
   "metadata": {},
   "outputs": [],
   "source": []
  }
 ],
 "metadata": {
  "kernelspec": {
   "display_name": "Python 3",
   "language": "python",
   "name": "python3"
  },
  "language_info": {
   "codemirror_mode": {
    "name": "ipython",
    "version": 3
   },
   "file_extension": ".py",
   "mimetype": "text/x-python",
   "name": "python",
   "nbconvert_exporter": "python",
   "pygments_lexer": "ipython3",
   "version": "3.8.6rc1"
  }
 },
 "nbformat": 4,
 "nbformat_minor": 4
}
