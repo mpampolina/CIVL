{
 "cells": [
  {
   "cell_type": "code",
   "execution_count": 1,
   "metadata": {},
   "outputs": [],
   "source": [
    "import pandas as pd\n",
    "import numpy as np\n",
    "from numpy.polynomial import Polynomial\n",
    "import matplotlib.pyplot as plt\n",
    "import math\n",
    "from termcolor import colored\n",
    "plt.style.use(\"seaborn\")"
   ]
  },
  {
   "cell_type": "code",
   "execution_count": 2,
   "metadata": {},
   "outputs": [],
   "source": [
    "KSI_TO_KPA = 6.89476\n",
    "IN_TO_M = 0.0254\n",
    "FT_TO_M = 0.3048\n",
    "LITRES_TO_M3 = 0.001\n",
    "HP_TO_W = 745.7\n",
    "G = 9.81                        # m/s^2\n",
    "RHO = 1000                      # kg/m^3\n",
    "GAMMA = 9.81                    # kN/m^3\n",
    "PIPE_DIAMETER = 0.0762          # m\n",
    "SCALE_PIPE_LENGTH = 3200        # m\n",
    "MAX_PRESSURE = 448.1594/GAMMA   # m \n",
    "MIN_PRESSURE = 275.7904/GAMMA   # m\n",
    "MIN_FLOW = 0.185                # m^3/s\n",
    "ENERGY_COST = 0.077        # $/kWh"
   ]
  },
  {
   "cell_type": "code",
   "execution_count": 3,
   "metadata": {},
   "outputs": [
    {
     "data": {
      "text/plain": [
       "28.11319062181447"
      ]
     },
     "execution_count": 3,
     "metadata": {},
     "output_type": "execute_result"
    }
   ],
   "source": [
    "MIN_PRESSURE"
   ]
  },
  {
   "cell_type": "code",
   "execution_count": 4,
   "metadata": {},
   "outputs": [],
   "source": [
    "xlsx = pd.ExcelFile(\"./lab3_spreadsheet.xlsx\")"
   ]
  },
  {
   "cell_type": "markdown",
   "metadata": {},
   "source": [
    "PN - Pumps with variable speeds\n",
    "PP - Pumps in Parallel"
   ]
  },
  {
   "cell_type": "code",
   "execution_count": 5,
   "metadata": {},
   "outputs": [
    {
     "data": {
      "text/html": [
       "<div>\n",
       "<style scoped>\n",
       "    .dataframe tbody tr th:only-of-type {\n",
       "        vertical-align: middle;\n",
       "    }\n",
       "\n",
       "    .dataframe tbody tr th {\n",
       "        vertical-align: top;\n",
       "    }\n",
       "\n",
       "    .dataframe thead th {\n",
       "        text-align: right;\n",
       "    }\n",
       "</style>\n",
       "<table border=\"1\" class=\"dataframe\">\n",
       "  <thead>\n",
       "    <tr style=\"text-align: right;\">\n",
       "      <th></th>\n",
       "      <th>pipe_cost</th>\n",
       "    </tr>\n",
       "    <tr>\n",
       "      <th>pipe_diameter</th>\n",
       "      <th></th>\n",
       "    </tr>\n",
       "  </thead>\n",
       "  <tbody>\n",
       "    <tr>\n",
       "      <th>0.1016</th>\n",
       "      <td>4.330709</td>\n",
       "    </tr>\n",
       "    <tr>\n",
       "      <th>0.1524</th>\n",
       "      <td>8.989501</td>\n",
       "    </tr>\n",
       "    <tr>\n",
       "      <th>0.2032</th>\n",
       "      <td>15.091864</td>\n",
       "    </tr>\n",
       "    <tr>\n",
       "      <th>0.3048</th>\n",
       "      <td>28.018373</td>\n",
       "    </tr>\n",
       "    <tr>\n",
       "      <th>0.3810</th>\n",
       "      <td>53.543307</td>\n",
       "    </tr>\n",
       "    <tr>\n",
       "      <th>0.4572</th>\n",
       "      <td>64.370079</td>\n",
       "    </tr>\n",
       "    <tr>\n",
       "      <th>0.6096</th>\n",
       "      <td>110.170604</td>\n",
       "    </tr>\n",
       "    <tr>\n",
       "      <th>0.7620</th>\n",
       "      <td>175.524934</td>\n",
       "    </tr>\n",
       "    <tr>\n",
       "      <th>0.9144</th>\n",
       "      <td>204.461942</td>\n",
       "    </tr>\n",
       "    <tr>\n",
       "      <th>1.0668</th>\n",
       "      <td>298.622047</td>\n",
       "    </tr>\n",
       "    <tr>\n",
       "      <th>1.2192</th>\n",
       "      <td>379.921260</td>\n",
       "    </tr>\n",
       "  </tbody>\n",
       "</table>\n",
       "</div>"
      ],
      "text/plain": [
       "                pipe_cost\n",
       "pipe_diameter            \n",
       "0.1016           4.330709\n",
       "0.1524           8.989501\n",
       "0.2032          15.091864\n",
       "0.3048          28.018373\n",
       "0.3810          53.543307\n",
       "0.4572          64.370079\n",
       "0.6096         110.170604\n",
       "0.7620         175.524934\n",
       "0.9144         204.461942\n",
       "1.0668         298.622047\n",
       "1.2192         379.921260"
      ]
     },
     "execution_count": 5,
     "metadata": {},
     "output_type": "execute_result"
    }
   ],
   "source": [
    "pipe_info = pd.read_excel(xlsx, \"pipe_info\")\n",
    "pipe_info[\"pipe_diameter\"] = pipe_info[\"pipe_diameter\"].apply(lambda x: round(x*IN_TO_M, 4))\n",
    "pipe_info[\"pipe_cost\"] = pipe_info[\"pipe_cost\"].apply(lambda x: x/FT_TO_M)\n",
    "pipe_info.set_index(\"pipe_diameter\", inplace=True)\n",
    "pipe_info"
   ]
  },
  {
   "cell_type": "code",
   "execution_count": 6,
   "metadata": {},
   "outputs": [
    {
     "data": {
      "text/html": [
       "<div>\n",
       "<style scoped>\n",
       "    .dataframe tbody tr th:only-of-type {\n",
       "        vertical-align: middle;\n",
       "    }\n",
       "\n",
       "    .dataframe tbody tr th {\n",
       "        vertical-align: top;\n",
       "    }\n",
       "\n",
       "    .dataframe thead th {\n",
       "        text-align: right;\n",
       "    }\n",
       "</style>\n",
       "<table border=\"1\" class=\"dataframe\">\n",
       "  <thead>\n",
       "    <tr style=\"text-align: right;\">\n",
       "      <th></th>\n",
       "      <th>pump_cost</th>\n",
       "      <th>pump_name</th>\n",
       "    </tr>\n",
       "    <tr>\n",
       "      <th>pump_diameter</th>\n",
       "      <th></th>\n",
       "      <th></th>\n",
       "    </tr>\n",
       "  </thead>\n",
       "  <tbody>\n",
       "    <tr>\n",
       "      <th>0.1143</th>\n",
       "      <td>970</td>\n",
       "      <td>ChemFlo 4-4</td>\n",
       "    </tr>\n",
       "    <tr>\n",
       "      <th>0.1270</th>\n",
       "      <td>1090</td>\n",
       "      <td>ChemFlo 4-5</td>\n",
       "    </tr>\n",
       "    <tr>\n",
       "      <th>0.1397</th>\n",
       "      <td>1185</td>\n",
       "      <td>ChemFlo 4-5-2</td>\n",
       "    </tr>\n",
       "    <tr>\n",
       "      <th>0.2159</th>\n",
       "      <td>1850</td>\n",
       "      <td>ChemFlo 4-8</td>\n",
       "    </tr>\n",
       "    <tr>\n",
       "      <th>0.2349</th>\n",
       "      <td>2000</td>\n",
       "      <td>ChemFlo 4-9</td>\n",
       "    </tr>\n",
       "    <tr>\n",
       "      <th>0.2540</th>\n",
       "      <td>2150</td>\n",
       "      <td>ChemFlo 4-10</td>\n",
       "    </tr>\n",
       "    <tr>\n",
       "      <th>0.2603</th>\n",
       "      <td>2200</td>\n",
       "      <td>ChemFlo 4-10</td>\n",
       "    </tr>\n",
       "    <tr>\n",
       "      <th>0.2794</th>\n",
       "      <td>2400</td>\n",
       "      <td>ChemFlo 4-11</td>\n",
       "    </tr>\n",
       "    <tr>\n",
       "      <th>0.3048</th>\n",
       "      <td>2600</td>\n",
       "      <td>ChemFlo 4-12</td>\n",
       "    </tr>\n",
       "    <tr>\n",
       "      <th>0.3365</th>\n",
       "      <td>3000</td>\n",
       "      <td>ChemFlo 4-13</td>\n",
       "    </tr>\n",
       "    <tr>\n",
       "      <th>0.3556</th>\n",
       "      <td>3250</td>\n",
       "      <td>ChemFlo 4-14</td>\n",
       "    </tr>\n",
       "    <tr>\n",
       "      <th>0.3937</th>\n",
       "      <td>3600</td>\n",
       "      <td>ChemFlo 4-15</td>\n",
       "    </tr>\n",
       "    <tr>\n",
       "      <th>0.4254</th>\n",
       "      <td>3950</td>\n",
       "      <td>ChemFlo 4-16</td>\n",
       "    </tr>\n",
       "  </tbody>\n",
       "</table>\n",
       "</div>"
      ],
      "text/plain": [
       "               pump_cost      pump_name\n",
       "pump_diameter                          \n",
       "0.1143               970    ChemFlo 4-4\n",
       "0.1270              1090    ChemFlo 4-5\n",
       "0.1397              1185  ChemFlo 4-5-2\n",
       "0.2159              1850    ChemFlo 4-8\n",
       "0.2349              2000    ChemFlo 4-9\n",
       "0.2540              2150   ChemFlo 4-10\n",
       "0.2603              2200   ChemFlo 4-10\n",
       "0.2794              2400   ChemFlo 4-11\n",
       "0.3048              2600   ChemFlo 4-12\n",
       "0.3365              3000   ChemFlo 4-13\n",
       "0.3556              3250   ChemFlo 4-14\n",
       "0.3937              3600   ChemFlo 4-15\n",
       "0.4254              3950   ChemFlo 4-16"
      ]
     },
     "execution_count": 6,
     "metadata": {},
     "output_type": "execute_result"
    }
   ],
   "source": [
    "pump_info = pd.read_excel(xlsx, \"pump_info\")\n",
    "pump_info[\"pump_diameter\"] = pump_info[\"pump_diameter\"].apply(lambda x: round(x*IN_TO_M, 4))\n",
    "pump_info.set_index(\"pump_diameter\", inplace=True)\n",
    "pump_info"
   ]
  },
  {
   "cell_type": "code",
   "execution_count": 7,
   "metadata": {},
   "outputs": [
    {
     "data": {
      "text/html": [
       "<div>\n",
       "<style scoped>\n",
       "    .dataframe tbody tr th:only-of-type {\n",
       "        vertical-align: middle;\n",
       "    }\n",
       "\n",
       "    .dataframe tbody tr th {\n",
       "        vertical-align: top;\n",
       "    }\n",
       "\n",
       "    .dataframe thead th {\n",
       "        text-align: right;\n",
       "    }\n",
       "</style>\n",
       "<table border=\"1\" class=\"dataframe\">\n",
       "  <thead>\n",
       "    <tr style=\"text-align: right;\">\n",
       "      <th></th>\n",
       "      <th>motor_speed</th>\n",
       "      <th>motor_hp</th>\n",
       "      <th>motor_price</th>\n",
       "      <th>motor_part_number</th>\n",
       "      <th>motor_name</th>\n",
       "    </tr>\n",
       "  </thead>\n",
       "  <tbody>\n",
       "    <tr>\n",
       "      <th>0</th>\n",
       "      <td>3600</td>\n",
       "      <td>2237.10</td>\n",
       "      <td>195</td>\n",
       "      <td>MTC-003-3BD36</td>\n",
       "      <td>AC MOTOR 3HP 3600RPM 208-230/460VAC 3PH 182T</td>\n",
       "    </tr>\n",
       "    <tr>\n",
       "      <th>1</th>\n",
       "      <td>1800</td>\n",
       "      <td>2237.10</td>\n",
       "      <td>191</td>\n",
       "      <td>MTC-003-3BD18</td>\n",
       "      <td>AC MOTOR 3HP 1800RPM 208-230/460VAC 3PH 182T</td>\n",
       "    </tr>\n",
       "    <tr>\n",
       "      <th>2</th>\n",
       "      <td>1200</td>\n",
       "      <td>2237.10</td>\n",
       "      <td>300</td>\n",
       "      <td>MTC-003-3BD12</td>\n",
       "      <td>AC MOTOR 3HP 1200RPM 208-230/460VAC 3PH 213T</td>\n",
       "    </tr>\n",
       "    <tr>\n",
       "      <th>3</th>\n",
       "      <td>3600</td>\n",
       "      <td>3728.50</td>\n",
       "      <td>250</td>\n",
       "      <td>MTC-005-3BD36</td>\n",
       "      <td>AC MOTOR 5HP 3600RPM 208-230/460VAC 3PH 184T</td>\n",
       "    </tr>\n",
       "    <tr>\n",
       "      <th>4</th>\n",
       "      <td>1800</td>\n",
       "      <td>3728.50</td>\n",
       "      <td>216</td>\n",
       "      <td>MTC-005-3BD18</td>\n",
       "      <td>AC MOTOR 5HP 1800RPM 208-230/460VAC 3PH 184T</td>\n",
       "    </tr>\n",
       "    <tr>\n",
       "      <th>5</th>\n",
       "      <td>1200</td>\n",
       "      <td>3728.50</td>\n",
       "      <td>380</td>\n",
       "      <td>MTC-005-3BD12</td>\n",
       "      <td>AC MOTOR 5HP 1200RPM 208-230/460VAC 3PH 215T</td>\n",
       "    </tr>\n",
       "    <tr>\n",
       "      <th>6</th>\n",
       "      <td>3600</td>\n",
       "      <td>5592.75</td>\n",
       "      <td>335</td>\n",
       "      <td>MTC-7P5-3BD36</td>\n",
       "      <td>AC MOTOR 7.5HP 3600RPM 208-230/460VAC 3PH 213T</td>\n",
       "    </tr>\n",
       "    <tr>\n",
       "      <th>7</th>\n",
       "      <td>1800</td>\n",
       "      <td>5592.75</td>\n",
       "      <td>312</td>\n",
       "      <td>MTC-7P5-3BD18</td>\n",
       "      <td>AC MOTOR 7.5HP 1800RPM 208-230/460VAC 3PH 213T</td>\n",
       "    </tr>\n",
       "    <tr>\n",
       "      <th>8</th>\n",
       "      <td>1200</td>\n",
       "      <td>5592.75</td>\n",
       "      <td>470</td>\n",
       "      <td>MTC-7P5-3BD12</td>\n",
       "      <td>AC MOTOR 7.5HP 1200RPM 208-230/460VAC 3PH 254T</td>\n",
       "    </tr>\n",
       "    <tr>\n",
       "      <th>9</th>\n",
       "      <td>3600</td>\n",
       "      <td>7457.00</td>\n",
       "      <td>385</td>\n",
       "      <td>MTC-010-3BD36</td>\n",
       "      <td>AC MOTOR 10HP 3600RPM 208-230/460VAC 3PH 215T</td>\n",
       "    </tr>\n",
       "    <tr>\n",
       "      <th>10</th>\n",
       "      <td>1800</td>\n",
       "      <td>7457.00</td>\n",
       "      <td>337</td>\n",
       "      <td>MTC-010-3BD18</td>\n",
       "      <td>AC MOTOR 10HP 1800RPM 208-230/460VAC 3PH 215T</td>\n",
       "    </tr>\n",
       "    <tr>\n",
       "      <th>11</th>\n",
       "      <td>1200</td>\n",
       "      <td>7457.00</td>\n",
       "      <td>635</td>\n",
       "      <td>MTC-010-3BD12</td>\n",
       "      <td>AC MOTOR 10HP 1200RPM 208-230/460VAC 3PH 256T</td>\n",
       "    </tr>\n",
       "    <tr>\n",
       "      <th>12</th>\n",
       "      <td>1800</td>\n",
       "      <td>11185.50</td>\n",
       "      <td>476</td>\n",
       "      <td>MTC-015-3BD18</td>\n",
       "      <td>AC MOTOR 15HP 1800RPM 208-230/460VAC 3PH 254T</td>\n",
       "    </tr>\n",
       "    <tr>\n",
       "      <th>13</th>\n",
       "      <td>1800</td>\n",
       "      <td>14914.00</td>\n",
       "      <td>514</td>\n",
       "      <td>MTC-020-3BD18</td>\n",
       "      <td>AC MOTOR 20HP 1800RPM 208-230/460VAC 3PH 256T</td>\n",
       "    </tr>\n",
       "    <tr>\n",
       "      <th>14</th>\n",
       "      <td>1800</td>\n",
       "      <td>18642.50</td>\n",
       "      <td>722</td>\n",
       "      <td>MTC-025-3BD18</td>\n",
       "      <td>AC MOTOR 25HP 1800RPM 208-230/460VAC 3PH 284T</td>\n",
       "    </tr>\n",
       "    <tr>\n",
       "      <th>15</th>\n",
       "      <td>1800</td>\n",
       "      <td>22371.00</td>\n",
       "      <td>765</td>\n",
       "      <td>MTC-030-3BD18</td>\n",
       "      <td>AC MOTOR 30HP 1800RPM 208-230/460VAC 3PH 286T</td>\n",
       "    </tr>\n",
       "    <tr>\n",
       "      <th>16</th>\n",
       "      <td>1800</td>\n",
       "      <td>29828.00</td>\n",
       "      <td>981</td>\n",
       "      <td>MTC-040-3BD18</td>\n",
       "      <td>AC MOTOR 40HP 1800RPM 208-230/460VAC 3PH 324T</td>\n",
       "    </tr>\n",
       "    <tr>\n",
       "      <th>17</th>\n",
       "      <td>1800</td>\n",
       "      <td>37285.00</td>\n",
       "      <td>1199</td>\n",
       "      <td>MTC-050-3BD18</td>\n",
       "      <td>AC MOTOR 50HP 1800RPM 208-230/460VAC 3PH 326T</td>\n",
       "    </tr>\n",
       "    <tr>\n",
       "      <th>18</th>\n",
       "      <td>1800</td>\n",
       "      <td>44742.00</td>\n",
       "      <td>1498</td>\n",
       "      <td>MTC-060-3BD18</td>\n",
       "      <td>AC MOTOR 60HP 1800RPM 208-230/460VAC 3PH 364T</td>\n",
       "    </tr>\n",
       "    <tr>\n",
       "      <th>19</th>\n",
       "      <td>1800</td>\n",
       "      <td>55927.50</td>\n",
       "      <td>1730</td>\n",
       "      <td>MTC-075-3BD18</td>\n",
       "      <td>AC MOTOR 75HP 1800RPM 208-230/460VAC 3PH 365T</td>\n",
       "    </tr>\n",
       "    <tr>\n",
       "      <th>20</th>\n",
       "      <td>1800</td>\n",
       "      <td>74570.00</td>\n",
       "      <td>1975</td>\n",
       "      <td>MTC-100-3BD18</td>\n",
       "      <td>AC MOTOR 100HP 1800RPM 208-230/460VAC 3PH 405T</td>\n",
       "    </tr>\n",
       "    <tr>\n",
       "      <th>21</th>\n",
       "      <td>1800</td>\n",
       "      <td>93212.50</td>\n",
       "      <td>2880</td>\n",
       "      <td>MTC-125-3BD18</td>\n",
       "      <td>AC MOTOR 125HP 1800RPM 208-230/460VAC 3PH 444T</td>\n",
       "    </tr>\n",
       "    <tr>\n",
       "      <th>22</th>\n",
       "      <td>1800</td>\n",
       "      <td>111855.00</td>\n",
       "      <td>3125</td>\n",
       "      <td>MTC-150-3BD18</td>\n",
       "      <td>AC MOTOR 150HP 1800RPM 208-230/460VAC 3PH 445T</td>\n",
       "    </tr>\n",
       "    <tr>\n",
       "      <th>23</th>\n",
       "      <td>1800</td>\n",
       "      <td>149140.00</td>\n",
       "      <td>4150</td>\n",
       "      <td>MTC-200-3BD18</td>\n",
       "      <td>AC MOTOR 200HP 1800RPM 208-230/460VAC 3PH 445/7T</td>\n",
       "    </tr>\n",
       "    <tr>\n",
       "      <th>24</th>\n",
       "      <td>1800</td>\n",
       "      <td>186425.00</td>\n",
       "      <td>5140</td>\n",
       "      <td>MTC-250-3D18</td>\n",
       "      <td>AC MOTOR 250HP 1800RPM 460VAC 3PH 449T</td>\n",
       "    </tr>\n",
       "    <tr>\n",
       "      <th>25</th>\n",
       "      <td>1800</td>\n",
       "      <td>223710.00</td>\n",
       "      <td>6750</td>\n",
       "      <td>MTC-300-3D18</td>\n",
       "      <td>AC MOTOR 300HP 1800RPM 460VAC 3PH 449T</td>\n",
       "    </tr>\n",
       "  </tbody>\n",
       "</table>\n",
       "</div>"
      ],
      "text/plain": [
       "    motor_speed   motor_hp  motor_price motor_part_number  \\\n",
       "0          3600    2237.10          195     MTC-003-3BD36   \n",
       "1          1800    2237.10          191     MTC-003-3BD18   \n",
       "2          1200    2237.10          300     MTC-003-3BD12   \n",
       "3          3600    3728.50          250     MTC-005-3BD36   \n",
       "4          1800    3728.50          216     MTC-005-3BD18   \n",
       "5          1200    3728.50          380     MTC-005-3BD12   \n",
       "6          3600    5592.75          335     MTC-7P5-3BD36   \n",
       "7          1800    5592.75          312     MTC-7P5-3BD18   \n",
       "8          1200    5592.75          470     MTC-7P5-3BD12   \n",
       "9          3600    7457.00          385     MTC-010-3BD36   \n",
       "10         1800    7457.00          337     MTC-010-3BD18   \n",
       "11         1200    7457.00          635     MTC-010-3BD12   \n",
       "12         1800   11185.50          476     MTC-015-3BD18   \n",
       "13         1800   14914.00          514     MTC-020-3BD18   \n",
       "14         1800   18642.50          722     MTC-025-3BD18   \n",
       "15         1800   22371.00          765     MTC-030-3BD18   \n",
       "16         1800   29828.00          981     MTC-040-3BD18   \n",
       "17         1800   37285.00         1199     MTC-050-3BD18   \n",
       "18         1800   44742.00         1498     MTC-060-3BD18   \n",
       "19         1800   55927.50         1730     MTC-075-3BD18   \n",
       "20         1800   74570.00         1975     MTC-100-3BD18   \n",
       "21         1800   93212.50         2880     MTC-125-3BD18   \n",
       "22         1800  111855.00         3125     MTC-150-3BD18   \n",
       "23         1800  149140.00         4150     MTC-200-3BD18   \n",
       "24         1800  186425.00         5140      MTC-250-3D18   \n",
       "25         1800  223710.00         6750      MTC-300-3D18   \n",
       "\n",
       "                                          motor_name  \n",
       "0       AC MOTOR 3HP 3600RPM 208-230/460VAC 3PH 182T  \n",
       "1       AC MOTOR 3HP 1800RPM 208-230/460VAC 3PH 182T  \n",
       "2       AC MOTOR 3HP 1200RPM 208-230/460VAC 3PH 213T  \n",
       "3       AC MOTOR 5HP 3600RPM 208-230/460VAC 3PH 184T  \n",
       "4       AC MOTOR 5HP 1800RPM 208-230/460VAC 3PH 184T  \n",
       "5       AC MOTOR 5HP 1200RPM 208-230/460VAC 3PH 215T  \n",
       "6     AC MOTOR 7.5HP 3600RPM 208-230/460VAC 3PH 213T  \n",
       "7     AC MOTOR 7.5HP 1800RPM 208-230/460VAC 3PH 213T  \n",
       "8     AC MOTOR 7.5HP 1200RPM 208-230/460VAC 3PH 254T  \n",
       "9      AC MOTOR 10HP 3600RPM 208-230/460VAC 3PH 215T  \n",
       "10     AC MOTOR 10HP 1800RPM 208-230/460VAC 3PH 215T  \n",
       "11     AC MOTOR 10HP 1200RPM 208-230/460VAC 3PH 256T  \n",
       "12     AC MOTOR 15HP 1800RPM 208-230/460VAC 3PH 254T  \n",
       "13     AC MOTOR 20HP 1800RPM 208-230/460VAC 3PH 256T  \n",
       "14     AC MOTOR 25HP 1800RPM 208-230/460VAC 3PH 284T  \n",
       "15     AC MOTOR 30HP 1800RPM 208-230/460VAC 3PH 286T  \n",
       "16     AC MOTOR 40HP 1800RPM 208-230/460VAC 3PH 324T  \n",
       "17     AC MOTOR 50HP 1800RPM 208-230/460VAC 3PH 326T  \n",
       "18     AC MOTOR 60HP 1800RPM 208-230/460VAC 3PH 364T  \n",
       "19     AC MOTOR 75HP 1800RPM 208-230/460VAC 3PH 365T  \n",
       "20    AC MOTOR 100HP 1800RPM 208-230/460VAC 3PH 405T  \n",
       "21    AC MOTOR 125HP 1800RPM 208-230/460VAC 3PH 444T  \n",
       "22    AC MOTOR 150HP 1800RPM 208-230/460VAC 3PH 445T  \n",
       "23  AC MOTOR 200HP 1800RPM 208-230/460VAC 3PH 445/7T  \n",
       "24            AC MOTOR 250HP 1800RPM 460VAC 3PH 449T  \n",
       "25            AC MOTOR 300HP 1800RPM 460VAC 3PH 449T  "
      ]
     },
     "execution_count": 7,
     "metadata": {},
     "output_type": "execute_result"
    }
   ],
   "source": [
    "motor_info = pd.read_excel(xlsx, \"motor_info\")\n",
    "motor_info[\"motor_hp\"] = motor_info[\"motor_hp\"].apply(lambda x: round(x*HP_TO_W, 2))\n",
    "motor_info"
   ]
  },
  {
   "cell_type": "code",
   "execution_count": 8,
   "metadata": {},
   "outputs": [],
   "source": [
    "def preprocess(origin_dataset: pd.DataFrame, pipe_diameter: float):\n",
    "    dataset = origin_dataset.copy(deep=True)\n",
    "    dataset[\"correct_current\"] = dataset[\"current_p1\"].apply(lambda x: (x**2*(-0.0347)) + (1.39*x)+0.0266)\n",
    "    dataset[\"input_power\"] = dataset.apply(lambda rows: rows[\"correct_current\"] * rows[\"voltage\"], axis=1)\n",
    "    dataset[\"pressure_p1\"] = dataset[\"pressure_p1\"].apply(lambda x: x*KSI_TO_KPA)\n",
    "    dataset[\"pressure_head_p1\"] = dataset[\"pressure_p1\"].apply(lambda x: x/GAMMA)\n",
    "    dataset[\"flow_p1\"] = dataset[\"flow_p1\"].apply(lambda x: x*LITRES_TO_M3)\n",
    "    dataset[\"velocity_p1\"] = dataset[\"flow_p1\"].apply(lambda x: x/(math.pi*(pipe_diameter/2)**2))\n",
    "    dataset[\"velocity_head_p1\"] = dataset[\"velocity_p1\"].apply(lambda x: (x**2)/(2*G))\n",
    "    dataset[\"total_pump_head\"] = dataset[\"velocity_head_p1\"] + dataset[\"pressure_head_p1\"]\n",
    "    dataset[\"fluid_power\"] = dataset.apply(lambda rows: (rows[\"total_pump_head\"]*rows[\"flow_p1\"]*RHO*G), axis=1)\n",
    "    dataset[\"efficiency\"] = dataset.apply(lambda rows: rows[\"fluid_power\"]/rows[\"input_power\"], axis=1)\n",
    "    return dataset"
   ]
  },
  {
   "cell_type": "code",
   "execution_count": 9,
   "metadata": {},
   "outputs": [],
   "source": [
    "def load(excelFile, analysisSheets):\n",
    "    dfs = {}\n",
    "    for sheetName in analysisSheets:\n",
    "        cur_df = pd.read_excel(excelFile, sheetName)\n",
    "        dfs[sheetName] = preprocess(cur_df, PIPE_DIAMETER)\n",
    "    return dfs"
   ]
  },
  {
   "cell_type": "code",
   "execution_count": 10,
   "metadata": {},
   "outputs": [],
   "source": [
    "# pn_names = [\"PN_3450\", \"PN_3214\", \"PN_2898\", \"PN_2501\", \"PN_2006\", \"PN_1604\"]\n",
    "pn_names = [\"PN_3450\"]\n",
    "pn_dfs = load(xlsx, pn_names)"
   ]
  },
  {
   "cell_type": "code",
   "execution_count": 11,
   "metadata": {},
   "outputs": [],
   "source": [
    "def plotModelPumpCurve(data, description):\n",
    "    for name, df in data.items():\n",
    "        plt.scatter(df[\"flow_p1\"], df[\"total_pump_head\"], label=name)\n",
    "    plt.legend(title=\"Pump Speed\", loc='center left', bbox_to_anchor=(1, 0.75))\n",
    "    plt.title(f\"Pump Curve - {description}\")\n",
    "    plt.xlabel(\"flow (m^3/s)\")\n",
    "    plt.ylabel(\"total head (m)\")\n",
    "    plt.show()"
   ]
  },
  {
   "cell_type": "code",
   "execution_count": 12,
   "metadata": {},
   "outputs": [],
   "source": [
    "def plotEfficiencies(data, description):\n",
    "    for name, df in data.items():\n",
    "        plt.scatter(df[\"flow_p1\"], df[\"efficiency\"].apply(lambda x: round(x*100, 2)), label=name)\n",
    "    plt.legend(title=\"Pump Speed\", loc='center left', bbox_to_anchor=(1, 0.75))\n",
    "    plt.title(f\"Pump Efficiency - {description}\")\n",
    "    plt.xlabel(\"flow (m^3/s)\")\n",
    "    plt.ylabel(\"Efficiency (%)\")\n",
    "    plt.show()"
   ]
  },
  {
   "cell_type": "code",
   "execution_count": 13,
   "metadata": {},
   "outputs": [
    {
     "data": {
      "image/png": "[encoded data removed]",
      "text/plain": [
       "<Figure size 576x396 with 1 Axes>"
      ]
     },
     "metadata": {},
     "output_type": "display_data"
    }
   ],
   "source": [
    "plotModelPumpCurve(pn_dfs, \"Pump 1, Variable Speed\")"
   ]
  },
  {
   "cell_type": "code",
   "execution_count": 14,
   "metadata": {},
   "outputs": [
    {
     "data": {
      "image/png": "[encoded data removed]",
      "text/plain": [
       "<Figure size 576x396 with 1 Axes>"
      ]
     },
     "metadata": {},
     "output_type": "display_data"
    }
   ],
   "source": [
    "plotEfficiencies(pn_dfs, \"Pump 1, Variable Speed\")"
   ]
  },
  {
   "cell_type": "code",
   "execution_count": 15,
   "metadata": {},
   "outputs": [],
   "source": [
    "def generateSystemDemand(f, L, d, Q):\n",
    "    return (8*f*L)/((math.pi**2)*G*d**5)*Q**2"
   ]
  },
  {
   "cell_type": "code",
   "execution_count": 16,
   "metadata": {},
   "outputs": [],
   "source": [
    "def scalePump(data, n2, d1, d2):\n",
    "    dfs = {}\n",
    "    for name, df in data.items():\n",
    "        n1 = int(name.split(\"_\")[1])\n",
    "        new_df = pd.DataFrame(columns=[\"flow\", \"total_pump_head\", \"fluid_power\", \"efficiency\", \"input_power\", \"system_demand\"])\n",
    "        new_df[\"flow\"] = df[\"flow_p1\"].apply(lambda x: x*((d2/d1)**3)*n2/n1)\n",
    "        new_df[\"total_pump_head\"] = df[\"total_pump_head\"].apply(lambda x: x*((n2/n1)**2)*(d2/d1)**2)\n",
    "        new_df[\"fluid_power\"] = df[\"fluid_power\"].apply(lambda x: (((n2/n1)**3)*(d2/d1)**5)*x)\n",
    "        new_df[\"efficiency\"] = df[\"efficiency\"].apply(lambda x: (((1-x)/((d2/d1)**(1/5)))-1)*-1)\n",
    "        new_df[\"input_power\"] = new_df[\"fluid_power\"]/new_df[\"efficiency\"]\n",
    "        # new_df[\"system_demand\"] = new_df[\"flow\"].apply(lambda x: generateSystemDemand(f, L, d2, x))\n",
    "        dfs[name] = new_df\n",
    "    return dfs"
   ]
  },
  {
   "cell_type": "code",
   "execution_count": 17,
   "metadata": {},
   "outputs": [],
   "source": [
    "def plotPumpCurve(scaledData, fullScaledSpeed, fullScaledPumpDia, cost_piping, cost_pump, f, L, pipe_diameter, motor_info, extrapolate=False, suppressGraphs=False, onlyApproved=True):\n",
    "    inter_data = {\"scaled_n1\":[], \"flow\":[], \"head\":[]}\n",
    "    for i, (name, df) in enumerate(scaledData.items()):\n",
    "        n1 = int(name.split(\"_\")[1])\n",
    "        poly_func_head = Polynomial.fit(df[\"flow\"], df[\"total_pump_head\"], 2)\n",
    "        # poly_func_sysd = Polynomial.fit(df[\"flow\"], df[\"system_demand\"], 2)\n",
    "        poly_func_eff = Polynomial.fit(df[\"flow\"], df[\"efficiency\"], 2)\n",
    "        if extrapolate:\n",
    "            # increase maximum x-range domain to ensure intersection\n",
    "            poly_xvals = np.linspace(df[\"flow\"].min(), df[\"flow\"].max()+(df[\"flow\"].max()*0.20), 50)\n",
    "        else:\n",
    "            poly_xvals = np.linspace(df[\"flow\"].min(), df[\"flow\"].max(), 50)\n",
    "        poly_yvals_head = poly_func_head(poly_xvals)\n",
    "        # poly_yvals_sysd = poly_func_sysd(poly_xvals)\n",
    "        poly_yvals_sysd = generateSystemDemand(f, L, pipe_diameter, poly_xvals)\n",
    "        poly_yvals_eff = poly_func_eff(poly_xvals)\n",
    "        try:\n",
    "            finiteDifferences = np.diff(np.sign(poly_yvals_head - poly_yvals_sysd))\n",
    "            if not np.any(finiteDifferences):\n",
    "                raise ValueError(f\"{i}. Pump curve and system demand curve do not intersect at scaled pump station of n1={n1}.\")\n",
    "            common_idx = np.argwhere(finiteDifferences).flatten()[0]\n",
    "            inter_data[\"scaled_n1\"].append(n1)\n",
    "            inter_data[\"flow\"].append(round(poly_xvals[common_idx], 3))\n",
    "            inter_data[\"head\"].append(round(poly_yvals_head[common_idx], 3))\n",
    "            cur_flow = round(poly_xvals[common_idx], 3)\n",
    "            cur_head = round(poly_yvals_head[common_idx], 3)\n",
    "        except ValueError as err:\n",
    "            print(err)\n",
    "            inter_data[\"scaled_n1\"].append(n1)\n",
    "            inter_data[\"flow\"].append(round(None))\n",
    "            inter_data[\"head\"].append(round(None))\n",
    "        if not suppressGraphs:\n",
    "            approval = np.zeros(3)\n",
    "            approval[0] = True if cur_head < MAX_PRESSURE else False\n",
    "            approval[1] = True if cur_head > MIN_PRESSURE else False\n",
    "            approval[2] = True if cur_flow > MIN_FLOW else False\n",
    "            if onlyApproved:\n",
    "                # print(colored(\"min pressure - Pass!\", \"green\")) if cur_head > MIN_PRESSURE else print(colored(\"min pressure - Fail!\", \"red\"))\n",
    "                # print(colored(\"min flow - Pass!\", \"green\")) if cur_flow > MIN_FLOW else print(colored(\"min flow - Fail!\", \"red\"))\n",
    "                if approval.all():\n",
    "                    showResults(df, motor_info, cost_pump, pipe_diameter, fullScaledPumpDia, i, poly_xvals, common_idx, poly_yvals_head, poly_yvals_sysd, fullScaledSpeed, n1, cur_head, cur_flow, poly_yvals_eff, cost_piping, approval)\n",
    "                    return True\n",
    "                else:\n",
    "                    return False\n",
    "            else:\n",
    "                showResults(df, motor_info, cost_pump, pipe_diameter, fullScaledPumpDia, i, poly_xvals, common_idx, poly_yvals_head, poly_yvals_sysd, fullScaledSpeed, n1, cur_head, cur_flow, poly_yvals_eff, cost_piping, approval)\n",
    "                return None"
   ]
  },
  {
   "cell_type": "code",
   "execution_count": 18,
   "metadata": {},
   "outputs": [],
   "source": [
    "def showResults(df, motor_info, cost_pump, pipe_diameter, fullScaledPumpDia, i, poly_xvals, common_idx, poly_yvals_head, poly_yvals_sysd, fullScaledSpeed, n1, cur_head, cur_flow, poly_yvals_eff, cost_piping, approval):\n",
    "    print(f\"Scaled Pump Curves - Pipe Diameter = {round(pipe_diameter/IN_TO_M, 0)}in.\".center(52, \"-\"))\n",
    "    print(f\"{i}. Point of intersection - flow (m^3/s):{round(poly_xvals[common_idx], 3)}, head (m): {round(poly_yvals_head[common_idx], 3)}\")\n",
    "    plt.scatter(df[\"flow\"], df[\"total_pump_head\"], color=\"green\")\n",
    "    plt.plot(poly_xvals, poly_yvals_head, label=\"total pump head\")\n",
    "    plt.plot(poly_xvals, poly_yvals_sysd, color=\"orange\", label=\"system demand\")\n",
    "    plt.title(f\"Pump Curve - Scaled Speed: {fullScaledSpeed} rpm; Model Speed: {n1}\")\n",
    "    plt.legend(title=\"Pump Speed\", loc='center left', bbox_to_anchor=(1, 0.75))\n",
    "    plt.ylabel(\"head (m)\")\n",
    "    plt.xlabel(\"flow (m^3/s)\")\n",
    "    plt.show()\n",
    "    print(f\"Satisfactory?:\")\n",
    "    print(colored(\"max pressure - Pass!\", \"green\")) if approval[0] else print(colored(\"max pressure - Fail!\", \"red\"))\n",
    "    print(colored(\"min pressure - Pass!\", \"green\")) if approval[1] else print(colored(\"min pressure - Fail!\", \"red\"))\n",
    "    print(colored(\"min flow - Pass!\", \"green\")) if approval[2] else print(colored(\"min flow - Fail!\", \"red\"))\n",
    "    cur_water_power = round(cur_head*cur_flow*RHO*G, 2)\n",
    "    cur_eff = round(poly_yvals_eff[common_idx], 3)\n",
    "    cur_shaft_power = round(cur_water_power/cur_eff, 3)\n",
    "    filt1_df = motor_info[motor_info[\"motor_speed\"] == fullScaledSpeed]\n",
    "    filt2_df = filt1_df[filt1_df[\"motor_hp\"] > cur_shaft_power].sort_values(by=\"motor_price\", ascending=True)\n",
    "    if filt2_df.empty:\n",
    "        bestMotor = \"No such motor is available\"\n",
    "        bestMotorPrice = np.NaN\n",
    "    else:\n",
    "        bestMotor = filt2_df.iloc[0][\"motor_name\"]\n",
    "        bestMotorPrice = filt2_df.iloc[0][\"motor_price\"]\n",
    "    print(f\"Full Scale Overview -> Pipe diameter: {round(pipe_diameter/IN_TO_M, 1)} in, Pump Speed: {fullScaledSpeed} rpm, Pump Diameter: {round(fullScaledPumpDia/IN_TO_M, 2)}in\")\n",
    "    print(f\"Motor: {bestMotor}\")\n",
    "    print(f\"Current Efficiency: {cur_eff}\")\n",
    "    print(f\"Water Power: {cur_water_power}W\")\n",
    "    print(f\"Shaft Power: {cur_shaft_power}W, {round(cur_shaft_power/HP_TO_W, 0)}hp\")\n",
    "    cost_power = (cur_shaft_power*24)/1000 * ENERGY_COST\n",
    "    print(f\"Expected total fixed costs = ${round(cost_piping+bestMotorPrice+cost_pump, 2)}\")\n",
    "    print(f\"Expected total electricity costs = ${round(cost_power, 2)}/day\")"
   ]
  },
  {
   "cell_type": "code",
   "execution_count": 19,
   "metadata": {},
   "outputs": [],
   "source": [
    "def main(model_dataset, d1, pipe_diameters, n2s, d2s, motor_info, onlyApproved=True, suppressGraphs=False):\n",
    "    for d2 in d2s:\n",
    "        for n2 in n2s:\n",
    "            for d in pipe_diameters:\n",
    "                scl_dfs = scalePump(model_dataset, n2, d1, d2)\n",
    "                exp_cost_piping = SCALE_PIPE_LENGTH * pipe_info.loc[d, \"pipe_cost\"]\n",
    "                exp_cost_pump = pump_info.loc[d2, \"pump_cost\"]\n",
    "                plotPumpCurve(scl_dfs, n2, d2, exp_cost_piping, exp_cost_pump, 0.008, SCALE_PIPE_LENGTH, d, motor_info, True, suppressGraphs, onlyApproved) # only scaling 3450"
   ]
  },
  {
   "cell_type": "markdown",
   "metadata": {},
   "source": [
    "## Different Pipe Diameters"
   ]
  },
  {
   "cell_type": "code",
   "execution_count": 20,
   "metadata": {},
   "outputs": [
    {
     "data": {
      "text/html": [
       "<div>\n",
       "<style scoped>\n",
       "    .dataframe tbody tr th:only-of-type {\n",
       "        vertical-align: middle;\n",
       "    }\n",
       "\n",
       "    .dataframe tbody tr th {\n",
       "        vertical-align: top;\n",
       "    }\n",
       "\n",
       "    .dataframe thead th {\n",
       "        text-align: right;\n",
       "    }\n",
       "</style>\n",
       "<table border=\"1\" class=\"dataframe\">\n",
       "  <thead>\n",
       "    <tr style=\"text-align: right;\">\n",
       "      <th></th>\n",
       "      <th>pipe_cost</th>\n",
       "    </tr>\n",
       "    <tr>\n",
       "      <th>pipe_diameter</th>\n",
       "      <th></th>\n",
       "    </tr>\n",
       "  </thead>\n",
       "  <tbody>\n",
       "    <tr>\n",
       "      <th>0.1016</th>\n",
       "      <td>4.330709</td>\n",
       "    </tr>\n",
       "    <tr>\n",
       "      <th>0.1524</th>\n",
       "      <td>8.989501</td>\n",
       "    </tr>\n",
       "    <tr>\n",
       "      <th>0.2032</th>\n",
       "      <td>15.091864</td>\n",
       "    </tr>\n",
       "    <tr>\n",
       "      <th>0.3048</th>\n",
       "      <td>28.018373</td>\n",
       "    </tr>\n",
       "    <tr>\n",
       "      <th>0.3810</th>\n",
       "      <td>53.543307</td>\n",
       "    </tr>\n",
       "    <tr>\n",
       "      <th>0.4572</th>\n",
       "      <td>64.370079</td>\n",
       "    </tr>\n",
       "    <tr>\n",
       "      <th>0.6096</th>\n",
       "      <td>110.170604</td>\n",
       "    </tr>\n",
       "    <tr>\n",
       "      <th>0.7620</th>\n",
       "      <td>175.524934</td>\n",
       "    </tr>\n",
       "    <tr>\n",
       "      <th>0.9144</th>\n",
       "      <td>204.461942</td>\n",
       "    </tr>\n",
       "    <tr>\n",
       "      <th>1.0668</th>\n",
       "      <td>298.622047</td>\n",
       "    </tr>\n",
       "    <tr>\n",
       "      <th>1.2192</th>\n",
       "      <td>379.921260</td>\n",
       "    </tr>\n",
       "  </tbody>\n",
       "</table>\n",
       "</div>"
      ],
      "text/plain": [
       "                pipe_cost\n",
       "pipe_diameter            \n",
       "0.1016           4.330709\n",
       "0.1524           8.989501\n",
       "0.2032          15.091864\n",
       "0.3048          28.018373\n",
       "0.3810          53.543307\n",
       "0.4572          64.370079\n",
       "0.6096         110.170604\n",
       "0.7620         175.524934\n",
       "0.9144         204.461942\n",
       "1.0668         298.622047\n",
       "1.2192         379.921260"
      ]
     },
     "execution_count": 20,
     "metadata": {},
     "output_type": "execute_result"
    }
   ],
   "source": [
    "pipe_info"
   ]
  },
  {
   "cell_type": "code",
   "execution_count": 21,
   "metadata": {},
   "outputs": [
    {
     "data": {
      "text/plain": [
       "pipe_diameter\n",
       "0.1016     4.0\n",
       "0.1524     6.0\n",
       "0.2032     8.0\n",
       "0.3048    12.0\n",
       "0.3810    15.0\n",
       "0.4572    18.0\n",
       "0.6096    24.0\n",
       "0.7620    30.0\n",
       "0.9144    36.0\n",
       "1.0668    42.0\n",
       "1.2192    48.0\n",
       "Name: pipe_diameter, dtype: float64"
      ]
     },
     "execution_count": 21,
     "metadata": {},
     "output_type": "execute_result"
    }
   ],
   "source": [
    "# equivalent diameters in metres (left) and inches (right)\n",
    "pipe_info.index.to_series().apply(lambda x: x/IN_TO_M)"
   ]
  },
  {
   "cell_type": "markdown",
   "metadata": {},
   "source": [
    "## Main Scaling and Testing Script"
   ]
  },
  {
   "cell_type": "code",
   "execution_count": 22,
   "metadata": {},
   "outputs": [
    {
     "data": {
      "text/plain": [
       "[3600, 1800, 1200]"
      ]
     },
     "execution_count": 22,
     "metadata": {},
     "output_type": "execute_result"
    }
   ],
   "source": [
    "list(set(motor_info[\"motor_speed\"].to_list()))"
   ]
  },
  {
   "cell_type": "code",
   "execution_count": 23,
   "metadata": {},
   "outputs": [
    {
     "data": {
      "text/plain": [
       "[0.1143,\n",
       " 0.127,\n",
       " 0.1397,\n",
       " 0.2159,\n",
       " 0.2349,\n",
       " 0.254,\n",
       " 0.2603,\n",
       " 0.2794,\n",
       " 0.3048,\n",
       " 0.3365,\n",
       " 0.3556,\n",
       " 0.3937,\n",
       " 0.4254]"
      ]
     },
     "execution_count": 23,
     "metadata": {},
     "output_type": "execute_result"
    }
   ],
   "source": [
    "pump_info.index.to_list()"
   ]
  },
  {
   "cell_type": "code",
   "execution_count": 24,
   "metadata": {},
   "outputs": [
    {
     "name": "stdout",
     "output_type": "stream",
     "text": [
      "----Scaled Pump Curves - Pipe Diameter = 12.0in.----\n",
      "0. Point of intersection - flow (m^3/s):0.088, head (m): 8.198\n"
     ]
    },
    {
     "data": {
      "image/png": "[encoded data removed]",
      "text/plain": [
       "<Figure size 576x396 with 1 Axes>"
      ]
     },
     "metadata": {},
     "output_type": "display_data"
    },
    {
     "name": "stdout",
     "output_type": "stream",
     "text": [
      "Satisfactory?:\n",
      "\u001b[32mmax pressure - Pass!\u001b[0m\n",
      "\u001b[31mmin pressure - Fail!\u001b[0m\n",
      "\u001b[31mmin flow - Fail!\u001b[0m\n",
      "Full Scale Overview -> Pipe diameter: 12.0 in, Pump Speed: 1800 rpm, Pump Diameter: 11.0in\n",
      "Motor: AC MOTOR 25HP 1800RPM 208-230/460VAC 3PH 284T\n",
      "Current Efficiency: 0.42\n",
      "Water Power: 7077.17W\n",
      "Shaft Power: 16850.405W, 23.0hp\n",
      "Expected total fixed costs = $92780.79\n",
      "Expected total electricity costs = $31.14/day\n"
     ]
    }
   ],
   "source": [
    "main(pn_dfs, 0.1143, [0.3048], [1800], [0.2794], motor_info, False)"
   ]
  },
  {
   "cell_type": "code",
   "execution_count": 25,
   "metadata": {},
   "outputs": [
    {
     "name": "stdout",
     "output_type": "stream",
     "text": [
      "----Scaled Pump Curves - Pipe Diameter = 15.0in.----\n",
      "0. Point of intersection - flow (m^3/s):0.316, head (m): 36.105\n"
     ]
    },
    {
     "data": {
      "image/png": "[encoded data removed]",
      "text/plain": [
       "<Figure size 576x396 with 1 Axes>"
      ]
     },
     "metadata": {},
     "output_type": "display_data"
    },
    {
     "name": "stdout",
     "output_type": "stream",
     "text": [
      "Satisfactory?:\n",
      "\u001b[32mmax pressure - Pass!\u001b[0m\n",
      "\u001b[32mmin pressure - Pass!\u001b[0m\n",
      "\u001b[32mmin flow - Pass!\u001b[0m\n",
      "Full Scale Overview -> Pipe diameter: 15.0 in, Pump Speed: 3600 rpm, Pump Diameter: 13.25in\n",
      "Motor: No such motor is available\n",
      "Current Efficiency: 0.393\n",
      "Water Power: 111924.06W\n",
      "Shaft Power: 284794.046W, 382.0hp\n",
      "Expected total fixed costs = $nan\n",
      "Expected total electricity costs = $526.3/day\n",
      "----Scaled Pump Curves - Pipe Diameter = 15.0in.----\n",
      "0. Point of intersection - flow (m^3/s):0.373, head (m): 40.32\n"
     ]
    },
    {
     "data": {
      "image/png": "[encoded data removed]",
      "text/plain": [
       "<Figure size 576x396 with 1 Axes>"
      ]
     },
     "metadata": {},
     "output_type": "display_data"
    },
    {
     "name": "stdout",
     "output_type": "stream",
     "text": [
      "Satisfactory?:\n",
      "\u001b[32mmax pressure - Pass!\u001b[0m\n",
      "\u001b[32mmin pressure - Pass!\u001b[0m\n",
      "\u001b[32mmin flow - Pass!\u001b[0m\n",
      "Full Scale Overview -> Pipe diameter: 15.0 in, Pump Speed: 3600 rpm, Pump Diameter: 14.0in\n",
      "Motor: No such motor is available\n",
      "Current Efficiency: 0.4\n",
      "Water Power: 147536.12W\n",
      "Shaft Power: 368840.3W, 495.0hp\n",
      "Expected total fixed costs = $nan\n",
      "Expected total electricity costs = $681.62/day\n",
      "----Scaled Pump Curves - Pipe Diameter = 18.0in.----\n",
      "0. Point of intersection - flow (m^3/s):0.518, head (m): 33.267\n"
     ]
    },
    {
     "data": {
      "image/png": "[encoded data removed]",
      "text/plain": [
       "<Figure size 576x396 with 1 Axes>"
      ]
     },
     "metadata": {},
     "output_type": "display_data"
    },
    {
     "name": "stdout",
     "output_type": "stream",
     "text": [
      "Satisfactory?:\n",
      "\u001b[32mmax pressure - Pass!\u001b[0m\n",
      "\u001b[32mmin pressure - Pass!\u001b[0m\n",
      "\u001b[32mmin flow - Pass!\u001b[0m\n",
      "Full Scale Overview -> Pipe diameter: 18.0 in, Pump Speed: 3600 rpm, Pump Diameter: 15.5in\n",
      "Motor: No such motor is available\n",
      "Current Efficiency: 0.362\n",
      "Water Power: 169048.92W\n",
      "Shaft Power: 466985.967W, 626.0hp\n",
      "Expected total fixed costs = $nan\n",
      "Expected total electricity costs = $862.99/day\n",
      "----Scaled Pump Curves - Pipe Diameter = 12.0in.----\n",
      "0. Point of intersection - flow (m^3/s):0.211, head (m): 37.34\n"
     ]
    },
    {
     "data": {
      "image/png": "[encoded data removed]",
      "text/plain": [
       "<Figure size 576x396 with 1 Axes>"
      ]
     },
     "metadata": {},
     "output_type": "display_data"
    },
    {
     "name": "stdout",
     "output_type": "stream",
     "text": [
      "Satisfactory?:\n",
      "\u001b[32mmax pressure - Pass!\u001b[0m\n",
      "\u001b[32mmin pressure - Pass!\u001b[0m\n",
      "\u001b[32mmin flow - Pass!\u001b[0m\n",
      "Full Scale Overview -> Pipe diameter: 12.0 in, Pump Speed: 1800 rpm, Pump Diameter: 15.5in\n",
      "Motor: AC MOTOR 200HP 1800RPM 208-230/460VAC 3PH 445/7T\n",
      "Current Efficiency: 0.688\n",
      "Water Power: 77290.44W\n",
      "Shaft Power: 112340.756W, 151.0hp\n",
      "Expected total fixed costs = $97408.79\n",
      "Expected total electricity costs = $207.61/day\n"
     ]
    }
   ],
   "source": [
    "main(pn_dfs, 0.1143, pipe_info.index.to_series(), [3600, 1800, 1200], pump_info.index.to_list(), motor_info)"
   ]
  },
  {
   "cell_type": "code",
   "execution_count": 26,
   "metadata": {},
   "outputs": [],
   "source": [
    "# filt_df = motor_info[motor_info[\"motor_speed\"] == 1800]\n",
    "# filt_df[filt_df[\"motor_hp\"] > 112340].sort_values(by=\"motor_price\", ascending=True).iloc[0][\"motor_name\"]"
   ]
  },
  {
   "cell_type": "code",
   "execution_count": null,
   "metadata": {},
   "outputs": [],
   "source": []
  }
 ],
 "metadata": {
  "interpreter": {
   "hash": "00d0da2beda986aec30816e4cd7fb4d22aa303e0c7be1e29f09be47940c81e46"
  },
  "kernelspec": {
   "display_name": "Python 3.9.5 64-bit",
   "language": "python",
   "name": "python3"
  },
  "language_info": {
   "codemirror_mode": {
    "name": "ipython",
    "version": 3
   },
   "file_extension": ".py",
   "mimetype": "text/x-python",
   "name": "python",
   "nbconvert_exporter": "python",
   "pygments_lexer": "ipython3",
   "version": "3.9.5"
  },
  "orig_nbformat": 4
 },
 "nbformat": 4,
 "nbformat_minor": 2
}
