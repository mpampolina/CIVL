{
 "cells": [
  {
   "cell_type": "markdown",
   "metadata": {},
   "source": [
    "# CIVL 300 - Question 2"
   ]
  },
  {
   "cell_type": "markdown",
   "metadata": {},
   "source": [
    "**Assumption:** Penalties and incentives are not included in the calculation of the price to the owner (P). Penalties and incentives are only included when accounting for \"costs\" in the determination of profit (π)."
   ]
  },
  {
   "cell_type": "code",
   "execution_count": 1,
   "metadata": {},
   "outputs": [],
   "source": [
    "import pandas as pd"
   ]
  },
  {
   "cell_type": "code",
   "execution_count": 2,
   "metadata": {},
   "outputs": [],
   "source": [
    "E = 12e6\n",
    "rate_CP = 0.13\n",
    "rate_LS = 0.15\n",
    "rate_GMP = 0.18"
   ]
  },
  {
   "cell_type": "code",
   "execution_count": 3,
   "metadata": {},
   "outputs": [],
   "source": [
    "data = {\n",
    "    \"Part\": [\"A\", \"B\", \"C\", \"D\"],\n",
    "    \"D\": [10, -5, 0, 5],\n",
    "    \"C\": [0, 0.05*E, 0.02*E, 0.10*E],\n",
    "    \"U\": [0.05*E, 0.02*E, -0.02*E, 0]\n",
    "}"
   ]
  },
  {
   "cell_type": "code",
   "execution_count": 4,
   "metadata": {},
   "outputs": [],
   "source": [
    "df = pd.DataFrame(data)"
   ]
  },
  {
   "cell_type": "code",
   "execution_count": 5,
   "metadata": {},
   "outputs": [
    {
     "data": {
      "text/html": [
       "<div>\n",
       "<style scoped>\n",
       "    .dataframe tbody tr th:only-of-type {\n",
       "        vertical-align: middle;\n",
       "    }\n",
       "\n",
       "    .dataframe tbody tr th {\n",
       "        vertical-align: top;\n",
       "    }\n",
       "\n",
       "    .dataframe thead th {\n",
       "        text-align: right;\n",
       "    }\n",
       "</style>\n",
       "<table border=\"1\" class=\"dataframe\">\n",
       "  <thead>\n",
       "    <tr style=\"text-align: right;\">\n",
       "      <th></th>\n",
       "      <th>Part</th>\n",
       "      <th>D</th>\n",
       "      <th>C</th>\n",
       "      <th>U</th>\n",
       "    </tr>\n",
       "  </thead>\n",
       "  <tbody>\n",
       "    <tr>\n",
       "      <th>0</th>\n",
       "      <td>A</td>\n",
       "      <td>10</td>\n",
       "      <td>0.0</td>\n",
       "      <td>600000.0</td>\n",
       "    </tr>\n",
       "    <tr>\n",
       "      <th>1</th>\n",
       "      <td>B</td>\n",
       "      <td>-5</td>\n",
       "      <td>600000.0</td>\n",
       "      <td>240000.0</td>\n",
       "    </tr>\n",
       "    <tr>\n",
       "      <th>2</th>\n",
       "      <td>C</td>\n",
       "      <td>0</td>\n",
       "      <td>240000.0</td>\n",
       "      <td>-240000.0</td>\n",
       "    </tr>\n",
       "    <tr>\n",
       "      <th>3</th>\n",
       "      <td>D</td>\n",
       "      <td>5</td>\n",
       "      <td>1200000.0</td>\n",
       "      <td>0.0</td>\n",
       "    </tr>\n",
       "  </tbody>\n",
       "</table>\n",
       "</div>"
      ],
      "text/plain": [
       "  Part   D          C         U\n",
       "0    A  10        0.0  600000.0\n",
       "1    B  -5   600000.0  240000.0\n",
       "2    C   0   240000.0 -240000.0\n",
       "3    D   5  1200000.0       0.0"
      ]
     },
     "execution_count": 5,
     "metadata": {},
     "output_type": "execute_result"
    }
   ],
   "source": [
    "df"
   ]
  },
  {
   "cell_type": "code",
   "execution_count": 6,
   "metadata": {},
   "outputs": [],
   "source": [
    "def price_LS(C, E, R):\n",
    "    return (E + C) * (1 + R) "
   ]
  },
  {
   "cell_type": "code",
   "execution_count": 7,
   "metadata": {},
   "outputs": [],
   "source": [
    "def price_GMP(E, R):\n",
    "    return E * (1 + R)"
   ]
  },
  {
   "cell_type": "code",
   "execution_count": 8,
   "metadata": {},
   "outputs": [],
   "source": [
    "def price_CP(A, C, R):\n",
    "    return (A + C) * (1 + R)"
   ]
  },
  {
   "cell_type": "code",
   "execution_count": 9,
   "metadata": {},
   "outputs": [],
   "source": [
    "def profit(P, C, D, A):\n",
    "        \n",
    "    pi = P - (A + C)\n",
    "    \n",
    "    if D < 0:\n",
    "        pi += 5e3 * abs(D)\n",
    "    else:\n",
    "        pi -= 2e4 * abs(D)\n",
    "    \n",
    "    return pi"
   ]
  },
  {
   "cell_type": "code",
   "execution_count": 10,
   "metadata": {},
   "outputs": [],
   "source": [
    "def profit_gmp(P, C, D, A):\n",
    "    if C > 3e5:\n",
    "        C_actuals = 3e5\n",
    "    else:\n",
    "        C_actuals = C\n",
    "    \n",
    "    pi = P - (A + C_actuals)\n",
    "    \n",
    "    if D < 0:\n",
    "        pi += 5e3 * abs(D)\n",
    "    else:\n",
    "        pi -= 2e4 * abs(D)\n",
    "    \n",
    "    return pi"
   ]
  },
  {
   "cell_type": "code",
   "execution_count": 11,
   "metadata": {},
   "outputs": [],
   "source": [
    "df[\"A\"] = df[\"U\"].apply(lambda x: x+E)"
   ]
  },
  {
   "cell_type": "code",
   "execution_count": 12,
   "metadata": {},
   "outputs": [],
   "source": [
    "df[\"P_cost\"] = df.apply(lambda rows: price_CP(rows[\"A\"], rows[\"C\"], rate_CP), axis=1)"
   ]
  },
  {
   "cell_type": "code",
   "execution_count": 13,
   "metadata": {},
   "outputs": [],
   "source": [
    "df[\"P_lump\"] = df.apply(lambda rows: price_LS(rows[\"C\"], E, rate_LS), axis=1)"
   ]
  },
  {
   "cell_type": "code",
   "execution_count": 14,
   "metadata": {},
   "outputs": [],
   "source": [
    "df[\"P_gmp\"] = df.apply(lambda rows: price_GMP(E, rate_GMP), axis=1)"
   ]
  },
  {
   "cell_type": "code",
   "execution_count": 15,
   "metadata": {},
   "outputs": [
    {
     "data": {
      "text/html": [
       "<div>\n",
       "<style scoped>\n",
       "    .dataframe tbody tr th:only-of-type {\n",
       "        vertical-align: middle;\n",
       "    }\n",
       "\n",
       "    .dataframe tbody tr th {\n",
       "        vertical-align: top;\n",
       "    }\n",
       "\n",
       "    .dataframe thead th {\n",
       "        text-align: right;\n",
       "    }\n",
       "</style>\n",
       "<table border=\"1\" class=\"dataframe\">\n",
       "  <thead>\n",
       "    <tr style=\"text-align: right;\">\n",
       "      <th></th>\n",
       "      <th>Part</th>\n",
       "      <th>D</th>\n",
       "      <th>C</th>\n",
       "      <th>U</th>\n",
       "      <th>A</th>\n",
       "      <th>P_cost</th>\n",
       "      <th>P_lump</th>\n",
       "      <th>P_gmp</th>\n",
       "    </tr>\n",
       "  </thead>\n",
       "  <tbody>\n",
       "    <tr>\n",
       "      <th>0</th>\n",
       "      <td>A</td>\n",
       "      <td>10</td>\n",
       "      <td>0.0</td>\n",
       "      <td>600000.0</td>\n",
       "      <td>12600000.0</td>\n",
       "      <td>14238000.0</td>\n",
       "      <td>13800000.0</td>\n",
       "      <td>14160000.0</td>\n",
       "    </tr>\n",
       "    <tr>\n",
       "      <th>1</th>\n",
       "      <td>B</td>\n",
       "      <td>-5</td>\n",
       "      <td>600000.0</td>\n",
       "      <td>240000.0</td>\n",
       "      <td>12240000.0</td>\n",
       "      <td>14509200.0</td>\n",
       "      <td>14490000.0</td>\n",
       "      <td>14160000.0</td>\n",
       "    </tr>\n",
       "    <tr>\n",
       "      <th>2</th>\n",
       "      <td>C</td>\n",
       "      <td>0</td>\n",
       "      <td>240000.0</td>\n",
       "      <td>-240000.0</td>\n",
       "      <td>11760000.0</td>\n",
       "      <td>13560000.0</td>\n",
       "      <td>14076000.0</td>\n",
       "      <td>14160000.0</td>\n",
       "    </tr>\n",
       "    <tr>\n",
       "      <th>3</th>\n",
       "      <td>D</td>\n",
       "      <td>5</td>\n",
       "      <td>1200000.0</td>\n",
       "      <td>0.0</td>\n",
       "      <td>12000000.0</td>\n",
       "      <td>14916000.0</td>\n",
       "      <td>15180000.0</td>\n",
       "      <td>14160000.0</td>\n",
       "    </tr>\n",
       "  </tbody>\n",
       "</table>\n",
       "</div>"
      ],
      "text/plain": [
       "  Part   D          C         U           A      P_cost      P_lump  \\\n",
       "0    A  10        0.0  600000.0  12600000.0  14238000.0  13800000.0   \n",
       "1    B  -5   600000.0  240000.0  12240000.0  14509200.0  14490000.0   \n",
       "2    C   0   240000.0 -240000.0  11760000.0  13560000.0  14076000.0   \n",
       "3    D   5  1200000.0       0.0  12000000.0  14916000.0  15180000.0   \n",
       "\n",
       "        P_gmp  \n",
       "0  14160000.0  \n",
       "1  14160000.0  \n",
       "2  14160000.0  \n",
       "3  14160000.0  "
      ]
     },
     "execution_count": 15,
     "metadata": {},
     "output_type": "execute_result"
    }
   ],
   "source": [
    "df"
   ]
  },
  {
   "cell_type": "code",
   "execution_count": 16,
   "metadata": {},
   "outputs": [],
   "source": [
    "df[\"π_cost\"] = df.apply(lambda rows: profit(rows[\"P_cost\"], rows[\"C\"], rows[\"D\"], rows[\"A\"]), axis=1)"
   ]
  },
  {
   "cell_type": "code",
   "execution_count": 17,
   "metadata": {},
   "outputs": [],
   "source": [
    "df[\"π_lump\"] = df.apply(lambda rows: profit(rows[\"P_lump\"], rows[\"C\"], rows[\"D\"], rows[\"A\"]), axis=1)"
   ]
  },
  {
   "cell_type": "code",
   "execution_count": 18,
   "metadata": {},
   "outputs": [],
   "source": [
    "df[\"π_gmp\"] = df.apply(lambda rows: profit_gmp(rows[\"P_gmp\"], rows[\"C\"], rows[\"D\"], rows[\"A\"]), axis=1)"
   ]
  },
  {
   "cell_type": "code",
   "execution_count": 19,
   "metadata": {},
   "outputs": [
    {
     "data": {
      "text/html": [
       "<div>\n",
       "<style scoped>\n",
       "    .dataframe tbody tr th:only-of-type {\n",
       "        vertical-align: middle;\n",
       "    }\n",
       "\n",
       "    .dataframe tbody tr th {\n",
       "        vertical-align: top;\n",
       "    }\n",
       "\n",
       "    .dataframe thead th {\n",
       "        text-align: right;\n",
       "    }\n",
       "</style>\n",
       "<table border=\"1\" class=\"dataframe\">\n",
       "  <thead>\n",
       "    <tr style=\"text-align: right;\">\n",
       "      <th></th>\n",
       "      <th>Part</th>\n",
       "      <th>D</th>\n",
       "      <th>C</th>\n",
       "      <th>U</th>\n",
       "      <th>A</th>\n",
       "      <th>P_cost</th>\n",
       "      <th>P_lump</th>\n",
       "      <th>P_gmp</th>\n",
       "      <th>π_cost</th>\n",
       "      <th>π_lump</th>\n",
       "      <th>π_gmp</th>\n",
       "    </tr>\n",
       "  </thead>\n",
       "  <tbody>\n",
       "    <tr>\n",
       "      <th>0</th>\n",
       "      <td>A</td>\n",
       "      <td>10</td>\n",
       "      <td>0.0</td>\n",
       "      <td>600000.0</td>\n",
       "      <td>12600000.0</td>\n",
       "      <td>14238000.0</td>\n",
       "      <td>13800000.0</td>\n",
       "      <td>14160000.0</td>\n",
       "      <td>1438000.0</td>\n",
       "      <td>1000000.0</td>\n",
       "      <td>1360000.0</td>\n",
       "    </tr>\n",
       "    <tr>\n",
       "      <th>1</th>\n",
       "      <td>B</td>\n",
       "      <td>-5</td>\n",
       "      <td>600000.0</td>\n",
       "      <td>240000.0</td>\n",
       "      <td>12240000.0</td>\n",
       "      <td>14509200.0</td>\n",
       "      <td>14490000.0</td>\n",
       "      <td>14160000.0</td>\n",
       "      <td>1694200.0</td>\n",
       "      <td>1675000.0</td>\n",
       "      <td>1645000.0</td>\n",
       "    </tr>\n",
       "    <tr>\n",
       "      <th>2</th>\n",
       "      <td>C</td>\n",
       "      <td>0</td>\n",
       "      <td>240000.0</td>\n",
       "      <td>-240000.0</td>\n",
       "      <td>11760000.0</td>\n",
       "      <td>13560000.0</td>\n",
       "      <td>14076000.0</td>\n",
       "      <td>14160000.0</td>\n",
       "      <td>1560000.0</td>\n",
       "      <td>2076000.0</td>\n",
       "      <td>2160000.0</td>\n",
       "    </tr>\n",
       "    <tr>\n",
       "      <th>3</th>\n",
       "      <td>D</td>\n",
       "      <td>5</td>\n",
       "      <td>1200000.0</td>\n",
       "      <td>0.0</td>\n",
       "      <td>12000000.0</td>\n",
       "      <td>14916000.0</td>\n",
       "      <td>15180000.0</td>\n",
       "      <td>14160000.0</td>\n",
       "      <td>1616000.0</td>\n",
       "      <td>1880000.0</td>\n",
       "      <td>1760000.0</td>\n",
       "    </tr>\n",
       "  </tbody>\n",
       "</table>\n",
       "</div>"
      ],
      "text/plain": [
       "  Part   D          C         U           A      P_cost      P_lump  \\\n",
       "0    A  10        0.0  600000.0  12600000.0  14238000.0  13800000.0   \n",
       "1    B  -5   600000.0  240000.0  12240000.0  14509200.0  14490000.0   \n",
       "2    C   0   240000.0 -240000.0  11760000.0  13560000.0  14076000.0   \n",
       "3    D   5  1200000.0       0.0  12000000.0  14916000.0  15180000.0   \n",
       "\n",
       "        P_gmp     π_cost     π_lump      π_gmp  \n",
       "0  14160000.0  1438000.0  1000000.0  1360000.0  \n",
       "1  14160000.0  1694200.0  1675000.0  1645000.0  \n",
       "2  14160000.0  1560000.0  2076000.0  2160000.0  \n",
       "3  14160000.0  1616000.0  1880000.0  1760000.0  "
      ]
     },
     "execution_count": 19,
     "metadata": {},
     "output_type": "execute_result"
    }
   ],
   "source": [
    "df"
   ]
  }
 ],
 "metadata": {
  "kernelspec": {
   "display_name": "Python 3",
   "language": "python",
   "name": "python3"
  },
  "language_info": {
   "codemirror_mode": {
    "name": "ipython",
    "version": 3
   },
   "file_extension": ".py",
   "mimetype": "text/x-python",
   "name": "python",
   "nbconvert_exporter": "python",
   "pygments_lexer": "ipython3",
   "version": "3.8.6rc1"
  }
 },
 "nbformat": 4,
 "nbformat_minor": 4
}
