{
 "cells": [
  {
   "cell_type": "code",
   "execution_count": 1,
   "metadata": {},
   "outputs": [],
   "source": [
    "import pandas as pd\n",
    "import matplotlib.pyplot as plt\n",
    "import numpy as np\n",
    "import math\n",
    "from sklearn.linear_model import LinearRegression\n",
    "from matplotlib.ticker import PercentFormatter\n",
    "from scipy.stats import uniform, triang\n",
    "from cpm import getPCritical, getCDF"
   ]
  },
  {
   "cell_type": "markdown",
   "metadata": {},
   "source": [
    "## Problem 1:"
   ]
  },
  {
   "cell_type": "code",
   "execution_count": 2,
   "metadata": {},
   "outputs": [],
   "source": [
    "homework3 = [\n",
    "    {\n",
    "        \"id\": \"A\",\n",
    "        \"min_duration\": 5,\n",
    "        \"ml_duration\": None,\n",
    "        \"max_duration\": 7,\n",
    "        \"predecessor\": [],\n",
    "    },\n",
    "    {\n",
    "        \"id\": \"B\",\n",
    "        \"min_duration\": 4,\n",
    "        \"ml_duration\": None,\n",
    "        \"max_duration\": 7,\n",
    "        \"predecessor\": [\"A\"],\n",
    "    },\n",
    "    {\n",
    "        \"id\": \"C\",\n",
    "        \"min_duration\": 6,\n",
    "        \"ml_duration\": 8,\n",
    "        \"max_duration\": 9,\n",
    "        \"predecessor\": [\"A\"],\n",
    "    },\n",
    "    {\n",
    "        \"id\": \"D\",\n",
    "        \"min_duration\": 2,\n",
    "        \"ml_duration\": None,\n",
    "        \"max_duration\": 3,\n",
    "        \"predecessor\": [\"B\", \"C\"],\n",
    "    },\n",
    "    {\n",
    "        \"id\": \"E\",\n",
    "        \"min_duration\": 4,\n",
    "        \"ml_duration\": 5,\n",
    "        \"max_duration\": 6,\n",
    "        \"predecessor\": [\"D\"],\n",
    "    },\n",
    "    {\n",
    "        \"id\": \"F\",\n",
    "        \"min_duration\": 1,\n",
    "        \"ml_duration\": None,\n",
    "        \"max_duration\": 1,\n",
    "        \"predecessor\": [\"E\"],\n",
    "    }\n",
    "]\n",
    "PCritical, activityIDs = getPCritical(homework3)\n",
    "dataset = getCDF(homework3)"
   ]
  },
  {
   "cell_type": "code",
   "execution_count": 3,
   "metadata": {},
   "outputs": [
    {
     "data": {
      "image/png": "[encoded data removed]",
      "text/plain": [
       "<Figure size 432x288 with 1 Axes>"
      ]
     },
     "metadata": {
      "needs_background": "light"
     },
     "output_type": "display_data"
    }
   ],
   "source": [
    "arr_durations = np.array([data[\"x\"] for data in dataset])\n",
    "arr_percentages = np.array([data[\"y\"] for data in dataset])\n",
    "\n",
    "ax = plt.plot(arr_durations, arr_percentages)\n",
    "plt.title(\"Cumulative distribution of project duration.\")\n",
    "plt.xlabel(\"Duration (Weeks)\")\n",
    "plt.ylabel(\"Probability\")\n",
    "\n",
    "# set y-axis ticks as percent values, with 1 being 100%\n",
    "plt.gca().yaxis.set_major_formatter(PercentFormatter(1))\n",
    "plt.show()"
   ]
  },
  {
   "cell_type": "code",
   "execution_count": 4,
   "metadata": {},
   "outputs": [
    {
     "data": {
      "image/png": "[encoded data removed]",
      "text/plain": [
       "<Figure size 432x288 with 1 Axes>"
      ]
     },
     "metadata": {
      "needs_background": "light"
     },
     "output_type": "display_data"
    }
   ],
   "source": [
    "plt.bar(activityIDs, PCritical)\n",
    "plt.title(\"Probability of an activity falling on the critical path.\")\n",
    "plt.xlabel(\"Activity IDs\")\n",
    "plt.ylabel(\"Probability\")\n",
    "plt.gca().yaxis.set_major_formatter(PercentFormatter(1))\n",
    "plt.show()"
   ]
  },
  {
   "cell_type": "markdown",
   "metadata": {},
   "source": [
    "## Problem 2:"
   ]
  },
  {
   "cell_type": "markdown",
   "metadata": {},
   "source": [
    "## Set-Up"
   ]
  },
  {
   "cell_type": "code",
   "execution_count": 5,
   "metadata": {},
   "outputs": [
    {
     "data": {
      "text/plain": [
       "116160.0"
      ]
     },
     "execution_count": 5,
     "metadata": {},
     "output_type": "execute_result"
    }
   ],
   "source": [
    "# quantity of units for the new highway milling project\n",
    "qnew = (((2 * 9) + (4 * 12)) * (3 * 5280)) / 9\n",
    "qnew"
   ]
  },
  {
   "cell_type": "code",
   "execution_count": 6,
   "metadata": {},
   "outputs": [],
   "source": [
    "df = pd.read_csv(\"./CIVL-300-3-2.csv\")"
   ]
  },
  {
   "cell_type": "code",
   "execution_count": 7,
   "metadata": {},
   "outputs": [
    {
     "data": {
      "text/html": [
       "<div>\n",
       "<style scoped>\n",
       "    .dataframe tbody tr th:only-of-type {\n",
       "        vertical-align: middle;\n",
       "    }\n",
       "\n",
       "    .dataframe tbody tr th {\n",
       "        vertical-align: top;\n",
       "    }\n",
       "\n",
       "    .dataframe thead th {\n",
       "        text-align: right;\n",
       "    }\n",
       "</style>\n",
       "<table border=\"1\" class=\"dataframe\">\n",
       "  <thead>\n",
       "    <tr style=\"text-align: right;\">\n",
       "      <th></th>\n",
       "      <th>Item_Description</th>\n",
       "      <th>Unit</th>\n",
       "      <th>Quantity</th>\n",
       "      <th>Unit Cost</th>\n",
       "      <th>Total Cost</th>\n",
       "    </tr>\n",
       "  </thead>\n",
       "  <tbody>\n",
       "    <tr>\n",
       "      <th>0</th>\n",
       "      <td>MILL ASPHALT CONCRETE PAVEMENT IN DEPTH 105744</td>\n",
       "      <td>S.Y.</td>\n",
       "      <td>38125.000</td>\n",
       "      <td>1.00000</td>\n",
       "      <td>38125</td>\n",
       "    </tr>\n",
       "    <tr>\n",
       "      <th>1</th>\n",
       "      <td>MILL ASPHALT CONCRETE PAVEMENT IN DEPTH 105759</td>\n",
       "      <td>S.Y.</td>\n",
       "      <td>19923.000</td>\n",
       "      <td>1.37000</td>\n",
       "      <td>27295</td>\n",
       "    </tr>\n",
       "    <tr>\n",
       "      <th>2</th>\n",
       "      <td>MILL ASPHALT CONCRETE PAVEMENT IN DEPTH 105836</td>\n",
       "      <td>S.Y.</td>\n",
       "      <td>22518.000</td>\n",
       "      <td>0.92000</td>\n",
       "      <td>20717</td>\n",
       "    </tr>\n",
       "    <tr>\n",
       "      <th>3</th>\n",
       "      <td>MILL ASPHALT CONCRETE PAVEMENT IN DEPTH 105868</td>\n",
       "      <td>S.Y.</td>\n",
       "      <td>6300.000</td>\n",
       "      <td>2.62000</td>\n",
       "      <td>16506</td>\n",
       "    </tr>\n",
       "    <tr>\n",
       "      <th>4</th>\n",
       "      <td>MILL ASPHALT CONCRETE PAVEMENT VARIABLE DEPT 1...</td>\n",
       "      <td>S.Y.</td>\n",
       "      <td>68781.388</td>\n",
       "      <td>1.88965</td>\n",
       "      <td>129973</td>\n",
       "    </tr>\n",
       "    <tr>\n",
       "      <th>...</th>\n",
       "      <td>...</td>\n",
       "      <td>...</td>\n",
       "      <td>...</td>\n",
       "      <td>...</td>\n",
       "      <td>...</td>\n",
       "    </tr>\n",
       "    <tr>\n",
       "      <th>525</th>\n",
       "      <td>MILL ASPHALT CONCRETE PAVEMENT VARIABLE DEPT 1...</td>\n",
       "      <td>S.Y.</td>\n",
       "      <td>178520.000</td>\n",
       "      <td>1.04000</td>\n",
       "      <td>185661</td>\n",
       "    </tr>\n",
       "    <tr>\n",
       "      <th>526</th>\n",
       "      <td>MILL ASPHALT CONCRETE PAVEMENT VARIABLE DEPT 1...</td>\n",
       "      <td>S.Y.</td>\n",
       "      <td>159800.000</td>\n",
       "      <td>0.94000</td>\n",
       "      <td>150212</td>\n",
       "    </tr>\n",
       "    <tr>\n",
       "      <th>527</th>\n",
       "      <td>MILL ASPHALT CONCRETE PAVEMENT VARIABLE DEPT 1...</td>\n",
       "      <td>S.Y.</td>\n",
       "      <td>109300.000</td>\n",
       "      <td>1.30000</td>\n",
       "      <td>142090</td>\n",
       "    </tr>\n",
       "    <tr>\n",
       "      <th>528</th>\n",
       "      <td>MILL ASPHALT CONCRETE PAVEMENT VARIABLE DEPT 1...</td>\n",
       "      <td>S.Y.</td>\n",
       "      <td>6700.000</td>\n",
       "      <td>2.55000</td>\n",
       "      <td>17085</td>\n",
       "    </tr>\n",
       "    <tr>\n",
       "      <th>529</th>\n",
       "      <td>MILL ASPHALT CONCRETE PAVEMENT VARIABLE DEPT 1...</td>\n",
       "      <td>S.Y.</td>\n",
       "      <td>1450.000</td>\n",
       "      <td>4.27000</td>\n",
       "      <td>6192</td>\n",
       "    </tr>\n",
       "  </tbody>\n",
       "</table>\n",
       "<p>530 rows × 5 columns</p>\n",
       "</div>"
      ],
      "text/plain": [
       "                                      Item_Description  Unit    Quantity  \\\n",
       "0       MILL ASPHALT CONCRETE PAVEMENT IN DEPTH 105744  S.Y.   38125.000   \n",
       "1       MILL ASPHALT CONCRETE PAVEMENT IN DEPTH 105759  S.Y.   19923.000   \n",
       "2       MILL ASPHALT CONCRETE PAVEMENT IN DEPTH 105836  S.Y.   22518.000   \n",
       "3       MILL ASPHALT CONCRETE PAVEMENT IN DEPTH 105868  S.Y.    6300.000   \n",
       "4    MILL ASPHALT CONCRETE PAVEMENT VARIABLE DEPT 1...  S.Y.   68781.388   \n",
       "..                                                 ...   ...         ...   \n",
       "525  MILL ASPHALT CONCRETE PAVEMENT VARIABLE DEPT 1...  S.Y.  178520.000   \n",
       "526  MILL ASPHALT CONCRETE PAVEMENT VARIABLE DEPT 1...  S.Y.  159800.000   \n",
       "527  MILL ASPHALT CONCRETE PAVEMENT VARIABLE DEPT 1...  S.Y.  109300.000   \n",
       "528  MILL ASPHALT CONCRETE PAVEMENT VARIABLE DEPT 1...  S.Y.    6700.000   \n",
       "529  MILL ASPHALT CONCRETE PAVEMENT VARIABLE DEPT 1...  S.Y.    1450.000   \n",
       "\n",
       "     Unit Cost  Total Cost  \n",
       "0      1.00000       38125  \n",
       "1      1.37000       27295  \n",
       "2      0.92000       20717  \n",
       "3      2.62000       16506  \n",
       "4      1.88965      129973  \n",
       "..         ...         ...  \n",
       "525    1.04000      185661  \n",
       "526    0.94000      150212  \n",
       "527    1.30000      142090  \n",
       "528    2.55000       17085  \n",
       "529    4.27000        6192  \n",
       "\n",
       "[530 rows x 5 columns]"
      ]
     },
     "execution_count": 7,
     "metadata": {},
     "output_type": "execute_result"
    }
   ],
   "source": [
    "df"
   ]
  },
  {
   "cell_type": "markdown",
   "metadata": {},
   "source": [
    "## Question A:"
   ]
  },
  {
   "cell_type": "markdown",
   "metadata": {},
   "source": [
    "Since TC = FC + Average Cost of Production * q. If we draw a line of best fit we should see a y-intercept referring to the best fit Fixed Cost value, which is 0"
   ]
  },
  {
   "cell_type": "code",
   "execution_count": 8,
   "metadata": {},
   "outputs": [
    {
     "data": {
      "image/png": "[encoded data removed]",
      "text/plain": [
       "<Figure size 432x288 with 1 Axes>"
      ]
     },
     "metadata": {
      "needs_background": "light"
     },
     "output_type": "display_data"
    }
   ],
   "source": [
    "slope, intercept = np.polyfit(df[\"Quantity\"], df[\"Total Cost\"], 1)\n",
    "plt.scatter(df[\"Quantity\"], df[\"Total Cost\"])\n",
    "xvals = np.linspace(0, df[\"Quantity\"].max(), 1000)\n",
    "plt.plot(xvals, slope*xvals + intercept, label=f\"y={round(slope, 2)}x + {round(intercept, 2)}\")\n",
    "\n",
    "plt.xlim(left=0)\n",
    "plt.ylim(bottom=0)\n",
    "plt.title(\"Total Cost vs. Quantity\")\n",
    "plt.xlabel(\"Quantity (q)\")\n",
    "plt.ylabel(\"Total Cost (TC)\")\n",
    "plt.legend()\n",
    "fig = plt.gcf()\n",
    "plt.show()\n",
    "fig.savefig(f\"TCversusq.png\")"
   ]
  },
  {
   "cell_type": "markdown",
   "metadata": {},
   "source": [
    "## Question B:"
   ]
  },
  {
   "cell_type": "code",
   "execution_count": 9,
   "metadata": {},
   "outputs": [
    {
     "data": {
      "image/png": "[encoded data removed]",
      "text/plain": [
       "<Figure size 432x288 with 1 Axes>"
      ]
     },
     "metadata": {
      "needs_background": "light"
     },
     "output_type": "display_data"
    }
   ],
   "source": [
    "df[\"ln_AC\"] = df[\"Unit Cost\"].apply(lambda x: math.log(x))\n",
    "df[\"ln_q\"] = df[\"Quantity\"].apply(lambda x: math.log(x))\n",
    "df.plot.scatter(x=\"ln_q\", y=\"ln_AC\")\n",
    "fig = plt.gcf()\n",
    "plt.title(\"ln(Average Cost) versus ln(Quantity)\")\n",
    "plt.show()\n",
    "# fig.savefig(f\"lnACversuslnq.png\")"
   ]
  },
  {
   "cell_type": "code",
   "execution_count": 10,
   "metadata": {},
   "outputs": [],
   "source": [
    "# reshape so that ln_q has 1 column and an inferred number of rows (-1)\n",
    "lnq = df[\"ln_q\"].to_numpy().reshape((-1, 1))"
   ]
  },
  {
   "cell_type": "code",
   "execution_count": 11,
   "metadata": {},
   "outputs": [],
   "source": [
    "linear_reg1 = LinearRegression().fit(lnq, df[\"ln_AC\"])"
   ]
  },
  {
   "cell_type": "code",
   "execution_count": 12,
   "metadata": {},
   "outputs": [
    {
     "data": {
      "text/plain": [
       "3.9510869914521853"
      ]
     },
     "execution_count": 12,
     "metadata": {},
     "output_type": "execute_result"
    }
   ],
   "source": [
    "linear_reg1.intercept_ # ln(c)"
   ]
  },
  {
   "cell_type": "code",
   "execution_count": 13,
   "metadata": {},
   "outputs": [
    {
     "data": {
      "text/plain": [
       "-0.324649736366176"
      ]
     },
     "execution_count": 13,
     "metadata": {},
     "output_type": "execute_result"
    }
   ],
   "source": [
    "mprime = linear_reg1.coef_[0] # m' = m - 1\n",
    "mprime"
   ]
  },
  {
   "cell_type": "code",
   "execution_count": 14,
   "metadata": {},
   "outputs": [
    {
     "data": {
      "text/plain": [
       "0.675350263633824"
      ]
     },
     "execution_count": 14,
     "metadata": {},
     "output_type": "execute_result"
    }
   ],
   "source": [
    "m = mprime + 1 # m\n",
    "m"
   ]
  },
  {
   "cell_type": "code",
   "execution_count": 15,
   "metadata": {},
   "outputs": [
    {
     "data": {
      "text/plain": [
       "1.4807131259849506"
      ]
     },
     "execution_count": 15,
     "metadata": {},
     "output_type": "execute_result"
    }
   ],
   "source": [
    "alpha = 1/m # alpha = 1/m\n",
    "alpha"
   ]
  },
  {
   "cell_type": "markdown",
   "metadata": {},
   "source": [
    "#### Summary:\n",
    "* alpha > 1, therefore increasing returns to scale is present\n",
    "* Downward trending linear relationship between log (average cost) and log (quantity)\n",
    "* Downward trend indicates increasing returns to scale (an increase in input causes a greater increase in output for higher inputs)\n",
    "* Increasing returns to scale leads economies of scale (as output increase, the average cost to produce a unit of output decreases)"
   ]
  },
  {
   "cell_type": "markdown",
   "metadata": {},
   "source": [
    "## Question C:"
   ]
  },
  {
   "cell_type": "code",
   "execution_count": 16,
   "metadata": {},
   "outputs": [],
   "source": [
    "df[\"ln_TC\"] = df[\"Total Cost\"].apply(lambda x: math.log(x))"
   ]
  },
  {
   "cell_type": "code",
   "execution_count": 17,
   "metadata": {},
   "outputs": [
    {
     "data": {
      "text/plain": [
       "3.951107708339456"
      ]
     },
     "execution_count": 17,
     "metadata": {},
     "output_type": "execute_result"
    }
   ],
   "source": [
    "linear_reg2 = LinearRegression().fit(lnq, df[\"ln_TC\"])\n",
    "b2 = linear_reg2.intercept_ # ln(c)\n",
    "b2 "
   ]
  },
  {
   "cell_type": "code",
   "execution_count": 18,
   "metadata": {},
   "outputs": [
    {
     "data": {
      "text/plain": [
       "0.6753485152666654"
      ]
     },
     "execution_count": 18,
     "metadata": {},
     "output_type": "execute_result"
    }
   ],
   "source": [
    "m2 = linear_reg2.coef_[0] # m value, same as before\n",
    "m2"
   ]
  },
  {
   "cell_type": "code",
   "execution_count": 19,
   "metadata": {},
   "outputs": [
    {
     "data": {
      "text/plain": [
       "51.992927948364105"
      ]
     },
     "execution_count": 19,
     "metadata": {},
     "output_type": "execute_result"
    }
   ],
   "source": [
    "c2 = math.e**(b2) # c\n",
    "c2"
   ]
  },
  {
   "cell_type": "code",
   "execution_count": 20,
   "metadata": {},
   "outputs": [
    {
     "data": {
      "text/plain": [
       "136969.1409550474"
      ]
     },
     "execution_count": 20,
     "metadata": {},
     "output_type": "execute_result"
    }
   ],
   "source": [
    "TC2 = c2 * qnew ** m2 # Total_Cost = c * q**m\n",
    "TC2"
   ]
  },
  {
   "cell_type": "code",
   "execution_count": 21,
   "metadata": {},
   "outputs": [
    {
     "data": {
      "text/plain": [
       "3.7136534150943397"
      ]
     },
     "execution_count": 21,
     "metadata": {},
     "output_type": "execute_result"
    }
   ],
   "source": [
    "avg_UnitCost = df[\"Unit Cost\"].mean()\n",
    "avg_UnitCost"
   ]
  },
  {
   "cell_type": "code",
   "execution_count": 22,
   "metadata": {},
   "outputs": [
    {
     "data": {
      "text/plain": [
       "431377.9806973585"
      ]
     },
     "execution_count": 22,
     "metadata": {},
     "output_type": "execute_result"
    }
   ],
   "source": [
    "qnew * avg_UnitCost"
   ]
  },
  {
   "cell_type": "code",
   "execution_count": 23,
   "metadata": {},
   "outputs": [
    {
     "data": {
      "text/plain": [
       "count    530.000000\n",
       "mean       3.713653\n",
       "std        5.545760\n",
       "min        0.420000\n",
       "25%        1.322500\n",
       "50%        2.065000\n",
       "75%        3.697500\n",
       "max       75.590000\n",
       "Name: Unit Cost, dtype: float64"
      ]
     },
     "execution_count": 23,
     "metadata": {},
     "output_type": "execute_result"
    }
   ],
   "source": [
    "df[\"Unit Cost\"].describe()"
   ]
  },
  {
   "cell_type": "code",
   "execution_count": 24,
   "metadata": {},
   "outputs": [
    {
     "data": {
      "text/plain": [
       "2.065"
      ]
     },
     "execution_count": 24,
     "metadata": {},
     "output_type": "execute_result"
    }
   ],
   "source": [
    "df[\"Unit Cost\"].median()"
   ]
  },
  {
   "cell_type": "code",
   "execution_count": 25,
   "metadata": {},
   "outputs": [
    {
     "data": {
      "text/plain": [
       "239870.4"
      ]
     },
     "execution_count": 25,
     "metadata": {},
     "output_type": "execute_result"
    }
   ],
   "source": [
    "qnew * df[\"Unit Cost\"].median()"
   ]
  },
  {
   "cell_type": "code",
   "execution_count": 26,
   "metadata": {},
   "outputs": [
    {
     "data": {
      "text/plain": [
       "1.7512733038073467"
      ]
     },
     "execution_count": 26,
     "metadata": {},
     "output_type": "execute_result"
    }
   ],
   "source": [
    "qnew * df[\"Unit Cost\"].median()/TC2"
   ]
  },
  {
   "cell_type": "code",
   "execution_count": 27,
   "metadata": {},
   "outputs": [
    {
     "data": {
      "text/plain": [
       "<AxesSubplot:>"
      ]
     },
     "execution_count": 27,
     "metadata": {},
     "output_type": "execute_result"
    },
    {
     "data": {
      "image/png": "[encoded data removed]",
      "text/plain": [
       "<Figure size 432x288 with 1 Axes>"
      ]
     },
     "metadata": {
      "needs_background": "light"
     },
     "output_type": "display_data"
    }
   ],
   "source": [
    "df[\"Unit Cost\"].hist(bins=50)"
   ]
  },
  {
   "cell_type": "code",
   "execution_count": 28,
   "metadata": {},
   "outputs": [
    {
     "data": {
      "text/html": [
       "<div>\n",
       "<style scoped>\n",
       "    .dataframe tbody tr th:only-of-type {\n",
       "        vertical-align: middle;\n",
       "    }\n",
       "\n",
       "    .dataframe tbody tr th {\n",
       "        vertical-align: top;\n",
       "    }\n",
       "\n",
       "    .dataframe thead th {\n",
       "        text-align: right;\n",
       "    }\n",
       "</style>\n",
       "<table border=\"1\" class=\"dataframe\">\n",
       "  <thead>\n",
       "    <tr style=\"text-align: right;\">\n",
       "      <th></th>\n",
       "      <th>Item_Description</th>\n",
       "      <th>Unit</th>\n",
       "      <th>Quantity</th>\n",
       "      <th>Unit Cost</th>\n",
       "      <th>Total Cost</th>\n",
       "      <th>ln_AC</th>\n",
       "      <th>ln_q</th>\n",
       "      <th>ln_TC</th>\n",
       "    </tr>\n",
       "  </thead>\n",
       "  <tbody>\n",
       "    <tr>\n",
       "      <th>48</th>\n",
       "      <td>MILL ASPHALT CONCRETE PAVEMENT VARIABLE DEPT 1...</td>\n",
       "      <td>S.Y.</td>\n",
       "      <td>30.0</td>\n",
       "      <td>75.59</td>\n",
       "      <td>2268</td>\n",
       "      <td>4.325324</td>\n",
       "      <td>3.401197</td>\n",
       "      <td>7.726654</td>\n",
       "    </tr>\n",
       "    <tr>\n",
       "      <th>328</th>\n",
       "      <td>MILL ASPHALT CONCRETE PAVEMENT VARIABLE DEPT 1...</td>\n",
       "      <td>S.Y.</td>\n",
       "      <td>100.0</td>\n",
       "      <td>35.00</td>\n",
       "      <td>3500</td>\n",
       "      <td>3.555348</td>\n",
       "      <td>4.605170</td>\n",
       "      <td>8.160518</td>\n",
       "    </tr>\n",
       "    <tr>\n",
       "      <th>420</th>\n",
       "      <td>MILL ASPHALT CONCRETE PAVEMENT VARIABLE DEPT 1...</td>\n",
       "      <td>S.Y.</td>\n",
       "      <td>267.0</td>\n",
       "      <td>32.50</td>\n",
       "      <td>8678</td>\n",
       "      <td>3.481240</td>\n",
       "      <td>5.587249</td>\n",
       "      <td>9.068546</td>\n",
       "    </tr>\n",
       "    <tr>\n",
       "      <th>345</th>\n",
       "      <td>MILL ASPHALT CONCRETE PAVEMENT VARIABLE DEPT 1...</td>\n",
       "      <td>S.Y.</td>\n",
       "      <td>147.0</td>\n",
       "      <td>32.00</td>\n",
       "      <td>4704</td>\n",
       "      <td>3.465736</td>\n",
       "      <td>4.990433</td>\n",
       "      <td>8.456168</td>\n",
       "    </tr>\n",
       "    <tr>\n",
       "      <th>149</th>\n",
       "      <td>MILL ASPHALT CONCRETE PAVEMENT VARIABLE DEPT 1...</td>\n",
       "      <td>S.Y.</td>\n",
       "      <td>919.0</td>\n",
       "      <td>31.00</td>\n",
       "      <td>28489</td>\n",
       "      <td>3.433987</td>\n",
       "      <td>6.823286</td>\n",
       "      <td>10.257273</td>\n",
       "    </tr>\n",
       "    <tr>\n",
       "      <th>410</th>\n",
       "      <td>MILL ASPHALT CONCRETE PAVEMENT VARIABLE DEPT 1...</td>\n",
       "      <td>S.Y.</td>\n",
       "      <td>220.0</td>\n",
       "      <td>25.00</td>\n",
       "      <td>5500</td>\n",
       "      <td>3.218876</td>\n",
       "      <td>5.393628</td>\n",
       "      <td>8.612503</td>\n",
       "    </tr>\n",
       "    <tr>\n",
       "      <th>130</th>\n",
       "      <td>MILL ASPHALT CONCRETE PAVEMENT VARIABLE DEPT 1...</td>\n",
       "      <td>S.Y.</td>\n",
       "      <td>200.0</td>\n",
       "      <td>24.05</td>\n",
       "      <td>4810</td>\n",
       "      <td>3.180135</td>\n",
       "      <td>5.298317</td>\n",
       "      <td>8.478452</td>\n",
       "    </tr>\n",
       "    <tr>\n",
       "      <th>352</th>\n",
       "      <td>MILL ASPHALT CONCRETE PAVEMENT VARIABLE DEPT 1...</td>\n",
       "      <td>S.Y.</td>\n",
       "      <td>370.0</td>\n",
       "      <td>23.15</td>\n",
       "      <td>8566</td>\n",
       "      <td>3.141995</td>\n",
       "      <td>5.913503</td>\n",
       "      <td>9.055556</td>\n",
       "    </tr>\n",
       "    <tr>\n",
       "      <th>515</th>\n",
       "      <td>MILL ASPHALT CONCRETE PAVEMENT VARIABLE DEPT 1...</td>\n",
       "      <td>S.Y.</td>\n",
       "      <td>225.0</td>\n",
       "      <td>22.65</td>\n",
       "      <td>5096</td>\n",
       "      <td>3.120160</td>\n",
       "      <td>5.416100</td>\n",
       "      <td>8.536211</td>\n",
       "    </tr>\n",
       "    <tr>\n",
       "      <th>409</th>\n",
       "      <td>MILL ASPHALT CONCRETE PAVEMENT VARIABLE DEPT 1...</td>\n",
       "      <td>S.Y.</td>\n",
       "      <td>400.0</td>\n",
       "      <td>20.75</td>\n",
       "      <td>8300</td>\n",
       "      <td>3.032546</td>\n",
       "      <td>5.991465</td>\n",
       "      <td>9.024011</td>\n",
       "    </tr>\n",
       "  </tbody>\n",
       "</table>\n",
       "</div>"
      ],
      "text/plain": [
       "                                      Item_Description  Unit  Quantity  \\\n",
       "48   MILL ASPHALT CONCRETE PAVEMENT VARIABLE DEPT 1...  S.Y.      30.0   \n",
       "328  MILL ASPHALT CONCRETE PAVEMENT VARIABLE DEPT 1...  S.Y.     100.0   \n",
       "420  MILL ASPHALT CONCRETE PAVEMENT VARIABLE DEPT 1...  S.Y.     267.0   \n",
       "345  MILL ASPHALT CONCRETE PAVEMENT VARIABLE DEPT 1...  S.Y.     147.0   \n",
       "149  MILL ASPHALT CONCRETE PAVEMENT VARIABLE DEPT 1...  S.Y.     919.0   \n",
       "410  MILL ASPHALT CONCRETE PAVEMENT VARIABLE DEPT 1...  S.Y.     220.0   \n",
       "130  MILL ASPHALT CONCRETE PAVEMENT VARIABLE DEPT 1...  S.Y.     200.0   \n",
       "352  MILL ASPHALT CONCRETE PAVEMENT VARIABLE DEPT 1...  S.Y.     370.0   \n",
       "515  MILL ASPHALT CONCRETE PAVEMENT VARIABLE DEPT 1...  S.Y.     225.0   \n",
       "409  MILL ASPHALT CONCRETE PAVEMENT VARIABLE DEPT 1...  S.Y.     400.0   \n",
       "\n",
       "     Unit Cost  Total Cost     ln_AC      ln_q      ln_TC  \n",
       "48       75.59        2268  4.325324  3.401197   7.726654  \n",
       "328      35.00        3500  3.555348  4.605170   8.160518  \n",
       "420      32.50        8678  3.481240  5.587249   9.068546  \n",
       "345      32.00        4704  3.465736  4.990433   8.456168  \n",
       "149      31.00       28489  3.433987  6.823286  10.257273  \n",
       "410      25.00        5500  3.218876  5.393628   8.612503  \n",
       "130      24.05        4810  3.180135  5.298317   8.478452  \n",
       "352      23.15        8566  3.141995  5.913503   9.055556  \n",
       "515      22.65        5096  3.120160  5.416100   8.536211  \n",
       "409      20.75        8300  3.032546  5.991465   9.024011  "
      ]
     },
     "execution_count": 28,
     "metadata": {},
     "output_type": "execute_result"
    }
   ],
   "source": [
    "df.loc[df[\"Unit Cost\"].nlargest(10).index]"
   ]
  },
  {
   "cell_type": "code",
   "execution_count": 29,
   "metadata": {},
   "outputs": [
    {
     "data": {
      "text/plain": [
       "1.2634090909090907"
      ]
     },
     "execution_count": 29,
     "metadata": {},
     "output_type": "execute_result"
    }
   ],
   "source": [
    "df.loc[df[\"Quantity\"] >= 80000][\"Unit Cost\"].mean()"
   ]
  },
  {
   "cell_type": "code",
   "execution_count": 30,
   "metadata": {},
   "outputs": [
    {
     "data": {
      "text/plain": [
       "146757.59999999998"
      ]
     },
     "execution_count": 30,
     "metadata": {},
     "output_type": "execute_result"
    }
   ],
   "source": [
    "# price generated from mean Unit Cost from observations with a quantity greater 80 000 yd^2\n",
    "df.loc[df[\"Quantity\"] >= 80000][\"Unit Cost\"].mean() * qnew"
   ]
  }
 ],
 "metadata": {
  "kernelspec": {
   "display_name": "Python 3",
   "language": "python",
   "name": "python3"
  },
  "language_info": {
   "codemirror_mode": {
    "name": "ipython",
    "version": 3
   },
   "file_extension": ".py",
   "mimetype": "text/x-python",
   "name": "python",
   "nbconvert_exporter": "python",
   "pygments_lexer": "ipython3",
   "version": "3.8.6rc1"
  }
 },
 "nbformat": 4,
 "nbformat_minor": 4
}
