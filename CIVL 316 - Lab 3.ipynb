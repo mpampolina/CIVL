{
 "cells": [
  {
   "cell_type": "code",
   "execution_count": 1,
   "metadata": {},
   "outputs": [],
   "source": [
    "import pandas as pd\n",
    "import numpy as np\n",
    "import matplotlib.pyplot as plt\n",
    "from math import sqrt\n",
    "from sympy.solvers import solve\n",
    "from sympy import Symbol\n",
    "from pprint import pprint"
   ]
  },
  {
   "cell_type": "code",
   "execution_count": 2,
   "metadata": {},
   "outputs": [],
   "source": [
    "df_sww = pd.read_csv(\"SWW.csv\")\n",
    "df_frate = pd.read_csv(\"Frate.csv\")\n",
    "df_profiles = pd.read_csv(\"Profiles.csv\")\n",
    "bucketSize = 0.005 # m3"
   ]
  },
  {
   "cell_type": "code",
   "execution_count": 3,
   "metadata": {},
   "outputs": [
    {
     "data": {
      "text/plain": [
       "0    0.001340\n",
       "1    0.001348\n",
       "2    0.001196\n",
       "Name: Time to fill 5L bucket (s), dtype: float64"
      ]
     },
     "execution_count": 3,
     "metadata": {},
     "output_type": "execute_result"
    }
   ],
   "source": [
    "df_frate[\"Time to fill 5L bucket (s)\"].apply(lambda x: bucketSize/x)"
   ]
  },
  {
   "cell_type": "code",
   "execution_count": 4,
   "metadata": {},
   "outputs": [],
   "source": [
    "# CONSTANTS\n",
    "n = 0.01\n",
    "B = 0.065\n",
    "# Q = df_frate[\"Time to fill 5L bucket (s)\"].apply(lambda x: bucketSize/x).mean()\n",
    "Q = 0.001196\n",
    "g = 9.81 # m/s^2\n",
    "q = Q/B"
   ]
  },
  {
   "cell_type": "code",
   "execution_count": 5,
   "metadata": {},
   "outputs": [
    {
     "data": {
      "text/html": [
       "<div>\n",
       "<style scoped>\n",
       "    .dataframe tbody tr th:only-of-type {\n",
       "        vertical-align: middle;\n",
       "    }\n",
       "\n",
       "    .dataframe tbody tr th {\n",
       "        vertical-align: top;\n",
       "    }\n",
       "\n",
       "    .dataframe thead th {\n",
       "        text-align: right;\n",
       "    }\n",
       "</style>\n",
       "<table border=\"1\" class=\"dataframe\">\n",
       "  <thead>\n",
       "    <tr style=\"text-align: right;\">\n",
       "      <th></th>\n",
       "      <th>Trial</th>\n",
       "      <th>Mean Depth (m)</th>\n",
       "      <th>Wave Time (s)</th>\n",
       "      <th>Distance (m)</th>\n",
       "    </tr>\n",
       "  </thead>\n",
       "  <tbody>\n",
       "    <tr>\n",
       "      <th>0</th>\n",
       "      <td>1</td>\n",
       "      <td>0.026</td>\n",
       "      <td>8.5</td>\n",
       "      <td>4.038</td>\n",
       "    </tr>\n",
       "    <tr>\n",
       "      <th>1</th>\n",
       "      <td>2</td>\n",
       "      <td>0.046</td>\n",
       "      <td>6.3</td>\n",
       "      <td>4.038</td>\n",
       "    </tr>\n",
       "    <tr>\n",
       "      <th>2</th>\n",
       "      <td>3</td>\n",
       "      <td>0.054</td>\n",
       "      <td>4.7</td>\n",
       "      <td>4.038</td>\n",
       "    </tr>\n",
       "  </tbody>\n",
       "</table>\n",
       "</div>"
      ],
      "text/plain": [
       "   Trial  Mean Depth (m)  Wave Time (s)  Distance (m)\n",
       "0      1           0.026            8.5         4.038\n",
       "1      2           0.046            6.3         4.038\n",
       "2      3           0.054            4.7         4.038"
      ]
     },
     "execution_count": 5,
     "metadata": {},
     "output_type": "execute_result"
    }
   ],
   "source": [
    "df_sww"
   ]
  },
  {
   "cell_type": "code",
   "execution_count": 6,
   "metadata": {},
   "outputs": [],
   "source": [
    "def shallowCelerity(d, g=9.81):\n",
    "    return sqrt(g*d)"
   ]
  },
  {
   "cell_type": "code",
   "execution_count": 7,
   "metadata": {},
   "outputs": [],
   "source": [
    "def getErrors(actual, theoretical):\n",
    "    return abs((actual-theoretical)/theoretical)*100"
   ]
  },
  {
   "cell_type": "code",
   "execution_count": 8,
   "metadata": {},
   "outputs": [
    {
     "data": {
      "text/plain": [
       "0    0.026\n",
       "1    0.046\n",
       "2    0.054\n",
       "Name: Mean Depth (m), dtype: float64"
      ]
     },
     "execution_count": 8,
     "metadata": {},
     "output_type": "execute_result"
    }
   ],
   "source": [
    "df_sww[\"Mean Depth (m)\"]"
   ]
  },
  {
   "cell_type": "code",
   "execution_count": 9,
   "metadata": {},
   "outputs": [],
   "source": [
    "df_sww[\"Propagation Speed (m/s)\"] = df_sww[\"Mean Depth (m)\"].apply(shallowCelerity)"
   ]
  },
  {
   "cell_type": "code",
   "execution_count": 10,
   "metadata": {},
   "outputs": [],
   "source": [
    "df_sww[\"Propagation Speed Actual (m/s)\"] = df_sww.apply(lambda rows: rows[\"Distance (m)\"]/rows[\"Wave Time (s)\"], axis=1)"
   ]
  },
  {
   "cell_type": "code",
   "execution_count": 11,
   "metadata": {},
   "outputs": [],
   "source": [
    "df_sww[\"Errors (%)\"] = df_sww.apply(lambda rows: getErrors(rows[\"Propagation Speed Actual (m/s)\"], rows[\"Propagation Speed (m/s)\"]), axis=1)"
   ]
  },
  {
   "cell_type": "code",
   "execution_count": 12,
   "metadata": {},
   "outputs": [
    {
     "data": {
      "text/html": [
       "<div>\n",
       "<style scoped>\n",
       "    .dataframe tbody tr th:only-of-type {\n",
       "        vertical-align: middle;\n",
       "    }\n",
       "\n",
       "    .dataframe tbody tr th {\n",
       "        vertical-align: top;\n",
       "    }\n",
       "\n",
       "    .dataframe thead th {\n",
       "        text-align: right;\n",
       "    }\n",
       "</style>\n",
       "<table border=\"1\" class=\"dataframe\">\n",
       "  <thead>\n",
       "    <tr style=\"text-align: right;\">\n",
       "      <th></th>\n",
       "      <th>Trial</th>\n",
       "      <th>Mean Depth (m)</th>\n",
       "      <th>Wave Time (s)</th>\n",
       "      <th>Distance (m)</th>\n",
       "      <th>Propagation Speed (m/s)</th>\n",
       "      <th>Propagation Speed Actual (m/s)</th>\n",
       "      <th>Errors (%)</th>\n",
       "    </tr>\n",
       "  </thead>\n",
       "  <tbody>\n",
       "    <tr>\n",
       "      <th>0</th>\n",
       "      <td>1</td>\n",
       "      <td>0.026</td>\n",
       "      <td>8.5</td>\n",
       "      <td>4.038</td>\n",
       "      <td>0.505035</td>\n",
       "      <td>0.475059</td>\n",
       "      <td>5.935400</td>\n",
       "    </tr>\n",
       "    <tr>\n",
       "      <th>1</th>\n",
       "      <td>2</td>\n",
       "      <td>0.046</td>\n",
       "      <td>6.3</td>\n",
       "      <td>4.038</td>\n",
       "      <td>0.671759</td>\n",
       "      <td>0.640952</td>\n",
       "      <td>4.585947</td>\n",
       "    </tr>\n",
       "    <tr>\n",
       "      <th>2</th>\n",
       "      <td>3</td>\n",
       "      <td>0.054</td>\n",
       "      <td>4.7</td>\n",
       "      <td>4.038</td>\n",
       "      <td>0.727832</td>\n",
       "      <td>0.859149</td>\n",
       "      <td>18.042140</td>\n",
       "    </tr>\n",
       "  </tbody>\n",
       "</table>\n",
       "</div>"
      ],
      "text/plain": [
       "   Trial  Mean Depth (m)  Wave Time (s)  Distance (m)  \\\n",
       "0      1           0.026            8.5         4.038   \n",
       "1      2           0.046            6.3         4.038   \n",
       "2      3           0.054            4.7         4.038   \n",
       "\n",
       "   Propagation Speed (m/s)  Propagation Speed Actual (m/s)  Errors (%)  \n",
       "0                 0.505035                        0.475059    5.935400  \n",
       "1                 0.671759                        0.640952    4.585947  \n",
       "2                 0.727832                        0.859149   18.042140  "
      ]
     },
     "execution_count": 12,
     "metadata": {},
     "output_type": "execute_result"
    }
   ],
   "source": [
    "df_sww"
   ]
  },
  {
   "cell_type": "code",
   "execution_count": 13,
   "metadata": {},
   "outputs": [
    {
     "data": {
      "text/html": [
       "<div>\n",
       "<style scoped>\n",
       "    .dataframe tbody tr th:only-of-type {\n",
       "        vertical-align: middle;\n",
       "    }\n",
       "\n",
       "    .dataframe tbody tr th {\n",
       "        vertical-align: top;\n",
       "    }\n",
       "\n",
       "    .dataframe thead th {\n",
       "        text-align: right;\n",
       "    }\n",
       "</style>\n",
       "<table border=\"1\" class=\"dataframe\">\n",
       "  <thead>\n",
       "    <tr style=\"text-align: right;\">\n",
       "      <th></th>\n",
       "      <th>Condition</th>\n",
       "      <th>Value</th>\n",
       "      <th>Flume 1</th>\n",
       "      <th>Flume 2</th>\n",
       "    </tr>\n",
       "  </thead>\n",
       "  <tbody>\n",
       "    <tr>\n",
       "      <th>0</th>\n",
       "      <td>1</td>\n",
       "      <td>slope (%)</td>\n",
       "      <td>0.500</td>\n",
       "      <td>0.500</td>\n",
       "    </tr>\n",
       "    <tr>\n",
       "      <th>1</th>\n",
       "      <td>1</td>\n",
       "      <td>depth (m)</td>\n",
       "      <td>0.035</td>\n",
       "      <td>0.038</td>\n",
       "    </tr>\n",
       "    <tr>\n",
       "      <th>2</th>\n",
       "      <td>2</td>\n",
       "      <td>slope (%)</td>\n",
       "      <td>2.000</td>\n",
       "      <td>2.000</td>\n",
       "    </tr>\n",
       "    <tr>\n",
       "      <th>3</th>\n",
       "      <td>2</td>\n",
       "      <td>depth (m)</td>\n",
       "      <td>0.024</td>\n",
       "      <td>0.014</td>\n",
       "    </tr>\n",
       "    <tr>\n",
       "      <th>4</th>\n",
       "      <td>3</td>\n",
       "      <td>slope (%)</td>\n",
       "      <td>0.500</td>\n",
       "      <td>2.000</td>\n",
       "    </tr>\n",
       "    <tr>\n",
       "      <th>5</th>\n",
       "      <td>3</td>\n",
       "      <td>depth (m)</td>\n",
       "      <td>0.022</td>\n",
       "      <td>0.021</td>\n",
       "    </tr>\n",
       "    <tr>\n",
       "      <th>6</th>\n",
       "      <td>4</td>\n",
       "      <td>slope (%)</td>\n",
       "      <td>2.000</td>\n",
       "      <td>0.500</td>\n",
       "    </tr>\n",
       "    <tr>\n",
       "      <th>7</th>\n",
       "      <td>4</td>\n",
       "      <td>depth (m)</td>\n",
       "      <td>0.028</td>\n",
       "      <td>0.024</td>\n",
       "    </tr>\n",
       "  </tbody>\n",
       "</table>\n",
       "</div>"
      ],
      "text/plain": [
       "   Condition      Value  Flume 1  Flume 2\n",
       "0          1  slope (%)    0.500    0.500\n",
       "1          1  depth (m)    0.035    0.038\n",
       "2          2  slope (%)    2.000    2.000\n",
       "3          2  depth (m)    0.024    0.014\n",
       "4          3  slope (%)    0.500    2.000\n",
       "5          3  depth (m)    0.022    0.021\n",
       "6          4  slope (%)    2.000    0.500\n",
       "7          4  depth (m)    0.028    0.024"
      ]
     },
     "execution_count": 13,
     "metadata": {},
     "output_type": "execute_result"
    }
   ],
   "source": [
    "df_profiles"
   ]
  },
  {
   "cell_type": "code",
   "execution_count": 14,
   "metadata": {},
   "outputs": [],
   "source": [
    "cond1 = {\"Condition\": 1, \"So\": (0.005, 0.005), \"y\": (0.035, 0.038)}\n",
    "cond2 = {\"Condition\": 2, \"So\": (0.02, 0.02), \"y\": (0.024, 0.014)}\n",
    "cond3 = {\"Condition\": 3, \"So\": (0.005, 0.02), \"y\":(0.022, 0.021)}\n",
    "cond4 = {\"Condition\": 4, \"So\": (0.02, 0.005), \"y\": (0.028, 0.024)}\n",
    "\n",
    "conditions = [cond1, cond2, cond3, cond4]"
   ]
  },
  {
   "cell_type": "code",
   "execution_count": 15,
   "metadata": {},
   "outputs": [],
   "source": [
    "def getRh(yn, b):\n",
    "    return (b*yn) / (b+2*yn)"
   ]
  },
  {
   "cell_type": "code",
   "execution_count": 16,
   "metadata": {},
   "outputs": [],
   "source": [
    "def getC(Rh):\n",
    "    return (Rh**(1/6)/n)"
   ]
  },
  {
   "cell_type": "code",
   "execution_count": 17,
   "metadata": {},
   "outputs": [],
   "source": [
    "# function of B, n, Q, So\n",
    "def getYo(So):\n",
    "    yo = Symbol(\"yo\")\n",
    "    normal_eqn = ((yo*B)**(5/3)/(2*yo+B)**(2/3)) - (n*Q)/sqrt(So)\n",
    "    return solve(normal_eqn, yo)[0]"
   ]
  },
  {
   "cell_type": "code",
   "execution_count": 18,
   "metadata": {},
   "outputs": [],
   "source": [
    "# uniform flow velocity\n",
    "def getFr(cond):\n",
    "    yns = []\n",
    "    velocities = []\n",
    "    velocitiesNorm = []\n",
    "    froudeNumbers = []\n",
    "    froudeNumbersYn = []\n",
    "#     velocitiesChezy = []\n",
    "#     froudeNumbersChezy = []\n",
    "    for y, slope in zip(cond[\"y\"], cond[\"So\"]):\n",
    "        yn = getYo(slope)\n",
    "        rh = getRh(yn, B)\n",
    "        C = getC(rh)\n",
    "        velocity = Q/(y*B)\n",
    "        velocityNorm = Q/(yn*B)\n",
    "        froudeNumber = velocity/sqrt(g*y)\n",
    "        froudeNumberYn = velocityNorm/sqrt(g*yn)\n",
    "        yns.append(yn)\n",
    "        velocities.append(velocity)\n",
    "        velocitiesNorm.append(velocityNorm)\n",
    "        froudeNumbers.append(froudeNumber)\n",
    "        froudeNumbersYn.append(froudeNumberYn)\n",
    "#         velocityChezy = C*sqrt(rh*slope)\n",
    "#         velocitiesChezy.append(velocityChezy)\n",
    "#         froudeNumberChezy = velocityChezy/sqrt(g*yn)\n",
    "#         froudeNumbersChezy.append(froudeNumberChezy)\n",
    "    cond[\"yn\"] = tuple(yns)\n",
    "    cond[\"v\"] = tuple(velocities)\n",
    "    cond[\"v0\"] = tuple(velocitiesNorm)\n",
    "    cond[\"Fr\"] = tuple(froudeNumbers)\n",
    "    cond[\"FrYn\"] = tuple(froudeNumbersYn)\n",
    "#     cond[\"vC\"] = tuple(velocitiesChezy)\n",
    "#     cond[\"FrC\"] = tuple(froudeNumbersChezy)"
   ]
  },
  {
   "cell_type": "code",
   "execution_count": 19,
   "metadata": {},
   "outputs": [],
   "source": [
    "for condition in conditions:\n",
    "    getFr(condition)"
   ]
  },
  {
   "cell_type": "code",
   "execution_count": 20,
   "metadata": {},
   "outputs": [
    {
     "name": "stdout",
     "output_type": "stream",
     "text": [
      "{'Condition': 1,\n",
      " 'Fr': (0.8971834480861082, 0.7930634307012617),\n",
      " 'FrYn': (0.779419049559500, 0.779419049559500),\n",
      " 'So': (0.005, 0.005),\n",
      " 'v': (0.5257142857142857, 0.4842105263157895),\n",
      " 'v0': (0.478640695430140, 0.478640695430140),\n",
      " 'y': (0.035, 0.038),\n",
      " 'yn': (0.0384421971965097, 0.0384421971965097)}\n",
      "{'Condition': 2,\n",
      " 'Fr': (1.5800340884831183, 3.5464289686944213),\n",
      " 'FrYn': (1.68546340324189, 1.68546340324189),\n",
      " 'So': (0.02, 0.02),\n",
      " 'v': (0.7666666666666666, 1.3142857142857143),\n",
      " 'v0': (0.800402607584072, 0.800402607584072),\n",
      " 'y': (0.024, 0.014),\n",
      " 'yn': (0.0229884308542402, 0.0229884308542402)}\n",
      "{'Condition': 3,\n",
      " 'Fr': (1.8003183084212, 1.930431418294691),\n",
      " 'FrYn': (0.779419049559500, 1.68546340324189),\n",
      " 'So': (0.005, 0.02),\n",
      " 'v': (0.8363636363636363, 0.8761904761904761),\n",
      " 'v0': (0.478640695430140, 0.800402607584072),\n",
      " 'y': (0.022, 0.021),\n",
      " 'yn': (0.0384421971965097, 0.0229884308542402)}\n",
      "{'Condition': 4,\n",
      " 'Fr': (1.2538519863801196, 1.5800340884831183),\n",
      " 'FrYn': (1.68546340324189, 0.779419049559500),\n",
      " 'So': (0.02, 0.005),\n",
      " 'v': (0.6571428571428571, 0.7666666666666666),\n",
      " 'v0': (0.800402607584072, 0.478640695430140),\n",
      " 'y': (0.028, 0.024),\n",
      " 'yn': (0.0229884308542402, 0.0384421971965097)}\n"
     ]
    }
   ],
   "source": [
    "for condition in conditions:\n",
    "    pprint(condition)"
   ]
  },
  {
   "cell_type": "code",
   "execution_count": 21,
   "metadata": {},
   "outputs": [
    {
     "data": {
      "text/plain": [
       "{'Condition': 4,\n",
       " 'So': (0.02, 0.005),\n",
       " 'y': (0.028, 0.024),\n",
       " 'yn': (0.0229884308542402, 0.0384421971965097),\n",
       " 'v': (0.6571428571428571, 0.7666666666666666),\n",
       " 'v0': (0.800402607584072, 0.478640695430140),\n",
       " 'Fr': (1.2538519863801196, 1.5800340884831183),\n",
       " 'FrYn': (1.68546340324189, 0.779419049559500)}"
      ]
     },
     "execution_count": 21,
     "metadata": {},
     "output_type": "execute_result"
    }
   ],
   "source": [
    "cond4"
   ]
  },
  {
   "cell_type": "code",
   "execution_count": 22,
   "metadata": {},
   "outputs": [
    {
     "data": {
      "text/plain": [
       "0.03255783712440861"
      ]
     },
     "execution_count": 22,
     "metadata": {},
     "output_type": "execute_result"
    }
   ],
   "source": [
    "# theoretical yc\n",
    "def cbrt(x):\n",
    "    if 0 <=x: return x**(1./3.)\n",
    "    return -(-x)**(1./3.)\n",
    "\n",
    "yc = cbrt((q**2/g))\n",
    "yc"
   ]
  },
  {
   "cell_type": "code",
   "execution_count": null,
   "metadata": {},
   "outputs": [],
   "source": []
  }
 ],
 "metadata": {
  "kernelspec": {
   "display_name": "Python 3",
   "language": "python",
   "name": "python3"
  },
  "language_info": {
   "codemirror_mode": {
    "name": "ipython",
    "version": 3
   },
   "file_extension": ".py",
   "mimetype": "text/x-python",
   "name": "python",
   "nbconvert_exporter": "python",
   "pygments_lexer": "ipython3",
   "version": "3.8.6rc1"
  }
 },
 "nbformat": 4,
 "nbformat_minor": 4
}
